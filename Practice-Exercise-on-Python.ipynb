{
 "cells": [
  {
   "cell_type": "code",
   "execution_count": null,
   "id": "5398e858-f843-47e3-b42a-31b24668733e",
   "metadata": {},
   "outputs": [],
   "source": []
  },
  {
   "cell_type": "markdown",
   "id": "e28358de-fce8-4d82-98fa-dc4c10d6d9eb",
   "metadata": {
    "colab_type": "text",
    "id": "VmC18Vrx3wCo",
    "tags": []
   },
   "source": [
    "\n",
    "# Python Crash Course Exercises \n",
    "\n"
   ]
  },
  {
   "cell_type": "markdown",
   "id": "ab0ead78-5b4e-4d63-87e1-d5476b29f9a4",
   "metadata": {
    "colab_type": "text",
    "id": "jEssZy6i3wCp"
   },
   "source": [
    "## Exercises 1\n",
    "\n",
    "Answer the questions or complete the tasks outlined in bold below, use the specific method described if applicable."
   ]
  },
  {
   "cell_type": "markdown",
   "id": "4cfceb6a-892a-4bda-879d-a68948542736",
   "metadata": {
    "colab_type": "text",
    "id": "gg0BBORo3wCq"
   },
   "source": [
    "** What is 7 to the power of 4?**"
   ]
  },
  {
   "cell_type": "code",
   "execution_count": 1,
   "id": "3b04da72-b400-4deb-a73a-a24bf91f58c1",
   "metadata": {
    "colab": {},
    "colab_type": "code",
    "id": "xrOnt_2C3wCr",
    "outputId": "c64ffc30-3444-4d96-c6f3-5d132ced7050"
   },
   "outputs": [
    {
     "data": {
      "text/plain": [
       "2401"
      ]
     },
     "execution_count": 1,
     "metadata": {},
     "output_type": "execute_result"
    }
   ],
   "source": [
    "7 ** 4"
   ]
  },
  {
   "cell_type": "markdown",
   "id": "4081b9f3-e630-4852-85ab-0d5cd19cf637",
   "metadata": {
    "colab_type": "text",
    "id": "bGKVFIR03wCt"
   },
   "source": [
    "** Split this string:**\n",
    "\n",
    "    s = \"Hi there Sam!\"\n",
    "    \n",
    "**into a list. **"
   ]
  },
  {
   "cell_type": "code",
   "execution_count": 3,
   "id": "c0b1d11d-066d-474f-ae50-ee72db1662c9",
   "metadata": {
    "colab": {},
    "colab_type": "code",
    "id": "7j24fFL63wCu"
   },
   "outputs": [],
   "source": [
    "s = \"Hi there Sam!\""
   ]
  },
  {
   "cell_type": "code",
   "execution_count": 4,
   "id": "cd0928d6-8d24-4914-aea1-ee5a1a0a0263",
   "metadata": {
    "colab": {},
    "colab_type": "code",
    "id": "x2kc9AAG3wCx",
    "outputId": "7355ecef-f229-4f73-becf-22e8bc630f9c"
   },
   "outputs": [
    {
     "data": {
      "text/plain": [
       "['Hi', 'there', 'Sam!']"
      ]
     },
     "execution_count": 4,
     "metadata": {},
     "output_type": "execute_result"
    }
   ],
   "source": [
    "s.split()"
   ]
  },
  {
   "cell_type": "markdown",
   "id": "32fac578-3664-4a1a-b4f3-c4dab5eed992",
   "metadata": {
    "colab_type": "text",
    "id": "q-PrWw8G3wCz"
   },
   "source": [
    "** Given the variables:**\n",
    "\n",
    "    planet = \"Earth\"\n",
    "    diameter = 12742\n",
    "\n",
    "** Use .format() to print the following string: **\n",
    "\n",
    "    The diameter of Earth is 12742 kilometers."
   ]
  },
  {
   "cell_type": "code",
   "execution_count": 5,
   "id": "1169a398-866f-4e55-8f52-d22c4a8d319b",
   "metadata": {
    "colab": {},
    "colab_type": "code",
    "id": "phQi0sBN3wCz"
   },
   "outputs": [],
   "source": [
    "planet = \"Earth\"\n",
    "diameter = 12742"
   ]
  },
  {
   "cell_type": "code",
   "execution_count": 6,
   "id": "2e553201-63f2-434a-aaa1-01f244b9fbca",
   "metadata": {
    "colab": {},
    "colab_type": "code",
    "id": "I8zug8Pv3wC1",
    "outputId": "985be397-8fb8-4ab2-b8e5-59109092059a",
    "scrolled": true
   },
   "outputs": [
    {
     "name": "stdout",
     "output_type": "stream",
     "text": [
      "The diameter of Earth is 12742 kilometers.\n"
     ]
    }
   ],
   "source": [
    "print(\"The diameter of {} is {} kilometers.\".format(planet, diameter))"
   ]
  },
  {
   "cell_type": "markdown",
   "id": "704dda87-6385-408c-bbe0-a9d2977b3f4f",
   "metadata": {
    "colab_type": "text",
    "id": "fyDYlHGz3wC3"
   },
   "source": [
    "** Given this nested list, use indexing to grab the word \"hello\" **"
   ]
  },
  {
   "cell_type": "code",
   "execution_count": 8,
   "id": "3c2f9b47-d3e6-43f3-a746-400038f214e1",
   "metadata": {
    "colab": {},
    "colab_type": "code",
    "id": "Wdfl3ceK3wC5"
   },
   "outputs": [],
   "source": [
    "lst = [1,2,[3,4],[5,[100,200,['hello']],23,11],1,7]"
   ]
  },
  {
   "cell_type": "code",
   "execution_count": 9,
   "id": "b6f9f87b-552b-4025-a609-9ebe782e74cd",
   "metadata": {
    "colab": {},
    "colab_type": "code",
    "id": "AxTQK-1w3wC7",
    "outputId": "e84dfeae-5e9b-4b84-c61d-79f414bc688b"
   },
   "outputs": [
    {
     "data": {
      "text/plain": [
       "'hello'"
      ]
     },
     "execution_count": 9,
     "metadata": {},
     "output_type": "execute_result"
    }
   ],
   "source": [
    "lst[3][1][2][0]"
   ]
  },
  {
   "cell_type": "markdown",
   "id": "d72a0fab-ec88-489c-bf4a-d9dfc86ed3d4",
   "metadata": {
    "colab_type": "text",
    "id": "tmvs7erM3wC9"
   },
   "source": [
    "** Given this nested dictionary grab the word \"hello\". Be prepared, this will be annoying/tricky **"
   ]
  },
  {
   "cell_type": "code",
   "execution_count": 11,
   "id": "a38c725d-c1dd-437d-9e8a-cb739bb5c8fa",
   "metadata": {
    "colab": {},
    "colab_type": "code",
    "id": "aWX8xa6j3wC-"
   },
   "outputs": [],
   "source": [
    "d = {'k1':[1,2,3,{'tricky':['oh','man','inception',{'target':[1,2,3,'hello']}]}]}"
   ]
  },
  {
   "cell_type": "code",
   "execution_count": 12,
   "id": "39594d4b-a8a1-4642-90cb-efb61315f7a4",
   "metadata": {
    "colab": {},
    "colab_type": "code",
    "id": "OtpdZKru3wC_",
    "outputId": "da8a7c13-1f2b-429b-ffc3-c016bdde02ea"
   },
   "outputs": [
    {
     "data": {
      "text/plain": [
       "'hello'"
      ]
     },
     "execution_count": 12,
     "metadata": {},
     "output_type": "execute_result"
    }
   ],
   "source": [
    "d['k1'][3]['tricky'][3]['target'][3]\n"
   ]
  },
  {
   "cell_type": "markdown",
   "id": "4e8803ff-c95d-4e5e-a908-bad52476d6c6",
   "metadata": {
    "colab_type": "text",
    "id": "Nf4oWX-U3wDB"
   },
   "source": [
    "** What is the main difference between a tuple and a list? **"
   ]
  },
  {
   "cell_type": "code",
   "execution_count": null,
   "id": "ae0aaeaf-a34a-4c09-81d8-b0f2ec3e21f9",
   "metadata": {
    "colab": {},
    "colab_type": "code",
    "id": "S5j7z7j-3wDC"
   },
   "outputs": [],
   "source": [
    "# Tuple is immutable and declared in round Bracket\n",
    "# List is mutable and declard in Square Bracket"
   ]
  },
  {
   "cell_type": "markdown",
   "id": "4adac139-3e56-42c2-9d62-79aa8db56b64",
   "metadata": {
    "colab_type": "text",
    "id": "z9LhS9et3wDE"
   },
   "source": [
    "** Create a function that grabs the email website domain from a string in the form: **\n",
    "\n",
    "    user@domain.com\n",
    "    \n",
    "**So for example, passing \"user@domain.com\" would return: domain.com**"
   ]
  },
  {
   "cell_type": "code",
   "execution_count": 13,
   "id": "03790e0a-d3fc-470e-ad95-e75d1cb0d5a7",
   "metadata": {
    "colab": {},
    "colab_type": "code",
    "id": "FYqmUIr83wDE"
   },
   "outputs": [],
   "source": [
    "def domainGet(x):\n",
    "    return x.split('@')[-1]"
   ]
  },
  {
   "cell_type": "code",
   "execution_count": 14,
   "id": "88125866-86bf-4af2-985f-504d39a531b4",
   "metadata": {
    "colab": {},
    "colab_type": "code",
    "id": "gbqMmPMz3wDG",
    "outputId": "86d263b4-ded6-4863-d812-40ad509db632"
   },
   "outputs": [
    {
     "data": {
      "text/plain": [
       "'domain.com'"
      ]
     },
     "execution_count": 14,
     "metadata": {},
     "output_type": "execute_result"
    }
   ],
   "source": [
    "domainGet('user@domain.com')"
   ]
  },
  {
   "cell_type": "code",
   "execution_count": null,
   "id": "64b9fe9c-f4f5-4113-ae32-2055cc7ccab6",
   "metadata": {},
   "outputs": [],
   "source": []
  },
  {
   "cell_type": "markdown",
   "id": "0f728a41-983a-4e4b-adcf-6d6c9a4d935b",
   "metadata": {
    "tags": []
   },
   "source": [
    "### Exercises - 2 (Dictionary, Functions, Lambda, Map)"
   ]
  },
  {
   "cell_type": "markdown",
   "id": "b090488b-054d-4171-a13a-8a7bb555cc28",
   "metadata": {},
   "source": [
    "1. Find the words with the maximum count in `romeo.txt`"
   ]
  },
  {
   "cell_type": "code",
   "execution_count": 5,
   "id": "e98baf4d-e056-4d9b-a254-4f8a069ead16",
   "metadata": {},
   "outputs": [
    {
     "name": "stdout",
     "output_type": "stream",
     "text": [
      "But soft what light through yonder window breaks. It is the east and Juliet is the sun. \n",
      "Arise fair sun and kill the envious moon. Who is already sick and pale with grief\n",
      "\n"
     ]
    }
   ],
   "source": [
    "#@ First read the dataset\n",
    "romeo_text =  open(\"C:/Users/Apsu/Desktop/Simplilearn_course1_folder/Day-1-materials/Datasets/romeo.txt\")\n",
    "contents = romeo_text.read()\n",
    "print(contents)"
   ]
  },
  {
   "cell_type": "code",
   "execution_count": 7,
   "id": "9bba90f5-71be-490a-9bff-d2b9b7c803a5",
   "metadata": {},
   "outputs": [
    {
     "data": {
      "text/plain": [
       "<_io.TextIOWrapper name='C:/Users/Apsu/Desktop/Simplilearn_course1_folder/Day-1-materials/Datasets/romeo.txt' mode='r' encoding='cp1252'>"
      ]
     },
     "execution_count": 7,
     "metadata": {},
     "output_type": "execute_result"
    }
   ],
   "source": [
    "romeo_text"
   ]
  },
  {
   "cell_type": "code",
   "execution_count": 13,
   "id": "51eb4e93-0b05-4f36-8ab8-acf1196f9cd4",
   "metadata": {},
   "outputs": [
    {
     "data": {
      "text/plain": [
       "{'But': 1,\n",
       " 'soft': 1,\n",
       " 'what': 1,\n",
       " 'light': 1,\n",
       " 'through': 1,\n",
       " 'yonder': 1,\n",
       " 'window': 1,\n",
       " 'breaks.': 1,\n",
       " 'It': 1,\n",
       " 'is': 3,\n",
       " 'the': 3,\n",
       " 'east': 1,\n",
       " 'and': 3,\n",
       " 'Juliet': 1,\n",
       " 'sun.': 1,\n",
       " 'Arise': 1,\n",
       " 'fair': 1,\n",
       " 'sun': 1,\n",
       " 'kill': 1,\n",
       " 'envious': 1,\n",
       " 'moon.': 1,\n",
       " 'Who': 1,\n",
       " 'already': 1,\n",
       " 'sick': 1,\n",
       " 'pale': 1,\n",
       " 'with': 1,\n",
       " 'grief': 1}"
      ]
     },
     "execution_count": 13,
     "metadata": {},
     "output_type": "execute_result"
    }
   ],
   "source": [
    " #@ count the words\n",
    "   ...: # create count dictionary\n",
    "   ...: counts = dict()\n",
    "   ...: romeo_text =  open(\"C:/Users/Apsu/Desktop/Simplilearn_course1_folder/Day-1-materials/Datasets/romeo.txt\")\n",
    "   ...: for line in romeo_text:\n",
    "   ...:     words = line.split()\n",
    "   ...:     for word in words:\n",
    "   ...:         counts[word] = counts.get(word, 0) + 1\n",
    "counts"
   ]
  },
  {
   "cell_type": "code",
   "execution_count": 20,
   "id": "5f691853-8c4e-4be5-ba84-8f851b793250",
   "metadata": {},
   "outputs": [
    {
     "data": {
      "text/plain": [
       "dict_items([('But', 1), ('soft', 1), ('what', 1), ('light', 1), ('through', 1), ('yonder', 1), ('window', 1), ('breaks.', 1), ('It', 1), ('is', 3), ('the', 3), ('east', 1), ('and', 3), ('Juliet', 1), ('sun.', 1), ('Arise', 1), ('fair', 1), ('sun', 1), ('kill', 1), ('envious', 1), ('moon.', 1), ('Who', 1), ('already', 1), ('sick', 1), ('pale', 1), ('with', 1), ('grief', 1)])"
      ]
     },
     "execution_count": 20,
     "metadata": {},
     "output_type": "execute_result"
    }
   ],
   "source": [
    "counts.items()"
   ]
  },
  {
   "cell_type": "code",
   "execution_count": 17,
   "id": "df01e9ec-1b3d-4bb5-8e3c-793724938dd0",
   "metadata": {},
   "outputs": [
    {
     "name": "stdout",
     "output_type": "stream",
     "text": [
      "[('is', 3), ('the', 3), ('and', 3)]\n"
     ]
    }
   ],
   "source": [
    " #find the words with maximum count  \n",
    "   ...: bigword = []\n",
    "   ...: \n",
    "   ...: for word,count in counts.items():   \n",
    "   ...:     if count==max(counts.values()): \n",
    "   ...:         bigword.append((word,count))\n",
    "   ...: \n",
    "   ...: print(bigword)"
   ]
  },
  {
   "cell_type": "code",
   "execution_count": 19,
   "id": "f2ed934c-8a2b-450c-b9ca-6c872f475930",
   "metadata": {},
   "outputs": [
    {
     "name": "stdout",
     "output_type": "stream",
     "text": [
      "{'is': 3, 'the': 3, 'and': 3}\n"
     ]
    }
   ],
   "source": [
    " #find the words with maximum count  \n",
    "   ...: bigword = {}\n",
    "   ...: \n",
    "   ...: for word,count in counts.items():   \n",
    "   ...:     if count==max(counts.values()): \n",
    "   ...:         bigword[word] = count\n",
    "   ...: \n",
    "   ...: print(bigword)"
   ]
  },
  {
   "cell_type": "code",
   "execution_count": 27,
   "id": "f72f50d7-888c-4b31-b00c-c8944a5d2dc6",
   "metadata": {},
   "outputs": [
    {
     "data": {
      "text/plain": [
       "[3,\n",
       " 3,\n",
       " 3,\n",
       " 1,\n",
       " 1,\n",
       " 1,\n",
       " 1,\n",
       " 1,\n",
       " 1,\n",
       " 1,\n",
       " 1,\n",
       " 1,\n",
       " 1,\n",
       " 1,\n",
       " 1,\n",
       " 1,\n",
       " 1,\n",
       " 1,\n",
       " 1,\n",
       " 1,\n",
       " 1,\n",
       " 1,\n",
       " 1,\n",
       " 1,\n",
       " 1,\n",
       " 1,\n",
       " 1]"
      ]
     },
     "execution_count": 27,
     "metadata": {},
     "output_type": "execute_result"
    }
   ],
   "source": [
    " sorted(counts.values(), reverse = True)"
   ]
  },
  {
   "cell_type": "markdown",
   "id": "897bb630-d1d1-46a5-bdd0-ec90e064d3d2",
   "metadata": {},
   "source": [
    "2. Arrange all the words in decreasing order of word counts"
   ]
  },
  {
   "cell_type": "code",
   "execution_count": 36,
   "id": "feceb83f-292f-4b52-a2c4-fc92da3c7837",
   "metadata": {},
   "outputs": [
    {
     "name": "stdout",
     "output_type": "stream",
     "text": [
      "[(3, 'the'), (3, 'is'), (3, 'and'), (1, 'yonder'), (1, 'with'), (1, 'window'), (1, 'what'), (1, 'through'), (1, 'sun.'), (1, 'sun'), (1, 'soft'), (1, 'sick'), (1, 'pale'), (1, 'moon.'), (1, 'light'), (1, 'kill'), (1, 'grief'), (1, 'fair'), (1, 'envious'), (1, 'east'), (1, 'breaks.'), (1, 'already'), (1, 'Who'), (1, 'Juliet'), (1, 'It'), (1, 'But'), (1, 'Arise')]\n",
      "-------------\n",
      "[('yonder', 1), ('with', 1), ('window', 1), ('what', 1), ('through', 1), ('the', 3), ('sun.', 1), ('sun', 1), ('soft', 1), ('sick', 1), ('pale', 1), ('moon.', 1), ('light', 1), ('kill', 1), ('is', 3), ('grief', 1), ('fair', 1), ('envious', 1), ('east', 1), ('breaks.', 1), ('and', 3), ('already', 1), ('Who', 1), ('Juliet', 1), ('It', 1), ('But', 1), ('Arise', 1)]\n"
     ]
    }
   ],
   "source": [
    " # words in decreasing order         \n",
    "   ...: temp = []\n",
    "   ...: temp1 = []\n",
    "   ...: \n",
    "   ...: for w,k in counts.items():\n",
    "   ...:     temp.append((k,w))\n",
    "   ...:     temp1.append((w,k))\n",
    "temp = sorted(temp, reverse = True)\n",
    "temp1 = sorted(temp1, reverse = True)\n",
    "print(temp)\n",
    "print(\"-------------\")\n",
    "print(temp1)"
   ]
  },
  {
   "cell_type": "markdown",
   "id": "3a5a6dd5-ffd5-49db-9c87-7ddcbc58335d",
   "metadata": {},
   "source": [
    "3. Invert the following dictionary to indicate fruit and color"
   ]
  },
  {
   "cell_type": "code",
   "execution_count": 37,
   "id": "157b7c5e-2959-4724-874e-0c5584633dc9",
   "metadata": {},
   "outputs": [],
   "source": [
    "c2f = {'green': ['watermelon', 'pear'],\n",
    " 'red': ['pomegranate', 'cherry'],\n",
    " 'orange': ['peach', 'orange'],\n",
    " 'yellow': ['banana'],\n",
    " 'purple': ['plum']}"
   ]
  },
  {
   "cell_type": "code",
   "execution_count": 43,
   "id": "e44cbc5d-75ed-4a42-b98e-00020910e551",
   "metadata": {},
   "outputs": [
    {
     "data": {
      "text/plain": [
       "{'watermelon': 'green',\n",
       " 'pear': 'green',\n",
       " 'pomegranate': 'red',\n",
       " 'cherry': 'red',\n",
       " 'peach': 'orange',\n",
       " 'orange': 'orange',\n",
       " 'banana': 'yellow',\n",
       " 'plum': 'purple'}"
      ]
     },
     "execution_count": 43,
     "metadata": {},
     "output_type": "execute_result"
    }
   ],
   "source": [
    "f2c = {}\n",
    "for color in c2f:\n",
    "    for fruits in c2f[color]:\n",
    "        f2c[fruits] = color\n",
    "f2c"
   ]
  },
  {
   "cell_type": "code",
   "execution_count": 55,
   "id": "8c0dc204-79ab-43e3-b718-a1d1db770bd3",
   "metadata": {},
   "outputs": [
    {
     "data": {
      "text/plain": [
       "{'green': ['watermelon'],\n",
       " 'red': ['pomegranate'],\n",
       " 'orange': ['peach'],\n",
       " 'yellow': ['banana'],\n",
       " 'purple': ['plum']}"
      ]
     },
     "execution_count": 55,
     "metadata": {},
     "output_type": "execute_result"
    }
   ],
   "source": [
    "# invert the f2c again\n",
    "c2f = {}\n",
    "for f,c in f2c.items():\n",
    "    if c not in c2f:\n",
    "        c2f[c] = [f]\n",
    "c2f"
   ]
  },
  {
   "cell_type": "code",
   "execution_count": 56,
   "id": "6541d077-365e-4fd6-9021-898e0a9822ce",
   "metadata": {},
   "outputs": [
    {
     "data": {
      "text/plain": [
       "{'green': ['watermelon', 'pear'],\n",
       " 'red': ['pomegranate', 'cherry'],\n",
       " 'orange': ['peach', 'orange'],\n",
       " 'yellow': ['banana'],\n",
       " 'purple': ['plum']}"
      ]
     },
     "execution_count": 56,
     "metadata": {},
     "output_type": "execute_result"
    }
   ],
   "source": [
    "# invert the f2c again\n",
    "c2f = {}\n",
    "for f,c in f2c.items():\n",
    "    if c not in c2f:\n",
    "        c2f[c] = [f]\n",
    "    else:\n",
    "       c2f[c].append(f) \n",
    "c2f"
   ]
  },
  {
   "cell_type": "markdown",
   "id": "938b3e4b-e4c1-4550-807d-4c59e144eeab",
   "metadata": {},
   "source": [
    "4. Create a function to count the number of i in all the arguments. Number of arguments are unknown"
   ]
  },
  {
   "cell_type": "code",
   "execution_count": 57,
   "id": "f7571691-5441-4dc6-a0e0-7ecb91eb05ed",
   "metadata": {},
   "outputs": [
    {
     "data": {
      "text/plain": [
       "4"
      ]
     },
     "execution_count": 57,
     "metadata": {},
     "output_type": "execute_result"
    }
   ],
   "source": [
    "state = \"Mississippi\"\n",
    "   ...: state.count('i')"
   ]
  },
  {
   "cell_type": "code",
   "execution_count": 70,
   "id": "f8dcdfae-f4d3-461c-bf63-722dc8b3d38b",
   "metadata": {},
   "outputs": [
    {
     "data": {
      "text/plain": [
       "{'Mississippi': 4, 'Arkansas': 0, 'Michigan': 2}"
      ]
     },
     "execution_count": 70,
     "metadata": {},
     "output_type": "execute_result"
    }
   ],
   "source": [
    "def count_letter_i(*args):\n",
    "    i_count = {}\n",
    "    for word in args:\n",
    "        i_count[word] = (word.count('i'))\n",
    "    return(i_count)\n",
    "count_letter_i(\"Mississippi\", \"Arkansas\", \"Michigan\")"
   ]
  },
  {
   "cell_type": "code",
   "execution_count": 64,
   "id": "ef49fefa-7a2a-47b6-afce-5754f84be246",
   "metadata": {},
   "outputs": [
    {
     "name": "stdout",
     "output_type": "stream",
     "text": [
      "4\n",
      "0\n",
      "2\n"
     ]
    },
    {
     "data": {
      "text/plain": [
       "['Mississippi', 'Arkansas', 'Michigan']"
      ]
     },
     "execution_count": 64,
     "metadata": {},
     "output_type": "execute_result"
    }
   ],
   "source": [
    "state = [\"Mississippi\", \"Arkansas\", \"Michigan\"]\n",
    "   ...: def count_letter_i(args):\n",
    "   ...:     for word in args:\n",
    "   ...:         print(word.count('i'))\n",
    "   ...: \n",
    "   ...: count_letter_i(state)\n",
    "   ...: state"
   ]
  },
  {
   "cell_type": "markdown",
   "id": "50e05019-99de-4d39-a06d-ba7e0af04fab",
   "metadata": {},
   "source": [
    "5. Create a lambda function to extract the surname from the names: \"Samridhi Dutta\", \"Ronit Singh\", \"Narender Modi\""
   ]
  },
  {
   "cell_type": "code",
   "execution_count": 78,
   "id": "1209590c-0373-4ac1-9dac-38c4cd8c19a2",
   "metadata": {},
   "outputs": [
    {
     "name": "stdout",
     "output_type": "stream",
     "text": [
      "Dutta\n",
      "Singh\n",
      "Modi\n"
     ]
    }
   ],
   "source": [
    "# without lambda function\n",
    "names = [\"Samridhi Dutta\", \"Ronit Singh\", \"Narender Modi\"]\n",
    "def surname_split(args):\n",
    "    for name in names:\n",
    "        surname = name.rsplit(\" \")[1]\n",
    "        print(surname)\n",
    "surname_split(names)"
   ]
  },
  {
   "cell_type": "code",
   "execution_count": 81,
   "id": "6b28dce3-d5a2-4d40-9590-62153b89760d",
   "metadata": {},
   "outputs": [
    {
     "data": {
      "text/plain": [
       "'Dutta'"
      ]
     },
     "execution_count": 81,
     "metadata": {},
     "output_type": "execute_result"
    }
   ],
   "source": [
    "f =  lambda x: x.split(\" \")[1]\n",
    "f(\"Samridhi Dutta\")"
   ]
  },
  {
   "cell_type": "code",
   "execution_count": 84,
   "id": "a34c075d-a15c-413f-851a-3a4a43a08d22",
   "metadata": {},
   "outputs": [
    {
     "name": "stdout",
     "output_type": "stream",
     "text": [
      "Dutta\n",
      "Singh\n",
      "Modi\n"
     ]
    }
   ],
   "source": [
    " f =  lambda x: x.split(\" \")[1]\n",
    "   ...: for name in names:\n",
    "   ...:     print(f(name))"
   ]
  },
  {
   "cell_type": "code",
   "execution_count": 88,
   "id": "4f0aa850-d587-4918-9ac9-76b439e11420",
   "metadata": {},
   "outputs": [
    {
     "name": "stdout",
     "output_type": "stream",
     "text": [
      "['Dutta', 'Singh', 'Modi']\n"
     ]
    }
   ],
   "source": [
    "f =  lambda x: x.split(\" \")[1]\n",
    "   ...: surnames = list(map(f, names))\n",
    "   ...: print(surnames)"
   ]
  },
  {
   "cell_type": "code",
   "execution_count": 83,
   "id": "15d6e51d-589e-4e35-90d5-9b4b095d0676",
   "metadata": {},
   "outputs": [
    {
     "data": {
      "text/plain": [
       "['Dutta', 'Singh', 'Modi']"
      ]
     },
     "execution_count": 83,
     "metadata": {},
     "output_type": "execute_result"
    }
   ],
   "source": [
    "surname = list(map(lambda x: x.split(\" \")[1], names))\n",
    "surname"
   ]
  },
  {
   "cell_type": "markdown",
   "id": "d9b36deb-1cad-4804-92ec-26206d53c8cc",
   "metadata": {},
   "source": [
    "6. Convert the following temp in degree celsius to fahrenheit using lambda and map fns."
   ]
  },
  {
   "cell_type": "code",
   "execution_count": 85,
   "id": "0fef87dd-eec1-4e11-8c61-c02ea8bdc008",
   "metadata": {},
   "outputs": [
    {
     "name": "stdout",
     "output_type": "stream",
     "text": [
      "[97.7, 98.60000000000001, 99.5, 102.2]\n"
     ]
    }
   ],
   "source": [
    " temp = [36.5, 37, 37.5,39]\n",
    "   ...: #fahrenheit = (9/5)*temp + 32\n",
    "   ...: ftemp = []\n",
    "   ...: for tt in temp:\n",
    "   ...:     ftt = (9/5)*tt + 32\n",
    "   ...:     ftemp.append(ftt)\n",
    "   ...: print(ftemp)"
   ]
  },
  {
   "cell_type": "code",
   "execution_count": 87,
   "id": "d830c9d8-ecb2-439c-bfae-0eb25b84b641",
   "metadata": {},
   "outputs": [
    {
     "name": "stdout",
     "output_type": "stream",
     "text": [
      "[97.7, 98.60000000000001, 99.5, 102.2]\n"
     ]
    }
   ],
   "source": [
    "ftemp = []\n",
    "   ...: f = lambda x: (9/5)*x + 32\n",
    "   ...: for tt in temp:\n",
    "   ...:     ftt = f(tt)\n",
    "   ...:     ftemp.append(ftt)\n",
    "   ...: print(ftemp)"
   ]
  },
  {
   "cell_type": "code",
   "execution_count": 90,
   "id": "d0656e74-4bf9-41b5-aac7-4a12e9677ba7",
   "metadata": {},
   "outputs": [
    {
     "name": "stdout",
     "output_type": "stream",
     "text": [
      "[97.7, 98.60000000000001, 99.5, 102.2]\n",
      "-----------\n",
      "[36.5, 37.00000000000001, 37.5, 39.0]\n"
     ]
    }
   ],
   "source": [
    " f = lambda x: (9/5)*x + 32\n",
    "   ...: c = lambda x: (x - 32) * 5/9\n",
    "   ...: fahrenheit = list(map(f, temp))\n",
    "   ...: celcius = list(map(c,fahrenheit))\n",
    "   ...: \n",
    "   ...: print(fahrenheit)\n",
    "   ...: print(\"-----------\")\n",
    "   ...: print(celcius)"
   ]
  },
  {
   "cell_type": "markdown",
   "id": "ba507c16-928a-40f3-b5c1-e29a8193e70a",
   "metadata": {
    "colab_type": "text",
    "id": "SOhX64ui3wDJ"
   },
   "source": [
    "7. Create a basic function that returns True if the word 'dog' is contained in the input string. Don't worry about edge cases like a punctuation being attached to the word dog, but do account for capitalization."
   ]
  },
  {
   "cell_type": "code",
   "execution_count": 93,
   "id": "7786ba90-aeac-4eba-80a3-e2aec71d175e",
   "metadata": {
    "colab": {},
    "colab_type": "code",
    "id": "nIHjBJ853wDK"
   },
   "outputs": [],
   "source": [
    "def findDog(x):\n",
    "   ...:     k = x.count('dog')\n",
    "   ...:     print(k>0)"
   ]
  },
  {
   "cell_type": "code",
   "execution_count": 94,
   "id": "bb0c3785-e678-4826-993b-c0de281e12e3",
   "metadata": {
    "colab": {},
    "colab_type": "code",
    "id": "2ZrridzB3wDM",
    "outputId": "67c96529-354a-4887-e435-b163030c604d"
   },
   "outputs": [
    {
     "name": "stdout",
     "output_type": "stream",
     "text": [
      "True\n"
     ]
    }
   ],
   "source": [
    "findDog('Is there a dog here?')"
   ]
  },
  {
   "cell_type": "markdown",
   "id": "9fb7d9f8-aae5-496a-8491-be23d667eba4",
   "metadata": {
    "colab_type": "text",
    "id": "jdFVy3vs3wDO"
   },
   "source": [
    "8. Create a function that counts the number of times the word \"dog\" occurs in a string. Again ignore edge cases, where punctuation assigned to the word dog. "
   ]
  },
  {
   "cell_type": "code",
   "execution_count": 97,
   "id": "5fa656e5-b760-4ff3-8a21-d16af43c0fd7",
   "metadata": {
    "colab": {},
    "colab_type": "code",
    "id": "lsWvQYT_3wDP"
   },
   "outputs": [
    {
     "data": {
      "text/plain": [
       "1"
      ]
     },
     "execution_count": 97,
     "metadata": {},
     "output_type": "execute_result"
    }
   ],
   "source": [
    " #### count the words in a statement\n",
    "   ...: def countDog(x):\n",
    "   ...:     k = x.count('dog')\n",
    "   ...:     return(k)\n",
    "   ...: countDog('Is there a dog here?')   "
   ]
  },
  {
   "cell_type": "code",
   "execution_count": 98,
   "id": "41972789-f3a4-47b2-9709-2cb8721d6354",
   "metadata": {
    "colab": {},
    "colab_type": "code",
    "id": "EJz9s6UP3wDS",
    "outputId": "bc70cac7-bb49-4877-9115-1846d30bc252"
   },
   "outputs": [
    {
     "data": {
      "text/plain": [
       "2"
      ]
     },
     "execution_count": 98,
     "metadata": {},
     "output_type": "execute_result"
    }
   ],
   "source": [
    "countDog('This dog runs faster than the other dog dude!')"
   ]
  },
  {
   "cell_type": "markdown",
   "id": "f193c3f2-a1c5-4302-96de-dfa6d898e450",
   "metadata": {
    "colab_type": "text",
    "id": "DY2Qfy5A3wDU"
   },
   "source": [
    "9. Use lambda expressions and the filter() function to filter out words from a list that don't start with the letter 's'. For example:**\n",
    "\n",
    "    seq = ['soup','dog','salad','cat','great']\n",
    "\n",
    "**should be filtered down to:**\n",
    "\n",
    "    ['soup','salad']"
   ]
  },
  {
   "cell_type": "code",
   "execution_count": 102,
   "id": "df02daf1-b726-4be8-b534-67ae9a97074a",
   "metadata": {
    "colab": {},
    "colab_type": "code",
    "id": "FxgVxsxX3wDV"
   },
   "outputs": [],
   "source": [
    "seq = ['soup','dog','salad','cat','great']"
   ]
  },
  {
   "cell_type": "code",
   "execution_count": 103,
   "id": "1d05d038-5dc3-4271-ac72-30d02f976ad4",
   "metadata": {
    "colab": {},
    "colab_type": "code",
    "id": "N92BwjrG3wDZ",
    "outputId": "3c2d6b4f-21b7-46f1-fd31-a8099e301554"
   },
   "outputs": [
    {
     "name": "stdout",
     "output_type": "stream",
     "text": [
      "['soup', 'salad']\n"
     ]
    }
   ],
   "source": [
    " s_logical = list(filter(lambda x: x.startswith('s') == True, seq))\n",
    "   ...: print(s_logical)"
   ]
  },
  {
   "cell_type": "markdown",
   "id": "9e0a6075-7702-4191-b19a-7418c63329e9",
   "metadata": {
    "colab_type": "text",
    "id": "FRIKUtM83wDd"
   },
   "source": [
    "10. You are driving a little too fast, and a police officer stops you. Write a function\n",
    "  to return one of 3 possible results: \"No ticket\", \"Small ticket\", or \"Big Ticket\". \n",
    "  If your speed is 60 or less, the result is \"No Ticket\". If speed is between 61 \n",
    "  and 80 inclusive, the result is \"Small Ticket\". If speed is 81 or more, the result is \"Big    Ticket\". Unless it is your birthday (encoded as a boolean value in the parameters of the function) -- on your birthday, your speed can be 5 higher in all cases."
   ]
  },
  {
   "cell_type": "code",
   "execution_count": 104,
   "id": "7aff814f-e608-4ea2-8c55-a6a9d32c49d7",
   "metadata": {
    "colab": {},
    "colab_type": "code",
    "id": "vQxX1NQx3wDe"
   },
   "outputs": [],
   "source": [
    "\n",
    "In [1]: def caught_speeding(speed, is_birthday):\n",
    "   ...:     if is_birthday:\n",
    "   ...:         speed = speed - 5\n",
    "   ...:     if speed <= 60:\n",
    "   ...:         print(\"No Ticket\")\n",
    "   ...:     elif speed <= 80:\n",
    "   ...:         print(\"Small Ticket\")\n",
    "   ...:     else:\n",
    "   ...:         print(\"Big Ticket\")"
   ]
  },
  {
   "cell_type": "code",
   "execution_count": 105,
   "id": "f257cbb9-203f-48bc-8029-b5d372993571",
   "metadata": {
    "colab": {},
    "colab_type": "code",
    "id": "3jIHdPVG3wDg",
    "outputId": "f03c999b-6ba2-4c48-eda8-2f1c0787900c"
   },
   "outputs": [
    {
     "name": "stdout",
     "output_type": "stream",
     "text": [
      "Small Ticket\n"
     ]
    }
   ],
   "source": [
    "caught_speeding(81,True)"
   ]
  },
  {
   "cell_type": "code",
   "execution_count": 106,
   "id": "e4d76427-18a0-455b-8970-186513cbc37f",
   "metadata": {
    "colab": {},
    "colab_type": "code",
    "id": "kLYcJgHc3wDi",
    "outputId": "b40a6cd7-66e8-4bf1-cdd8-76010248ca28"
   },
   "outputs": [
    {
     "name": "stdout",
     "output_type": "stream",
     "text": [
      "Big Ticket\n"
     ]
    }
   ],
   "source": [
    "caught_speeding(81,False)"
   ]
  },
  {
   "cell_type": "markdown",
   "id": "37577592-2c4b-4eed-bd55-935d388cb02b",
   "metadata": {},
   "source": [
    "# Exercise -3 (List )"
   ]
  },
  {
   "cell_type": "code",
   "execution_count": null,
   "id": "7a9e47eb-4195-460d-a7de-0c2618e310b0",
   "metadata": {},
   "outputs": [],
   "source": []
  },
  {
   "cell_type": "code",
   "execution_count": 23,
   "id": "64224b64-e139-4102-a90f-ed9e14b18aeb",
   "metadata": {},
   "outputs": [
    {
     "data": {
      "text/plain": [
       "99"
      ]
     },
     "execution_count": 23,
     "metadata": {},
     "output_type": "execute_result"
    }
   ],
   "source": [
    "'''\n",
    "Question1:\n",
    "\n",
    "Write a program to the largest number from the list given below:\n",
    "\n",
    "listExample1 = [8,9,13,2,3,99,6,7,4,3]\n",
    "\n",
    "'''\n",
    "listExample1 = [8,9,13,2,3,99,6,7,4,3]\n",
    "\n",
    "def getLargest(lst):\n",
    "    Largest = 0\n",
    "    for number in lst:\n",
    "        if number > Largest:\n",
    "            Largest = number\n",
    "    return(Largest)\n",
    "            \n",
    "getLargest(listExample1)\n"
   ]
  },
  {
   "cell_type": "code",
   "execution_count": null,
   "id": "39dde5ee-3efc-46d4-9379-940db69718d5",
   "metadata": {},
   "outputs": [],
   "source": []
  },
  {
   "cell_type": "code",
   "execution_count": 24,
   "id": "e6159da7-9e63-4b9f-83aa-79037372865c",
   "metadata": {},
   "outputs": [
    {
     "data": {
      "text/plain": [
       "99"
      ]
     },
     "execution_count": 24,
     "metadata": {},
     "output_type": "execute_result"
    }
   ],
   "source": [
    "max_val = lambda x: sorted(x)[-1]\n",
    "max_val(listExample1)"
   ]
  },
  {
   "cell_type": "code",
   "execution_count": 25,
   "id": "23635a08-f244-42d3-8370-d4469154d5d3",
   "metadata": {},
   "outputs": [
    {
     "data": {
      "text/plain": [
       "99"
      ]
     },
     "execution_count": 25,
     "metadata": {},
     "output_type": "execute_result"
    }
   ],
   "source": [
    "listExample1 = [8,9,13,2,3,99,6,7,4,3]\n",
    "max(listExample1)"
   ]
  },
  {
   "cell_type": "code",
   "execution_count": 26,
   "id": "7f842430-1400-4c1b-a0e4-366acfa35e9d",
   "metadata": {},
   "outputs": [
    {
     "data": {
      "text/plain": [
       "42"
      ]
     },
     "execution_count": 26,
     "metadata": {},
     "output_type": "execute_result"
    }
   ],
   "source": [
    "'''\n",
    "Question2:\n",
    "\n",
    "Write a program to sum all the items from the list given below:\n",
    "\n",
    "\n",
    "\n",
    "'''\n",
    "def lst_sum(lst):\n",
    "    s = 0\n",
    "    for k in lst:\n",
    "        s = s + k\n",
    "    return(s)\n",
    "listExample2 = [9,8,7,6,5,4,3]\n",
    "lst_sum(listExample2)"
   ]
  },
  {
   "cell_type": "code",
   "execution_count": 27,
   "id": "4964a906-da21-4390-ac1d-8518d3c907e3",
   "metadata": {},
   "outputs": [
    {
     "data": {
      "text/plain": [
       "42"
      ]
     },
     "execution_count": 27,
     "metadata": {},
     "output_type": "execute_result"
    }
   ],
   "source": [
    "listExample2 = [9,8,7,6,5,4,3]\n",
    "sum(listExample2)"
   ]
  },
  {
   "cell_type": "code",
   "execution_count": 28,
   "id": "77a81ce4-0ecf-4963-ac8e-47693c19f22d",
   "metadata": {},
   "outputs": [
    {
     "data": {
      "text/plain": [
       "[1, 2, 3, 4, 9, 44]"
      ]
     },
     "execution_count": 28,
     "metadata": {},
     "output_type": "execute_result"
    }
   ],
   "source": [
    "'''\n",
    "Question3:\n",
    "\n",
    "Write a program to remove duplicate values from the list given below:\n",
    "\n",
    "'''\n",
    "listExample3 = [1,1,1,2,3,44,44,9,9,1,4,44]\n",
    "\n",
    "list(set(listExample3))"
   ]
  },
  {
   "cell_type": "code",
   "execution_count": 29,
   "id": "1346993f-cf8d-468e-bd8f-c52df7cb356e",
   "metadata": {},
   "outputs": [],
   "source": [
    "def remove_duplicate(lst):\n",
    "   ...:     new_list = []\n",
    "   ...:     for i in lst:\n",
    "   ...:         if i not in new_list:\n",
    "   ...:             new_list.append(i)\n",
    "   ...:     return(new_list)"
   ]
  },
  {
   "cell_type": "code",
   "execution_count": 30,
   "id": "f9ac8bb0-4a3e-48c9-8ba0-7b49f2aa8697",
   "metadata": {},
   "outputs": [
    {
     "data": {
      "text/plain": [
       "[1, 2, 3, 44, 9, 4]"
      ]
     },
     "execution_count": 30,
     "metadata": {},
     "output_type": "execute_result"
    }
   ],
   "source": [
    "remove_duplicate(listExample3)"
   ]
  },
  {
   "cell_type": "code",
   "execution_count": 31,
   "id": "7236a05d-d551-4343-9a48-1d6a91b2d290",
   "metadata": {},
   "outputs": [
    {
     "data": {
      "text/plain": [
       "{1, 2, 3, 4, 9, 44}"
      ]
     },
     "execution_count": 31,
     "metadata": {},
     "output_type": "execute_result"
    }
   ],
   "source": [
    "listExample3 = [1,1,1,2,3,44,44,9,9,1,4,44]\n",
    "set(listExample3)"
   ]
  },
  {
   "cell_type": "code",
   "execution_count": null,
   "id": "46368bbf-0d40-4463-b053-a4f55fc2a3b4",
   "metadata": {},
   "outputs": [],
   "source": []
  },
  {
   "cell_type": "markdown",
   "id": "41140642-38b8-43b8-97cb-ea94b2875b1f",
   "metadata": {},
   "source": [
    "# Assignment - 4 Lists / List Comprehensions"
   ]
  },
  {
   "cell_type": "markdown",
   "id": "9e6aea22-9714-48a4-b6ea-46d70a29c0f8",
   "metadata": {},
   "source": [
    "#### Excercise 1:\n",
    "Calculate the average of each sublist and append it to averages."
   ]
  },
  {
   "cell_type": "code",
   "execution_count": 5,
   "id": "f015b8b7-b38c-4ebf-a775-c8d7b32ee66f",
   "metadata": {},
   "outputs": [],
   "source": [
    "grades = [[10,20,30],[40,50,60],[70,80,90]]"
   ]
  },
  {
   "cell_type": "code",
   "execution_count": 6,
   "id": "23ee1583-5b30-49c1-bc93-7aa1732934d4",
   "metadata": {},
   "outputs": [],
   "source": [
    "def avg_sublist(args):\n",
    "   ...:     sub_list_average = []\n",
    "   ...:     for sub_lst in grades:\n",
    "   ...:         sub_sum = 0\n",
    "   ...:         lng = len(sub_lst)\n",
    "   ...:         for k in sub_lst:\n",
    "   ...:             sub_sum = sub_sum + k\n",
    "   ...:             avg = sub_sum/lng\n",
    "   ...:         sub_list_average.append(avg)\n",
    "   ...:     return(sub_list_average)"
   ]
  },
  {
   "cell_type": "code",
   "execution_count": 7,
   "id": "4eb5b0c8-ed3f-4cd4-8dbd-a0eea58bf929",
   "metadata": {},
   "outputs": [
    {
     "data": {
      "text/plain": [
       "[20.0, 50.0, 80.0]"
      ]
     },
     "execution_count": 7,
     "metadata": {},
     "output_type": "execute_result"
    }
   ],
   "source": [
    "avg_sublist(grades)"
   ]
  },
  {
   "cell_type": "code",
   "execution_count": 14,
   "id": "62014293-abae-4b09-9cfd-fc75d2787c8b",
   "metadata": {},
   "outputs": [
    {
     "name": "stdout",
     "output_type": "stream",
     "text": [
      "[20.0, 50.0, 80.0]\n"
     ]
    }
   ],
   "source": [
    "  # using lambda function     \n",
    "   ...: averages = list(map(lambda x : sum(x)/len(x), grades))\n",
    "   ...: print(averages)"
   ]
  },
  {
   "cell_type": "code",
   "execution_count": 15,
   "id": "c26ab7bb-afb0-4860-a7e6-1f80ce53440c",
   "metadata": {},
   "outputs": [
    {
     "data": {
      "text/plain": [
       "150.0"
      ]
     },
     "execution_count": 15,
     "metadata": {},
     "output_type": "execute_result"
    }
   ],
   "source": []
  },
  {
   "cell_type": "markdown",
   "id": "897ca967-5641-4b58-80db-e12fa9768f27",
   "metadata": {},
   "source": [
    "#### Excercise 2:\n",
    "Create a list with the elements as the square of each element in the input list"
   ]
  },
  {
   "cell_type": "code",
   "execution_count": 20,
   "id": "3551fb39-9583-47ef-8731-cde905d11cfe",
   "metadata": {},
   "outputs": [],
   "source": [
    " def square_fun(lst):\n",
    "   ...:     temp = list(map(lambda x: x**2, lst))\n",
    "   ...:     return(temp)"
   ]
  },
  {
   "cell_type": "code",
   "execution_count": 21,
   "id": "c0665bf5-47dd-456e-871b-5944fb9137f6",
   "metadata": {},
   "outputs": [
    {
     "data": {
      "text/plain": [
       "[1, 25, 49, 9, 81]"
      ]
     },
     "execution_count": 21,
     "metadata": {},
     "output_type": "execute_result"
    }
   ],
   "source": [
    "lst = [1,5,7,3,9]\n",
    "square_fun(lst)"
   ]
  },
  {
   "cell_type": "code",
   "execution_count": 22,
   "id": "394c9ea7-34d8-45ee-af9f-12b7659bc1f4",
   "metadata": {},
   "outputs": [
    {
     "data": {
      "text/plain": [
       "[1, 25, 49, 9, 81]"
      ]
     },
     "execution_count": 22,
     "metadata": {},
     "output_type": "execute_result"
    }
   ],
   "source": [
    "temp = list(map(lambda x: x**2, lst))\n",
    "temp"
   ]
  },
  {
   "cell_type": "markdown",
   "id": "511cd014-f4d0-4434-86a2-80de254e7542",
   "metadata": {},
   "source": [
    "#### Exercise 3:\n",
    "Calculate the averages of numbers in a list of list\n",
    "l = [[1,2,3], [4,5,6]]"
   ]
  },
  {
   "cell_type": "code",
   "execution_count": 26,
   "id": "c057701b-8ab5-441e-aa88-4dba5c55dd82",
   "metadata": {},
   "outputs": [
    {
     "name": "stdout",
     "output_type": "stream",
     "text": [
      "[2.0, 5.0]\n"
     ]
    }
   ],
   "source": [
    "l = [[1,2,3], [4,5,6]]\n",
    "# using lambda function     \n",
    "averages = list(map(lambda x : sum(x)/len(x), l))\n",
    "print(averages)"
   ]
  },
  {
   "cell_type": "code",
   "execution_count": null,
   "id": "60c89d6d-5009-4aa2-88f4-6844a327c32b",
   "metadata": {},
   "outputs": [],
   "source": []
  },
  {
   "cell_type": "code",
   "execution_count": null,
   "id": "dac61f86-70b1-4fc2-bf68-77d2cd1a4c98",
   "metadata": {},
   "outputs": [],
   "source": []
  },
  {
   "cell_type": "markdown",
   "id": "9252fb62-51ec-4ae6-ab1d-8f97749424ea",
   "metadata": {},
   "source": [
    "#### Exercise 4:\n",
    "Print the unique elements in this list\n",
    "duplicates = [1, 2, 3, 1, 2, 5, 6, 7, 8]\n",
    "Print the unique elements in the above list without the small numbers [1,2,3] ## Hint use the difference method from sets"
   ]
  },
  {
   "cell_type": "code",
   "execution_count": 28,
   "id": "973d665a-415a-4a95-994c-8fe6ab4b2dd9",
   "metadata": {},
   "outputs": [
    {
     "name": "stdout",
     "output_type": "stream",
     "text": [
      "[1, 2, 3, 5, 6, 7, 8]\n"
     ]
    }
   ],
   "source": [
    "dublicates = [1, 2, 3, 1, 2, 5, 6, 7, 8]\n",
    "print(list(set(dublicates)))"
   ]
  },
  {
   "cell_type": "code",
   "execution_count": 29,
   "id": "870202bb-fef9-4ca0-9e8b-384ce9a48320",
   "metadata": {},
   "outputs": [
    {
     "data": {
      "text/plain": [
       "{5, 6, 7, 8}"
      ]
     },
     "execution_count": 29,
     "metadata": {},
     "output_type": "execute_result"
    }
   ],
   "source": [
    " # without [1,2,3]\n",
    "   ...: A = set(duplicates)\n",
    "   ...: B = set([1,2,3])\n",
    "   ...: A.difference(B)"
   ]
  },
  {
   "cell_type": "code",
   "execution_count": 30,
   "id": "dda04a99-1751-42fa-b6b4-ee2308372be3",
   "metadata": {},
   "outputs": [
    {
     "name": "stdout",
     "output_type": "stream",
     "text": [
      "[8, 5, 6, 7]\n"
     ]
    }
   ],
   "source": [
    " # without [1,2,3]        \n",
    "   ...: A = set(duplicates)      \n",
    "   ...: B = set([1,2,3])\n",
    "   ...: C = list(A.difference(B))\n",
    "   ...: print(C)"
   ]
  },
  {
   "cell_type": "markdown",
   "id": "6f85a618-c6ad-441b-a274-af9f836f2ece",
   "metadata": {},
   "source": [
    "#### Exercise 5.\n",
    "Transpose of Matrix using Nested Loops\n",
    "a = [[1,2,3], [4,5,6]]"
   ]
  },
  {
   "cell_type": "code",
   "execution_count": 32,
   "id": "d1f80584-f2b6-43c2-b157-c5a1887a5238",
   "metadata": {},
   "outputs": [
    {
     "data": {
      "text/plain": [
       "[1, 2, 3, 4, 5, 6]"
      ]
     },
     "execution_count": 32,
     "metadata": {},
     "output_type": "execute_result"
    }
   ],
   "source": [
    "a = [[1,2,3], [4,5,6]]\n",
    "   ...: at = []\n",
    "   ...: for row in a:\n",
    "   ...:     for i in row:     \n",
    "   ...:         at.append(i)  \n",
    "   ...: at"
   ]
  },
  {
   "cell_type": "code",
   "execution_count": 39,
   "id": "c82e0efb-2231-4f46-9326-2c0251fa60df",
   "metadata": {},
   "outputs": [
    {
     "data": {
      "text/plain": [
       "[[1, 4], [2, 5], [3, 6]]"
      ]
     },
     "execution_count": 39,
     "metadata": {},
     "output_type": "execute_result"
    }
   ],
   "source": [
    " a = [[1,2,3], [4,5,6]]\n",
    "   ...: at = []\n",
    "   ...: for i in range(3):\n",
    "   ...:     bt = []\n",
    "   ...:     for row in a:\n",
    "   ...:         bt.append(row[i])\n",
    "   ...:     at.append(bt)\n",
    "   ...: at"
   ]
  },
  {
   "cell_type": "code",
   "execution_count": null,
   "id": "eec6a508-ec19-4bcf-8ddf-bb437589a135",
   "metadata": {},
   "outputs": [],
   "source": []
  },
  {
   "cell_type": "markdown",
   "id": "99a9ec7c-cb0f-476a-ad64-0a569827523f",
   "metadata": {},
   "source": [
    "#### Exercise 6: \n",
    "Join the elements in the list to represent in date format: dd-mm-YYYY and split it back to represent in the same format for following list:\n",
    "[19, 7, 2019]"
   ]
  },
  {
   "cell_type": "code",
   "execution_count": 40,
   "id": "ebfc0354-a7fd-4504-8fa6-c22c087c42f2",
   "metadata": {},
   "outputs": [
    {
     "data": {
      "text/plain": [
       "'1972019'"
      ]
     },
     "execution_count": 40,
     "metadata": {},
     "output_type": "execute_result"
    }
   ],
   "source": [
    " dd = [19, 7, 2019]\n",
    "   ...: dt = ''.join(str(e) for e in dd)\n",
    "   ...: dt\n",
    "   "
   ]
  },
  {
   "cell_type": "code",
   "execution_count": 43,
   "id": "e995f2d1-110a-42c8-8e45-9a74b71af2e6",
   "metadata": {},
   "outputs": [],
   "source": [
    "import datetime\n",
    "   ...: date_str = ''.join(str(e) for e in dd)\n",
    "   ...: format_str = '%d%m%Y' # The format\n",
    "   ...: datetime_obj = datetime.datetime.strptime(date_str, format_str)"
   ]
  },
  {
   "cell_type": "code",
   "execution_count": 45,
   "id": "1f7e7b0c-2214-4dcc-a216-1e813b8a290a",
   "metadata": {},
   "outputs": [
    {
     "name": "stdout",
     "output_type": "stream",
     "text": [
      "2019-07-19\n"
     ]
    }
   ],
   "source": [
    " print(datetime_obj.date())"
   ]
  },
  {
   "cell_type": "code",
   "execution_count": 47,
   "id": "164b326d-4405-471c-882c-59aadae956fa",
   "metadata": {},
   "outputs": [
    {
     "name": "stdout",
     "output_type": "stream",
     "text": [
      "Date String: 28/07/2022\n"
     ]
    }
   ],
   "source": [
    "  # current dateTime\n",
    "   ...: from datetime import datetime\n",
    "   ...: now = datetime.now()\n",
    "   ...: \n",
    "   ...: # convert to date String\n",
    "   ...: date = now.strftime(\"%d/%m/%Y\")\n",
    "   ...: print('Date String:', date)"
   ]
  },
  {
   "cell_type": "code",
   "execution_count": 50,
   "id": "c97be8cc-b105-4834-a3c6-bf3462e07b86",
   "metadata": {},
   "outputs": [
    {
     "name": "stdout",
     "output_type": "stream",
     "text": [
      "Converted dd-mm-yyyy format date: 19-07-2019\n"
     ]
    }
   ],
   "source": [
    " # convert to dd - mm - yyyy format\n",
    "   ...: date = datetime_obj.strftime('%d-%m-%Y')\n",
    "   ...: print('Converted dd-mm-yyyy format date:', date)"
   ]
  },
  {
   "cell_type": "code",
   "execution_count": null,
   "id": "e84ed83b-e129-40b0-8366-5609edb5674a",
   "metadata": {},
   "outputs": [],
   "source": []
  },
  {
   "cell_type": "code",
   "execution_count": null,
   "id": "5c882e99-008f-4c5c-8821-1ace224e1e13",
   "metadata": {},
   "outputs": [],
   "source": []
  },
  {
   "cell_type": "markdown",
   "id": "cf5e0064-ad32-49dd-a37d-7ecd418b3d23",
   "metadata": {},
   "source": [
    "#### Exercise 7:\n",
    "Find a way to convert this list into unidimensional\n",
    "[[1,2,3], [4,5,6],[7,8,9]]"
   ]
  },
  {
   "cell_type": "code",
   "execution_count": 53,
   "id": "6a3be1f8-e7b0-46fe-bf19-e093a037db31",
   "metadata": {},
   "outputs": [
    {
     "name": "stdout",
     "output_type": "stream",
     "text": [
      "[1, 2, 3, 4, 5, 6, 7, 8, 9]\n"
     ]
    }
   ],
   "source": [
    "lst = [[1,2,3], [4,5,6],[7,8,9]]\n",
    "   ...: oneDim_array = []\n",
    "   ...: for row in lst:\n",
    "   ...:     for i in row:\n",
    "   ...:         oneDim_array.append(i)  \n",
    "   ...: \n",
    "   ...: print(oneDim_array)"
   ]
  },
  {
   "cell_type": "code",
   "execution_count": 54,
   "id": "f7249955-e733-45fd-b0ea-6f71ebcedce7",
   "metadata": {},
   "outputs": [
    {
     "data": {
      "text/plain": [
       "[1, 2, 3, 4, 5, 6, 7, 8, 9]"
      ]
     },
     "execution_count": 54,
     "metadata": {},
     "output_type": "execute_result"
    }
   ],
   "source": [
    "sum(lst, [])"
   ]
  },
  {
   "cell_type": "code",
   "execution_count": null,
   "id": "69f463a7-02f4-43c5-a76a-f31f73d10449",
   "metadata": {},
   "outputs": [],
   "source": []
  },
  {
   "cell_type": "markdown",
   "id": "fe643372-a231-4868-9d6d-35c5858159d4",
   "metadata": {
    "colab_type": "text",
    "id": "r3rbN8nkgDwl",
    "tags": []
   },
   "source": [
    "# Exercise -5 NumPy Exercises \n",
    "\n",
    "Now that we've learned about NumPy let's test your knowledge. We'll start off with a few simple tasks, and then you'll be asked some more complicated questions."
   ]
  },
  {
   "cell_type": "markdown",
   "id": "a789f721-a405-40e4-807c-10d15708822e",
   "metadata": {
    "colab_type": "text",
    "id": "2Teo1nqYgDwm"
   },
   "source": [
    "#### Import NumPy as np"
   ]
  },
  {
   "cell_type": "code",
   "execution_count": 1,
   "id": "8fce6cac-3dc6-4d76-97c6-f18b03e2e93d",
   "metadata": {
    "colab": {},
    "colab_type": "code",
    "id": "Y_7nxFlQgDwm"
   },
   "outputs": [],
   "source": [
    "import numpy as np"
   ]
  },
  {
   "cell_type": "markdown",
   "id": "b83d44fb-fc2c-40db-a723-7956e2c7c336",
   "metadata": {
    "colab_type": "text",
    "id": "AgzBRpmOgDwo"
   },
   "source": [
    "#### Create an array of 10 zeros "
   ]
  },
  {
   "cell_type": "code",
   "execution_count": 2,
   "id": "fabd6a9c-3407-4cc1-9515-fbf4262ffffd",
   "metadata": {
    "colab": {},
    "colab_type": "code",
    "id": "iDBurHNIgDwp",
    "outputId": "3635e6a1-8fae-4e8f-8f9b-f6f5f70e97da"
   },
   "outputs": [
    {
     "data": {
      "text/plain": [
       "array([0., 0., 0., 0., 0., 0., 0., 0., 0., 0.])"
      ]
     },
     "execution_count": 2,
     "metadata": {},
     "output_type": "execute_result"
    }
   ],
   "source": [
    "np.zeros(10)"
   ]
  },
  {
   "cell_type": "markdown",
   "id": "6db00e01-0ee2-4411-8af4-c2bf0e33a341",
   "metadata": {
    "colab_type": "text",
    "id": "URrMDhbPgDwr"
   },
   "source": [
    "#### Create an array of 10 ones"
   ]
  },
  {
   "cell_type": "code",
   "execution_count": 3,
   "id": "3157958a-45b6-4b84-b1ee-0126a2405cc0",
   "metadata": {
    "colab": {},
    "colab_type": "code",
    "id": "Ooy8e-rigDwr",
    "outputId": "9f5ff9d0-b710-407b-d926-c2a33c8256b8"
   },
   "outputs": [
    {
     "data": {
      "text/plain": [
       "array([1., 1., 1., 1., 1., 1., 1., 1., 1., 1.])"
      ]
     },
     "execution_count": 3,
     "metadata": {},
     "output_type": "execute_result"
    }
   ],
   "source": [
    "np.ones(10)"
   ]
  },
  {
   "cell_type": "markdown",
   "id": "cc8f0888-6df0-4b58-9178-b7cfea5910a1",
   "metadata": {
    "colab_type": "text",
    "id": "IhlIKQJ-gDwt"
   },
   "source": [
    "#### Create an array of 10 fives"
   ]
  },
  {
   "cell_type": "code",
   "execution_count": 4,
   "id": "9178f458-9d46-4e28-a6ee-b6f0520c8df9",
   "metadata": {
    "colab": {},
    "colab_type": "code",
    "id": "2zNAlpIbgDwt",
    "outputId": "5e00dd52-8736-445e-96ef-10e7cf912df3"
   },
   "outputs": [
    {
     "data": {
      "text/plain": [
       "array([5., 5., 5., 5., 5., 5., 5., 5., 5., 5.])"
      ]
     },
     "execution_count": 4,
     "metadata": {},
     "output_type": "execute_result"
    }
   ],
   "source": [
    "np.ones(10)*5"
   ]
  },
  {
   "cell_type": "markdown",
   "id": "92a9829f-a26c-4375-9f61-f8905ce3cf14",
   "metadata": {
    "colab_type": "text",
    "id": "TfMD_Qb4gDwv"
   },
   "source": [
    "#### Create an array of the integers from 10 to 50"
   ]
  },
  {
   "cell_type": "code",
   "execution_count": 5,
   "id": "f075102b-1762-40cb-bab0-27c0e942aa49",
   "metadata": {},
   "outputs": [
    {
     "data": {
      "text/plain": [
       "array([10, 11, 12, 13, 14, 15, 16, 17, 18, 19, 20, 21, 22, 23, 24, 25, 26,\n",
       "       27, 28, 29, 30, 31, 32, 33, 34, 35, 36, 37, 38, 39, 40, 41, 42, 43,\n",
       "       44, 45, 46, 47, 48, 49, 50])"
      ]
     },
     "execution_count": 5,
     "metadata": {},
     "output_type": "execute_result"
    }
   ],
   "source": [
    "np.arange(10, 51)"
   ]
  },
  {
   "cell_type": "code",
   "execution_count": null,
   "id": "3ca911ea-acb8-47f6-81d1-85466a1cf038",
   "metadata": {
    "colab": {},
    "colab_type": "code",
    "id": "R7ogpVwQgDwv",
    "outputId": "d8571ad9-0fa0-4b29-b1c4-381bf38d70db"
   },
   "outputs": [
    {
     "data": {
      "text/plain": [
       "array([10, 11, 12, 13, 14, 15, 16, 17, 18, 19, 20, 21, 22, 23, 24, 25, 26,\n",
       "       27, 28, 29, 30, 31, 32, 33, 34, 35, 36, 37, 38, 39, 40, 41, 42, 43,\n",
       "       44, 45, 46, 47, 48, 49, 50])"
      ]
     },
     "execution_count": 5,
     "metadata": {
      "tags": []
     },
     "output_type": "execute_result"
    }
   ],
   "source": []
  },
  {
   "cell_type": "markdown",
   "id": "2af7abc6-e73a-482a-9ecd-35402a86137e",
   "metadata": {
    "colab_type": "text",
    "id": "dEE2vX_KgDwx"
   },
   "source": [
    "#### Create an array of all the even integers from 10 to 50"
   ]
  },
  {
   "cell_type": "code",
   "execution_count": 6,
   "id": "213a8685-e77c-4d12-91b3-f201da913ead",
   "metadata": {},
   "outputs": [
    {
     "data": {
      "text/plain": [
       "array([10, 12, 14, 16, 18, 20, 22, 24, 26, 28, 30, 32, 34, 36, 38, 40, 42,\n",
       "       44, 46, 48, 50])"
      ]
     },
     "execution_count": 6,
     "metadata": {},
     "output_type": "execute_result"
    }
   ],
   "source": [
    "np.arange(10, 51, 2)"
   ]
  },
  {
   "cell_type": "code",
   "execution_count": null,
   "id": "6dc89897-36ef-4aa6-9947-0de33f427fd6",
   "metadata": {
    "colab": {},
    "colab_type": "code",
    "id": "BlqIokRmgDwx",
    "outputId": "5f993c15-1e3b-43e3-87d2-aa803ff8adde"
   },
   "outputs": [
    {
     "data": {
      "text/plain": [
       "array([10, 12, 14, 16, 18, 20, 22, 24, 26, 28, 30, 32, 34, 36, 38, 40, 42,\n",
       "       44, 46, 48, 50])"
      ]
     },
     "execution_count": 6,
     "metadata": {
      "tags": []
     },
     "output_type": "execute_result"
    }
   ],
   "source": []
  },
  {
   "cell_type": "markdown",
   "id": "eea4c0fb-9be9-428e-9f46-29714605e329",
   "metadata": {
    "colab_type": "text",
    "id": "Ih1HAYpegDwz"
   },
   "source": [
    "#### Create a 3x3 matrix with values ranging from 0 to 8"
   ]
  },
  {
   "cell_type": "code",
   "execution_count": 7,
   "id": "89cefec3-d8d5-40ca-8637-27a170835812",
   "metadata": {
    "colab": {},
    "colab_type": "code",
    "id": "6EaOz3NRgDwz",
    "outputId": "630e5f3e-af6d-4dcf-d001-4ee5da8334e6"
   },
   "outputs": [
    {
     "name": "stdout",
     "output_type": "stream",
     "text": [
      "[[0 1 2]\n",
      " [3 4 5]\n",
      " [6 7 8]]\n"
     ]
    }
   ],
   "source": [
    "array1 = np.arange(0, 9).reshape(3,3)\n",
    "print(array1)"
   ]
  },
  {
   "cell_type": "markdown",
   "id": "ce5e6529-32cb-456e-b1f7-71ba7e7e4475",
   "metadata": {
    "colab_type": "text",
    "id": "AW4TXMVXgDw1"
   },
   "source": [
    "#### Create a 3x3 identity matrix"
   ]
  },
  {
   "cell_type": "code",
   "execution_count": 8,
   "id": "a2def5ec-4ccd-47f7-8af7-68d52939d39c",
   "metadata": {},
   "outputs": [
    {
     "data": {
      "text/plain": [
       "array([[1., 0., 0.],\n",
       "       [0., 1., 0.],\n",
       "       [0., 0., 1.]])"
      ]
     },
     "execution_count": 8,
     "metadata": {},
     "output_type": "execute_result"
    }
   ],
   "source": [
    "np.eye(3)"
   ]
  },
  {
   "cell_type": "code",
   "execution_count": null,
   "id": "ea147c91-4175-44bc-9e7e-75bcb12d79b9",
   "metadata": {
    "colab": {},
    "colab_type": "code",
    "id": "nmGw6VKTgDw1",
    "outputId": "2d298f98-54a0-405c-ca7c-cad292074a2b"
   },
   "outputs": [
    {
     "data": {
      "text/plain": [
       "array([[ 1.,  0.,  0.],\n",
       "       [ 0.,  1.,  0.],\n",
       "       [ 0.,  0.,  1.]])"
      ]
     },
     "execution_count": 8,
     "metadata": {
      "tags": []
     },
     "output_type": "execute_result"
    }
   ],
   "source": []
  },
  {
   "cell_type": "markdown",
   "id": "b22ee20f-c5b9-45cf-871d-d6c7bc2f74df",
   "metadata": {
    "colab_type": "text",
    "id": "ik9S6Ny1gDw3"
   },
   "source": [
    "#### Use NumPy to generate a random number between 0 and 1"
   ]
  },
  {
   "cell_type": "code",
   "execution_count": 9,
   "id": "b37f3c77-24b4-4ee3-9bdc-ff37c1e4b63a",
   "metadata": {},
   "outputs": [
    {
     "data": {
      "text/plain": [
       "array([0.95149944])"
      ]
     },
     "execution_count": 9,
     "metadata": {},
     "output_type": "execute_result"
    }
   ],
   "source": [
    "np.random.rand(1)"
   ]
  },
  {
   "cell_type": "code",
   "execution_count": null,
   "id": "5712954b-3845-4b36-b860-4a07c5d8b723",
   "metadata": {
    "colab": {},
    "colab_type": "code",
    "id": "DX0BiW1mgDw3",
    "outputId": "76aeedba-2115-455b-b57a-7ef6f1c155b9"
   },
   "outputs": [
    {
     "data": {
      "text/plain": [
       "array([ 0.42829726])"
      ]
     },
     "execution_count": 15,
     "metadata": {
      "tags": []
     },
     "output_type": "execute_result"
    }
   ],
   "source": []
  },
  {
   "cell_type": "markdown",
   "id": "b226caed-ebc7-482e-808a-ad341ffc5e28",
   "metadata": {
    "colab_type": "text",
    "id": "-pha27mjgDw5"
   },
   "source": [
    "#### Use NumPy to generate an array of 25 random numbers sampled from a standard normal distribution"
   ]
  },
  {
   "cell_type": "code",
   "execution_count": 14,
   "id": "52e7c953-20b1-4804-a622-c208a90d59ab",
   "metadata": {},
   "outputs": [
    {
     "data": {
      "text/plain": [
       "array([ 0.13308492,  0.16076672,  0.05635544, -0.74371912, -0.42798209,\n",
       "        1.57158072, -2.90793733,  0.41546366,  0.09923846,  0.67377931,\n",
       "        1.02658362,  0.97702416,  0.72308974, -0.55855544,  0.35287434,\n",
       "       -0.16532708, -0.55296751, -0.08157599, -0.35597281,  1.11341321,\n",
       "       -0.97422295, -0.23658628,  0.15811922, -0.87116326, -0.64720239])"
      ]
     },
     "execution_count": 14,
     "metadata": {},
     "output_type": "execute_result"
    }
   ],
   "source": [
    "np.random.normal(0, 1, 25)"
   ]
  },
  {
   "cell_type": "code",
   "execution_count": null,
   "id": "e3be481f-38ee-429c-aba4-4c1cb5880508",
   "metadata": {
    "colab": {},
    "colab_type": "code",
    "id": "zZiM8X52gDw5",
    "outputId": "d9fab5a4-03c5-4790-9bf3-3787a2ba0e0b"
   },
   "outputs": [
    {
     "data": {
      "text/plain": [
       "array([ 1.32031013,  1.6798602 , -0.42985892, -1.53116655,  0.85753232,\n",
       "        0.87339938,  0.35668636, -1.47491157,  0.15349697,  0.99530727,\n",
       "       -0.94865451, -1.69174783,  1.57525349, -0.70615234,  0.10991879,\n",
       "       -0.49478947,  1.08279872,  0.76488333, -2.3039931 ,  0.35401124,\n",
       "       -0.45454399, -0.64754649, -0.29391671,  0.02339861,  0.38272124])"
      ]
     },
     "execution_count": 33,
     "metadata": {
      "tags": []
     },
     "output_type": "execute_result"
    }
   ],
   "source": []
  },
  {
   "cell_type": "markdown",
   "id": "08bda7a9-b681-4d3b-9689-339b862813de",
   "metadata": {
    "colab_type": "text",
    "id": "0u4l0ZiDgDw7"
   },
   "source": [
    "#### Create the following matrix:"
   ]
  },
  {
   "cell_type": "code",
   "execution_count": 32,
   "id": "c9e4920f-1386-43e7-8c7b-d3a8bde3cd6e",
   "metadata": {},
   "outputs": [
    {
     "data": {
      "text/plain": [
       "array([[0.01, 0.02, 0.03, 0.04, 0.05, 0.06, 0.07, 0.08, 0.09, 0.1 ],\n",
       "       [0.11, 0.12, 0.13, 0.14, 0.15, 0.16, 0.17, 0.18, 0.19, 0.2 ],\n",
       "       [0.21, 0.22, 0.23, 0.24, 0.25, 0.26, 0.27, 0.28, 0.29, 0.3 ],\n",
       "       [0.31, 0.32, 0.33, 0.34, 0.35, 0.36, 0.37, 0.38, 0.39, 0.4 ],\n",
       "       [0.41, 0.42, 0.43, 0.44, 0.45, 0.46, 0.47, 0.48, 0.49, 0.5 ],\n",
       "       [0.51, 0.52, 0.53, 0.54, 0.55, 0.56, 0.57, 0.58, 0.59, 0.6 ],\n",
       "       [0.61, 0.62, 0.63, 0.64, 0.65, 0.66, 0.67, 0.68, 0.69, 0.7 ],\n",
       "       [0.71, 0.72, 0.73, 0.74, 0.75, 0.76, 0.77, 0.78, 0.79, 0.8 ],\n",
       "       [0.81, 0.82, 0.83, 0.84, 0.85, 0.86, 0.87, 0.88, 0.89, 0.9 ],\n",
       "       [0.91, 0.92, 0.93, 0.94, 0.95, 0.96, 0.97, 0.98, 0.99, 1.  ]])"
      ]
     },
     "execution_count": 32,
     "metadata": {},
     "output_type": "execute_result"
    }
   ],
   "source": [
    "np.arange(start = 0.01, stop = 1.01, step = 0.01).reshape(10, 10)"
   ]
  },
  {
   "cell_type": "code",
   "execution_count": 33,
   "id": "d300bf32-2f11-48b6-84a3-f101708256e4",
   "metadata": {},
   "outputs": [
    {
     "data": {
      "text/plain": [
       "array([[0.01, 0.02, 0.03, 0.04, 0.05, 0.06, 0.07, 0.08, 0.09, 0.1 ],\n",
       "       [0.11, 0.12, 0.13, 0.14, 0.15, 0.16, 0.17, 0.18, 0.19, 0.2 ],\n",
       "       [0.21, 0.22, 0.23, 0.24, 0.25, 0.26, 0.27, 0.28, 0.29, 0.3 ],\n",
       "       [0.31, 0.32, 0.33, 0.34, 0.35, 0.36, 0.37, 0.38, 0.39, 0.4 ],\n",
       "       [0.41, 0.42, 0.43, 0.44, 0.45, 0.46, 0.47, 0.48, 0.49, 0.5 ],\n",
       "       [0.51, 0.52, 0.53, 0.54, 0.55, 0.56, 0.57, 0.58, 0.59, 0.6 ],\n",
       "       [0.61, 0.62, 0.63, 0.64, 0.65, 0.66, 0.67, 0.68, 0.69, 0.7 ],\n",
       "       [0.71, 0.72, 0.73, 0.74, 0.75, 0.76, 0.77, 0.78, 0.79, 0.8 ],\n",
       "       [0.81, 0.82, 0.83, 0.84, 0.85, 0.86, 0.87, 0.88, 0.89, 0.9 ],\n",
       "       [0.91, 0.92, 0.93, 0.94, 0.95, 0.96, 0.97, 0.98, 0.99, 1.  ]])"
      ]
     },
     "execution_count": 33,
     "metadata": {},
     "output_type": "execute_result"
    }
   ],
   "source": [
    "np.linspace(0.01, 1, 100).reshape(10,10)"
   ]
  },
  {
   "cell_type": "code",
   "execution_count": 31,
   "id": "93d0f260-34f1-4ab7-8893-5894e46a4aa6",
   "metadata": {},
   "outputs": [
    {
     "name": "stdout",
     "output_type": "stream",
     "text": [
      "Help on built-in function arange in module numpy:\n",
      "\n",
      "arange(...)\n",
      "    arange([start,] stop[, step,], dtype=None, *, like=None)\n",
      "    \n",
      "    Return evenly spaced values within a given interval.\n",
      "    \n",
      "    Values are generated within the half-open interval ``[start, stop)``\n",
      "    (in other words, the interval including `start` but excluding `stop`).\n",
      "    For integer arguments the function is equivalent to the Python built-in\n",
      "    `range` function, but returns an ndarray rather than a list.\n",
      "    \n",
      "    When using a non-integer step, such as 0.1, the results will often not\n",
      "    be consistent.  It is better to use `numpy.linspace` for these cases.\n",
      "    \n",
      "    Parameters\n",
      "    ----------\n",
      "    start : integer or real, optional\n",
      "        Start of interval.  The interval includes this value.  The default\n",
      "        start value is 0.\n",
      "    stop : integer or real\n",
      "        End of interval.  The interval does not include this value, except\n",
      "        in some cases where `step` is not an integer and floating point\n",
      "        round-off affects the length of `out`.\n",
      "    step : integer or real, optional\n",
      "        Spacing between values.  For any output `out`, this is the distance\n",
      "        between two adjacent values, ``out[i+1] - out[i]``.  The default\n",
      "        step size is 1.  If `step` is specified as a position argument,\n",
      "        `start` must also be given.\n",
      "    dtype : dtype\n",
      "        The type of the output array.  If `dtype` is not given, infer the data\n",
      "        type from the other input arguments.\n",
      "    like : array_like\n",
      "        Reference object to allow the creation of arrays which are not\n",
      "        NumPy arrays. If an array-like passed in as ``like`` supports\n",
      "        the ``__array_function__`` protocol, the result will be defined\n",
      "        by it. In this case, it ensures the creation of an array object\n",
      "        compatible with that passed in via this argument.\n",
      "    \n",
      "        .. versionadded:: 1.20.0\n",
      "    \n",
      "    Returns\n",
      "    -------\n",
      "    arange : ndarray\n",
      "        Array of evenly spaced values.\n",
      "    \n",
      "        For floating point arguments, the length of the result is\n",
      "        ``ceil((stop - start)/step)``.  Because of floating point overflow,\n",
      "        this rule may result in the last element of `out` being greater\n",
      "        than `stop`.\n",
      "    \n",
      "    See Also\n",
      "    --------\n",
      "    numpy.linspace : Evenly spaced numbers with careful handling of endpoints.\n",
      "    numpy.ogrid: Arrays of evenly spaced numbers in N-dimensions.\n",
      "    numpy.mgrid: Grid-shaped arrays of evenly spaced numbers in N-dimensions.\n",
      "    \n",
      "    Examples\n",
      "    --------\n",
      "    >>> np.arange(3)\n",
      "    array([0, 1, 2])\n",
      "    >>> np.arange(3.0)\n",
      "    array([ 0.,  1.,  2.])\n",
      "    >>> np.arange(3,7)\n",
      "    array([3, 4, 5, 6])\n",
      "    >>> np.arange(3,7,2)\n",
      "    array([3, 5])\n",
      "\n"
     ]
    }
   ],
   "source": [
    "help(np.arange)"
   ]
  },
  {
   "cell_type": "code",
   "execution_count": null,
   "id": "1eb3ebd9-89c1-4660-8705-823b9ac6a2c3",
   "metadata": {
    "colab": {},
    "colab_type": "code",
    "id": "sXVNUtW4gDw7",
    "outputId": "6cf3ca5d-eb2f-4a58-b46f-2bce319d9aac"
   },
   "outputs": [
    {
     "data": {
      "text/plain": [
       "array([[ 0.01,  0.02,  0.03,  0.04,  0.05,  0.06,  0.07,  0.08,  0.09,  0.1 ],\n",
       "       [ 0.11,  0.12,  0.13,  0.14,  0.15,  0.16,  0.17,  0.18,  0.19,  0.2 ],\n",
       "       [ 0.21,  0.22,  0.23,  0.24,  0.25,  0.26,  0.27,  0.28,  0.29,  0.3 ],\n",
       "       [ 0.31,  0.32,  0.33,  0.34,  0.35,  0.36,  0.37,  0.38,  0.39,  0.4 ],\n",
       "       [ 0.41,  0.42,  0.43,  0.44,  0.45,  0.46,  0.47,  0.48,  0.49,  0.5 ],\n",
       "       [ 0.51,  0.52,  0.53,  0.54,  0.55,  0.56,  0.57,  0.58,  0.59,  0.6 ],\n",
       "       [ 0.61,  0.62,  0.63,  0.64,  0.65,  0.66,  0.67,  0.68,  0.69,  0.7 ],\n",
       "       [ 0.71,  0.72,  0.73,  0.74,  0.75,  0.76,  0.77,  0.78,  0.79,  0.8 ],\n",
       "       [ 0.81,  0.82,  0.83,  0.84,  0.85,  0.86,  0.87,  0.88,  0.89,  0.9 ],\n",
       "       [ 0.91,  0.92,  0.93,  0.94,  0.95,  0.96,  0.97,  0.98,  0.99,  1.  ]])"
      ]
     },
     "execution_count": 35,
     "metadata": {
      "tags": []
     },
     "output_type": "execute_result"
    }
   ],
   "source": []
  },
  {
   "cell_type": "markdown",
   "id": "c8ef466b-4aa8-4664-b211-2dbdddfcfa86",
   "metadata": {
    "colab_type": "text",
    "id": "LDRBaoFMgDw8"
   },
   "source": [
    "#### Create an array of 20 linearly spaced points between 0 and 1:"
   ]
  },
  {
   "cell_type": "code",
   "execution_count": 28,
   "id": "e2410fc6-dfee-47f6-81cd-255c64fb461b",
   "metadata": {
    "colab": {},
    "colab_type": "code",
    "id": "YBzfEl_IgDw9",
    "outputId": "56c91b69-2cff-4940-98bc-902d93f202bc"
   },
   "outputs": [
    {
     "data": {
      "text/plain": [
       "array([0.        , 0.05263158, 0.10526316, 0.15789474, 0.21052632,\n",
       "       0.26315789, 0.31578947, 0.36842105, 0.42105263, 0.47368421,\n",
       "       0.52631579, 0.57894737, 0.63157895, 0.68421053, 0.73684211,\n",
       "       0.78947368, 0.84210526, 0.89473684, 0.94736842, 1.        ])"
      ]
     },
     "execution_count": 28,
     "metadata": {},
     "output_type": "execute_result"
    }
   ],
   "source": [
    "np.linspace(0, 1, 20)"
   ]
  },
  {
   "cell_type": "markdown",
   "id": "562b560e-ccf1-4e4a-9e57-0c9117a21d73",
   "metadata": {
    "colab_type": "text",
    "id": "Y4EXW16UgDw-"
   },
   "source": [
    "## Numpy Indexing and Selection\n",
    "\n",
    "Now you will be given a few matrices, and be asked to replicate the resulting matrix outputs:"
   ]
  },
  {
   "cell_type": "code",
   "execution_count": 35,
   "id": "0679e8ad-2b50-473b-b4eb-d97025344ffb",
   "metadata": {
    "colab": {},
    "colab_type": "code",
    "id": "Z1tpU7L0gDw_",
    "outputId": "c242e367-f52d-422f-b9a7-d95a40fa1605"
   },
   "outputs": [
    {
     "data": {
      "text/plain": [
       "array([[ 1,  2,  3,  4,  5],\n",
       "       [ 6,  7,  8,  9, 10],\n",
       "       [11, 12, 13, 14, 15],\n",
       "       [16, 17, 18, 19, 20],\n",
       "       [21, 22, 23, 24, 25]])"
      ]
     },
     "execution_count": 35,
     "metadata": {},
     "output_type": "execute_result"
    }
   ],
   "source": [
    "mat = np.arange(1,26).reshape(5,5)\n",
    "mat"
   ]
  },
  {
   "cell_type": "code",
   "execution_count": 37,
   "id": "5b4c44c3-d3ef-4a5c-9b5b-e2f68b2e081e",
   "metadata": {
    "colab": {},
    "colab_type": "code",
    "id": "B-p0rDNggDxA"
   },
   "outputs": [
    {
     "data": {
      "text/plain": [
       "array([[12, 13, 14, 15],\n",
       "       [17, 18, 19, 20],\n",
       "       [22, 23, 24, 25]])"
      ]
     },
     "execution_count": 37,
     "metadata": {},
     "output_type": "execute_result"
    }
   ],
   "source": [
    "# WRITE CODE HERE THAT REPRODUCES THE OUTPUT OF THE CELL BELOW\n",
    "# BE CAREFUL NOT TO RUN THE CELL BELOW, OTHERWISE YOU WON'T\n",
    "# BE ABLE TO SEE THE OUTPUT ANY MORE\n",
    "mat[2:, 1:]"
   ]
  },
  {
   "cell_type": "code",
   "execution_count": null,
   "id": "b6f23752-50b9-469b-872b-f0efc34b0aa9",
   "metadata": {
    "colab": {},
    "colab_type": "code",
    "id": "3nIk2MdHgDxC",
    "outputId": "cd04ccee-845c-421a-d3ee-6a96ace0e070"
   },
   "outputs": [
    {
     "data": {
      "text/plain": [
       "array([[12, 13, 14, 15],\n",
       "       [17, 18, 19, 20],\n",
       "       [22, 23, 24, 25]])"
      ]
     },
     "execution_count": 40,
     "metadata": {
      "tags": []
     },
     "output_type": "execute_result"
    }
   ],
   "source": []
  },
  {
   "cell_type": "code",
   "execution_count": 38,
   "id": "61eed2bd-4b12-43c6-9621-89103efea418",
   "metadata": {
    "colab": {},
    "colab_type": "code",
    "id": "bl2lZUC4gDxD"
   },
   "outputs": [
    {
     "data": {
      "text/plain": [
       "20"
      ]
     },
     "execution_count": 38,
     "metadata": {},
     "output_type": "execute_result"
    }
   ],
   "source": [
    "# WRITE CODE HERE THAT REPRODUCES THE OUTPUT OF THE CELL BELOW\n",
    "# BE CAREFUL NOT TO RUN THE CELL BELOW, OTHERWISE YOU WON'T\n",
    "# BE ABLE TO SEE THE OUTPUT ANY MORE\n",
    "mat[3,4]"
   ]
  },
  {
   "cell_type": "code",
   "execution_count": null,
   "id": "fecb2c10-dc1a-47b9-9136-fdadf51fda5b",
   "metadata": {
    "colab": {},
    "colab_type": "code",
    "id": "ng_qCmnngDxF",
    "outputId": "debc9737-bf0b-43d4-dcfe-05d763c82ebc"
   },
   "outputs": [
    {
     "data": {
      "text/plain": [
       "20"
      ]
     },
     "execution_count": 41,
     "metadata": {
      "tags": []
     },
     "output_type": "execute_result"
    }
   ],
   "source": []
  },
  {
   "cell_type": "code",
   "execution_count": 46,
   "id": "31dc31a6-c195-4340-992b-27565ee712c1",
   "metadata": {
    "colab": {},
    "colab_type": "code",
    "id": "zxEXNB2xgDxI"
   },
   "outputs": [
    {
     "data": {
      "text/plain": [
       "array([[ 2],\n",
       "       [ 7],\n",
       "       [12]])"
      ]
     },
     "execution_count": 46,
     "metadata": {},
     "output_type": "execute_result"
    }
   ],
   "source": [
    "# WRITE CODE HERE THAT REPRODUCES THE OUTPUT OF THE CELL BELOW\n",
    "# BE CAREFUL NOT TO RUN THE CELL BELOW, OTHERWISE YOU WON'T\n",
    "# BE ABLE TO SEE THE OUTPUT ANY MORE\n",
    "sub_mat = mat[0:3, 1]\n",
    "temp = np.array(list(map(lambda x : [x], sub_mat) ))\n",
    "temp"
   ]
  },
  {
   "cell_type": "code",
   "execution_count": null,
   "id": "c7c6d6a2-08ce-42c4-a53f-05dd045a765f",
   "metadata": {
    "colab": {},
    "colab_type": "code",
    "id": "TepQtKoNgDxL",
    "outputId": "77ff8d26-4b4d-4ee9-981c-e3ac27c14cba"
   },
   "outputs": [
    {
     "data": {
      "text/plain": [
       "array([[ 2],\n",
       "       [ 7],\n",
       "       [12]])"
      ]
     },
     "execution_count": 42,
     "metadata": {
      "tags": []
     },
     "output_type": "execute_result"
    }
   ],
   "source": []
  },
  {
   "cell_type": "code",
   "execution_count": 54,
   "id": "4a778b4a-f773-4d9e-94f6-5205b99f862d",
   "metadata": {
    "colab": {},
    "colab_type": "code",
    "id": "a0urUXOVgDxM"
   },
   "outputs": [
    {
     "data": {
      "text/plain": [
       "array([21, 22, 23, 24, 25])"
      ]
     },
     "execution_count": 54,
     "metadata": {},
     "output_type": "execute_result"
    }
   ],
   "source": [
    "# WRITE CODE HERE THAT REPRODUCES THE OUTPUT OF THE CELL BELOW\n",
    "# BE CAREFUL NOT TO RUN THE CELL BELOW, OTHERWISE YOU WON'T\n",
    "# BE ABLE TO SEE THE OUTPUT ANY MORE\n",
    "mat[4:, ].reshape(5)"
   ]
  },
  {
   "cell_type": "code",
   "execution_count": null,
   "id": "17d45594-fe0f-4a64-a14e-4fa7bb4d3db6",
   "metadata": {
    "colab": {},
    "colab_type": "code",
    "id": "P8_2gsZ3gDxN",
    "outputId": "057a1d00-8b51-4f8e-be23-a770ba82e996"
   },
   "outputs": [
    {
     "data": {
      "text/plain": [
       "array([21, 22, 23, 24, 25])"
      ]
     },
     "execution_count": 46,
     "metadata": {
      "tags": []
     },
     "output_type": "execute_result"
    }
   ],
   "source": []
  },
  {
   "cell_type": "code",
   "execution_count": 56,
   "id": "c4e78952-99c0-470e-b111-e4146194af4b",
   "metadata": {
    "colab": {},
    "colab_type": "code",
    "id": "PcFyVwzLgDxP"
   },
   "outputs": [
    {
     "data": {
      "text/plain": [
       "array([[16, 17, 18, 19, 20],\n",
       "       [21, 22, 23, 24, 25]])"
      ]
     },
     "execution_count": 56,
     "metadata": {},
     "output_type": "execute_result"
    }
   ],
   "source": [
    "# WRITE CODE HERE THAT REPRODUCES THE OUTPUT OF THE CELL BELOW\n",
    "# BE CAREFUL NOT TO RUN THE CELL BELOW, OTHERWISE YOU WON'T\n",
    "# BE ABLE TO SEE THE OUTPUT ANY MORE\n",
    "mat[3:5, :]"
   ]
  },
  {
   "cell_type": "code",
   "execution_count": null,
   "id": "f8db89d3-2cfb-43ca-b46d-4384a468bbee",
   "metadata": {
    "colab": {},
    "colab_type": "code",
    "id": "RRftN74agDxQ",
    "outputId": "85d220ae-c6e7-477d-bb6d-920840082f66"
   },
   "outputs": [
    {
     "data": {
      "text/plain": [
       "array([[16, 17, 18, 19, 20],\n",
       "       [21, 22, 23, 24, 25]])"
      ]
     },
     "execution_count": 49,
     "metadata": {
      "tags": []
     },
     "output_type": "execute_result"
    }
   ],
   "source": []
  },
  {
   "cell_type": "markdown",
   "id": "907d2298-022c-4a13-bd06-46f8a54b5080",
   "metadata": {
    "colab_type": "text",
    "id": "MlWJ7UmZgDxR"
   },
   "source": [
    "### Now do the following"
   ]
  },
  {
   "cell_type": "markdown",
   "id": "e53e6581-15b5-4d14-8bd5-2507cd3826e4",
   "metadata": {
    "colab_type": "text",
    "id": "KB9gEJFkgDxR"
   },
   "source": [
    "#### Get the sum of all the values in mat"
   ]
  },
  {
   "cell_type": "code",
   "execution_count": 57,
   "id": "9adce32c-9a50-4423-8229-3a07e1de22b0",
   "metadata": {
    "colab": {},
    "colab_type": "code",
    "id": "ld_Q0HQPgDxS",
    "outputId": "29a162e2-0301-4744-a78e-969e9d7ac426"
   },
   "outputs": [
    {
     "data": {
      "text/plain": [
       "325"
      ]
     },
     "execution_count": 57,
     "metadata": {},
     "output_type": "execute_result"
    }
   ],
   "source": [
    "np.sum(mat)"
   ]
  },
  {
   "cell_type": "markdown",
   "id": "cae4127c-8399-4ea2-b16e-c4b32f5526e1",
   "metadata": {
    "colab_type": "text",
    "id": "3gms6s9ZgDxT"
   },
   "source": [
    "#### Get the standard deviation of the values in mat"
   ]
  },
  {
   "cell_type": "code",
   "execution_count": 58,
   "id": "49ac8aa9-8fad-4ace-8370-c90b9ec13474",
   "metadata": {
    "colab": {},
    "colab_type": "code",
    "id": "10gnTa-NgDxT",
    "outputId": "06b14d6b-42a9-4436-891d-b6e26886333c"
   },
   "outputs": [
    {
     "data": {
      "text/plain": [
       "7.211102550927978"
      ]
     },
     "execution_count": 58,
     "metadata": {},
     "output_type": "execute_result"
    }
   ],
   "source": [
    "np.std(mat)"
   ]
  },
  {
   "cell_type": "markdown",
   "id": "136eb75a-eb61-449f-8f98-99c4edd31c66",
   "metadata": {
    "colab_type": "text",
    "id": "inX5Yz75gDxV"
   },
   "source": [
    "#### Get the sum of all the columns in mat"
   ]
  },
  {
   "cell_type": "code",
   "execution_count": 60,
   "id": "d8ab0cec-3584-4926-95f3-529b731a728c",
   "metadata": {},
   "outputs": [
    {
     "name": "stdout",
     "output_type": "stream",
     "text": [
      "[55 60 65 70 75]\n"
     ]
    }
   ],
   "source": [
    "colSum = np.sum(mat,axis = 0)\n",
    "   ...: print(colSum)"
   ]
  },
  {
   "cell_type": "code",
   "execution_count": 64,
   "id": "6874a120-4674-4d68-afc7-63e3c7604790",
   "metadata": {
    "colab": {},
    "colab_type": "code",
    "id": "gmGgMmvFgDxV",
    "outputId": "3bf41eee-1cdc-46fa-ac79-893fdd6f424c"
   },
   "outputs": [
    {
     "name": "stdout",
     "output_type": "stream",
     "text": [
      "[55 60 65 70 75]\n"
     ]
    }
   ],
   "source": [
    " colSum = mat.sum(axis = 0)\n",
    "   ...: print(colSum)"
   ]
  },
  {
   "cell_type": "code",
   "execution_count": 65,
   "id": "1e7710f9-7625-4656-8f52-294811047b18",
   "metadata": {},
   "outputs": [
    {
     "data": {
      "text/plain": [
       "array([55, 60, 65, 70, 75])"
      ]
     },
     "execution_count": 65,
     "metadata": {},
     "output_type": "execute_result"
    }
   ],
   "source": [
    "mat.sum(axis = 0)"
   ]
  },
  {
   "cell_type": "code",
   "execution_count": null,
   "id": "d9e8cec9-8789-4be3-92f2-c43eec52a7a9",
   "metadata": {},
   "outputs": [],
   "source": []
  },
  {
   "cell_type": "markdown",
   "id": "b11fe7de-3104-4687-bf8c-399bef337efa",
   "metadata": {
    "tags": []
   },
   "source": [
    "\n",
    "# Exercise -6 Ecommerce Purchases Exercise\n",
    "\n",
    "In this Exercise you will be given some Fake Data about some purchases done through Amazon! Just go ahead and follow the directions and try your best to answer the questions and complete the tasks. Feel free to reference the solutions. Most of the tasks can be solved in different ways. For the most part, the questions get progressively harder.\n",
    "\n",
    "Please excuse anything that doesn't make \"Real-World\" sense in the dataframe, all the data is fake and made-up.\n",
    "\n",
    "Also note that all of these questions can be answered with one line of code.\n",
    "____\n",
    "** Import pandas and read in the Ecommerce Purchases csv file and set it to a DataFrame called ecom. **"
   ]
  },
  {
   "cell_type": "code",
   "execution_count": 1,
   "id": "c02a1165-76c3-46f1-ac0a-6421595bf02b",
   "metadata": {
    "tags": []
   },
   "outputs": [],
   "source": [
    "import numpy as np\n",
    "import pandas as pd"
   ]
  },
  {
   "cell_type": "code",
   "execution_count": 5,
   "id": "f373ab3c-36c2-410f-8748-0d5a4425cf7f",
   "metadata": {
    "tags": []
   },
   "outputs": [],
   "source": [
    "file_path = \"C:/Users/Apsu/Desktop/Simplilearn_course1_folder/Day-1-materials/Datasets/Ecommerce_Purchases.txt\"\n",
    "ecom = pd.read_csv(file_path, sep =',')"
   ]
  },
  {
   "cell_type": "code",
   "execution_count": 6,
   "id": "feaace83-9cda-4571-9f98-4830d34ec1ae",
   "metadata": {},
   "outputs": [
    {
     "name": "stdout",
     "output_type": "stream",
     "text": [
      "<class 'pandas.core.frame.DataFrame'>\n",
      "RangeIndex: 10000 entries, 0 to 9999\n",
      "Data columns (total 14 columns):\n",
      " #   Column            Non-Null Count  Dtype  \n",
      "---  ------            --------------  -----  \n",
      " 0   Address           10000 non-null  object \n",
      " 1   Lot               10000 non-null  object \n",
      " 2   AM or PM          10000 non-null  object \n",
      " 3   Browser Info      10000 non-null  object \n",
      " 4   Company           10000 non-null  object \n",
      " 5   Credit Card       10000 non-null  int64  \n",
      " 6   CC Exp Date       10000 non-null  object \n",
      " 7   CC Security Code  10000 non-null  int64  \n",
      " 8   CC Provider       10000 non-null  object \n",
      " 9   Email             10000 non-null  object \n",
      " 10  Job               10000 non-null  object \n",
      " 11  IP Address        10000 non-null  object \n",
      " 12  Language          10000 non-null  object \n",
      " 13  Purchase Price    10000 non-null  float64\n",
      "dtypes: float64(1), int64(2), object(11)\n",
      "memory usage: 1.1+ MB\n"
     ]
    }
   ],
   "source": [
    "ecom.info()"
   ]
  },
  {
   "cell_type": "code",
   "execution_count": 10,
   "id": "a262da9b-5147-44a2-bc81-5a9affb186a0",
   "metadata": {},
   "outputs": [
    {
     "data": {
      "text/html": [
       "<div>\n",
       "<style scoped>\n",
       "    .dataframe tbody tr th:only-of-type {\n",
       "        vertical-align: middle;\n",
       "    }\n",
       "\n",
       "    .dataframe tbody tr th {\n",
       "        vertical-align: top;\n",
       "    }\n",
       "\n",
       "    .dataframe thead th {\n",
       "        text-align: right;\n",
       "    }\n",
       "</style>\n",
       "<table border=\"1\" class=\"dataframe\">\n",
       "  <thead>\n",
       "    <tr style=\"text-align: right;\">\n",
       "      <th></th>\n",
       "      <th>Address</th>\n",
       "      <th>Lot</th>\n",
       "      <th>AM or PM</th>\n",
       "      <th>Browser Info</th>\n",
       "      <th>Company</th>\n",
       "      <th>Credit Card</th>\n",
       "      <th>CC Exp Date</th>\n",
       "      <th>CC Security Code</th>\n",
       "      <th>CC Provider</th>\n",
       "      <th>Email</th>\n",
       "      <th>Job</th>\n",
       "      <th>IP Address</th>\n",
       "      <th>Language</th>\n",
       "      <th>Purchase Price</th>\n",
       "    </tr>\n",
       "  </thead>\n",
       "  <tbody>\n",
       "    <tr>\n",
       "      <th>0</th>\n",
       "      <td>16629 Pace Camp Apt. 448\\nAlexisborough, NE 77...</td>\n",
       "      <td>46 in</td>\n",
       "      <td>PM</td>\n",
       "      <td>Opera/9.56.(X11; Linux x86_64; sl-SI) Presto/2...</td>\n",
       "      <td>Martinez-Herman</td>\n",
       "      <td>6011929061123406</td>\n",
       "      <td>02/20</td>\n",
       "      <td>900</td>\n",
       "      <td>JCB 16 digit</td>\n",
       "      <td>pdunlap@yahoo.com</td>\n",
       "      <td>Scientist, product/process development</td>\n",
       "      <td>149.146.147.205</td>\n",
       "      <td>el</td>\n",
       "      <td>98.14</td>\n",
       "    </tr>\n",
       "    <tr>\n",
       "      <th>1</th>\n",
       "      <td>9374 Jasmine Spurs Suite 508\\nSouth John, TN 8...</td>\n",
       "      <td>28 rn</td>\n",
       "      <td>PM</td>\n",
       "      <td>Opera/8.93.(Windows 98; Win 9x 4.90; en-US) Pr...</td>\n",
       "      <td>Fletcher, Richards and Whitaker</td>\n",
       "      <td>3337758169645356</td>\n",
       "      <td>11/18</td>\n",
       "      <td>561</td>\n",
       "      <td>Mastercard</td>\n",
       "      <td>anthony41@reed.com</td>\n",
       "      <td>Drilling engineer</td>\n",
       "      <td>15.160.41.51</td>\n",
       "      <td>fr</td>\n",
       "      <td>70.73</td>\n",
       "    </tr>\n",
       "    <tr>\n",
       "      <th>2</th>\n",
       "      <td>Unit 0065 Box 5052\\nDPO AP 27450</td>\n",
       "      <td>94 vE</td>\n",
       "      <td>PM</td>\n",
       "      <td>Mozilla/5.0 (compatible; MSIE 9.0; Windows NT ...</td>\n",
       "      <td>Simpson, Williams and Pham</td>\n",
       "      <td>675957666125</td>\n",
       "      <td>08/19</td>\n",
       "      <td>699</td>\n",
       "      <td>JCB 16 digit</td>\n",
       "      <td>amymiller@morales-harrison.com</td>\n",
       "      <td>Customer service manager</td>\n",
       "      <td>132.207.160.22</td>\n",
       "      <td>de</td>\n",
       "      <td>0.95</td>\n",
       "    </tr>\n",
       "    <tr>\n",
       "      <th>3</th>\n",
       "      <td>7780 Julia Fords\\nNew Stacy, WA 45798</td>\n",
       "      <td>36 vm</td>\n",
       "      <td>PM</td>\n",
       "      <td>Mozilla/5.0 (Macintosh; Intel Mac OS X 10_8_0 ...</td>\n",
       "      <td>Williams, Marshall and Buchanan</td>\n",
       "      <td>6011578504430710</td>\n",
       "      <td>02/24</td>\n",
       "      <td>384</td>\n",
       "      <td>Discover</td>\n",
       "      <td>brent16@olson-robinson.info</td>\n",
       "      <td>Drilling engineer</td>\n",
       "      <td>30.250.74.19</td>\n",
       "      <td>es</td>\n",
       "      <td>78.04</td>\n",
       "    </tr>\n",
       "  </tbody>\n",
       "</table>\n",
       "</div>"
      ],
      "text/plain": [
       "                                             Address    Lot AM or PM  \\\n",
       "0  16629 Pace Camp Apt. 448\\nAlexisborough, NE 77...  46 in       PM   \n",
       "1  9374 Jasmine Spurs Suite 508\\nSouth John, TN 8...  28 rn       PM   \n",
       "2                   Unit 0065 Box 5052\\nDPO AP 27450  94 vE       PM   \n",
       "3              7780 Julia Fords\\nNew Stacy, WA 45798  36 vm       PM   \n",
       "\n",
       "                                        Browser Info  \\\n",
       "0  Opera/9.56.(X11; Linux x86_64; sl-SI) Presto/2...   \n",
       "1  Opera/8.93.(Windows 98; Win 9x 4.90; en-US) Pr...   \n",
       "2  Mozilla/5.0 (compatible; MSIE 9.0; Windows NT ...   \n",
       "3  Mozilla/5.0 (Macintosh; Intel Mac OS X 10_8_0 ...   \n",
       "\n",
       "                           Company       Credit Card CC Exp Date  \\\n",
       "0                  Martinez-Herman  6011929061123406       02/20   \n",
       "1  Fletcher, Richards and Whitaker  3337758169645356       11/18   \n",
       "2       Simpson, Williams and Pham      675957666125       08/19   \n",
       "3  Williams, Marshall and Buchanan  6011578504430710       02/24   \n",
       "\n",
       "   CC Security Code   CC Provider                           Email  \\\n",
       "0               900  JCB 16 digit               pdunlap@yahoo.com   \n",
       "1               561    Mastercard              anthony41@reed.com   \n",
       "2               699  JCB 16 digit  amymiller@morales-harrison.com   \n",
       "3               384      Discover     brent16@olson-robinson.info   \n",
       "\n",
       "                                      Job       IP Address Language  \\\n",
       "0  Scientist, product/process development  149.146.147.205       el   \n",
       "1                       Drilling engineer     15.160.41.51       fr   \n",
       "2                Customer service manager   132.207.160.22       de   \n",
       "3                       Drilling engineer     30.250.74.19       es   \n",
       "\n",
       "   Purchase Price  \n",
       "0           98.14  \n",
       "1           70.73  \n",
       "2            0.95  \n",
       "3           78.04  "
      ]
     },
     "execution_count": 10,
     "metadata": {},
     "output_type": "execute_result"
    }
   ],
   "source": [
    "ecom[0:4]"
   ]
  },
  {
   "cell_type": "markdown",
   "id": "776367fd-7971-4f71-9217-04d91a874b44",
   "metadata": {},
   "source": [
    "**Check the head of the DataFrame.**"
   ]
  },
  {
   "cell_type": "code",
   "execution_count": 87,
   "id": "976a48f9-441f-47a4-8ac9-c0adb919637b",
   "metadata": {},
   "outputs": [
    {
     "data": {
      "text/html": [
       "<div>\n",
       "<table border=\"1\" class=\"dataframe\">\n",
       "  <thead>\n",
       "    <tr style=\"text-align: right;\">\n",
       "      <th></th>\n",
       "      <th>Address</th>\n",
       "      <th>Lot</th>\n",
       "      <th>AM or PM</th>\n",
       "      <th>Browser Info</th>\n",
       "      <th>Company</th>\n",
       "      <th>Credit Card</th>\n",
       "      <th>CC Exp Date</th>\n",
       "      <th>CC Security Code</th>\n",
       "      <th>CC Provider</th>\n",
       "      <th>Email</th>\n",
       "      <th>Job</th>\n",
       "      <th>IP Address</th>\n",
       "      <th>Language</th>\n",
       "      <th>Purchase Price</th>\n",
       "    </tr>\n",
       "  </thead>\n",
       "  <tbody>\n",
       "    <tr>\n",
       "      <th>0</th>\n",
       "      <td>16629 Pace Camp Apt. 448\\nAlexisborough, NE 77...</td>\n",
       "      <td>46 in</td>\n",
       "      <td>PM</td>\n",
       "      <td>Opera/9.56.(X11; Linux x86_64; sl-SI) Presto/2...</td>\n",
       "      <td>Martinez-Herman</td>\n",
       "      <td>6011929061123406</td>\n",
       "      <td>02/20</td>\n",
       "      <td>900</td>\n",
       "      <td>JCB 16 digit</td>\n",
       "      <td>pdunlap@yahoo.com</td>\n",
       "      <td>Scientist, product/process development</td>\n",
       "      <td>149.146.147.205</td>\n",
       "      <td>el</td>\n",
       "      <td>98.14</td>\n",
       "    </tr>\n",
       "    <tr>\n",
       "      <th>1</th>\n",
       "      <td>9374 Jasmine Spurs Suite 508\\nSouth John, TN 8...</td>\n",
       "      <td>28 rn</td>\n",
       "      <td>PM</td>\n",
       "      <td>Opera/8.93.(Windows 98; Win 9x 4.90; en-US) Pr...</td>\n",
       "      <td>Fletcher, Richards and Whitaker</td>\n",
       "      <td>3337758169645356</td>\n",
       "      <td>11/18</td>\n",
       "      <td>561</td>\n",
       "      <td>Mastercard</td>\n",
       "      <td>anthony41@reed.com</td>\n",
       "      <td>Drilling engineer</td>\n",
       "      <td>15.160.41.51</td>\n",
       "      <td>fr</td>\n",
       "      <td>70.73</td>\n",
       "    </tr>\n",
       "    <tr>\n",
       "      <th>2</th>\n",
       "      <td>Unit 0065 Box 5052\\nDPO AP 27450</td>\n",
       "      <td>94 vE</td>\n",
       "      <td>PM</td>\n",
       "      <td>Mozilla/5.0 (compatible; MSIE 9.0; Windows NT ...</td>\n",
       "      <td>Simpson, Williams and Pham</td>\n",
       "      <td>675957666125</td>\n",
       "      <td>08/19</td>\n",
       "      <td>699</td>\n",
       "      <td>JCB 16 digit</td>\n",
       "      <td>amymiller@morales-harrison.com</td>\n",
       "      <td>Customer service manager</td>\n",
       "      <td>132.207.160.22</td>\n",
       "      <td>de</td>\n",
       "      <td>0.95</td>\n",
       "    </tr>\n",
       "    <tr>\n",
       "      <th>3</th>\n",
       "      <td>7780 Julia Fords\\nNew Stacy, WA 45798</td>\n",
       "      <td>36 vm</td>\n",
       "      <td>PM</td>\n",
       "      <td>Mozilla/5.0 (Macintosh; Intel Mac OS X 10_8_0 ...</td>\n",
       "      <td>Williams, Marshall and Buchanan</td>\n",
       "      <td>6011578504430710</td>\n",
       "      <td>02/24</td>\n",
       "      <td>384</td>\n",
       "      <td>Discover</td>\n",
       "      <td>brent16@olson-robinson.info</td>\n",
       "      <td>Drilling engineer</td>\n",
       "      <td>30.250.74.19</td>\n",
       "      <td>es</td>\n",
       "      <td>78.04</td>\n",
       "    </tr>\n",
       "    <tr>\n",
       "      <th>4</th>\n",
       "      <td>23012 Munoz Drive Suite 337\\nNew Cynthia, TX 5...</td>\n",
       "      <td>20 IE</td>\n",
       "      <td>AM</td>\n",
       "      <td>Opera/9.58.(X11; Linux x86_64; it-IT) Presto/2...</td>\n",
       "      <td>Brown, Watson and Andrews</td>\n",
       "      <td>6011456623207998</td>\n",
       "      <td>10/25</td>\n",
       "      <td>678</td>\n",
       "      <td>Diners Club / Carte Blanche</td>\n",
       "      <td>christopherwright@gmail.com</td>\n",
       "      <td>Fine artist</td>\n",
       "      <td>24.140.33.94</td>\n",
       "      <td>es</td>\n",
       "      <td>77.82</td>\n",
       "    </tr>\n",
       "  </tbody>\n",
       "</table>\n",
       "</div>"
      ],
      "text/plain": [
       "                                             Address    Lot AM or PM  \\\n",
       "0  16629 Pace Camp Apt. 448\\nAlexisborough, NE 77...  46 in       PM   \n",
       "1  9374 Jasmine Spurs Suite 508\\nSouth John, TN 8...  28 rn       PM   \n",
       "2                   Unit 0065 Box 5052\\nDPO AP 27450  94 vE       PM   \n",
       "3              7780 Julia Fords\\nNew Stacy, WA 45798  36 vm       PM   \n",
       "4  23012 Munoz Drive Suite 337\\nNew Cynthia, TX 5...  20 IE       AM   \n",
       "\n",
       "                                        Browser Info  \\\n",
       "0  Opera/9.56.(X11; Linux x86_64; sl-SI) Presto/2...   \n",
       "1  Opera/8.93.(Windows 98; Win 9x 4.90; en-US) Pr...   \n",
       "2  Mozilla/5.0 (compatible; MSIE 9.0; Windows NT ...   \n",
       "3  Mozilla/5.0 (Macintosh; Intel Mac OS X 10_8_0 ...   \n",
       "4  Opera/9.58.(X11; Linux x86_64; it-IT) Presto/2...   \n",
       "\n",
       "                           Company       Credit Card CC Exp Date  \\\n",
       "0                  Martinez-Herman  6011929061123406       02/20   \n",
       "1  Fletcher, Richards and Whitaker  3337758169645356       11/18   \n",
       "2       Simpson, Williams and Pham      675957666125       08/19   \n",
       "3  Williams, Marshall and Buchanan  6011578504430710       02/24   \n",
       "4        Brown, Watson and Andrews  6011456623207998       10/25   \n",
       "\n",
       "   CC Security Code                  CC Provider  \\\n",
       "0               900                 JCB 16 digit   \n",
       "1               561                   Mastercard   \n",
       "2               699                 JCB 16 digit   \n",
       "3               384                     Discover   \n",
       "4               678  Diners Club / Carte Blanche   \n",
       "\n",
       "                            Email                                     Job  \\\n",
       "0               pdunlap@yahoo.com  Scientist, product/process development   \n",
       "1              anthony41@reed.com                       Drilling engineer   \n",
       "2  amymiller@morales-harrison.com                Customer service manager   \n",
       "3     brent16@olson-robinson.info                       Drilling engineer   \n",
       "4     christopherwright@gmail.com                             Fine artist   \n",
       "\n",
       "        IP Address Language  Purchase Price  \n",
       "0  149.146.147.205       el           98.14  \n",
       "1     15.160.41.51       fr           70.73  \n",
       "2   132.207.160.22       de            0.95  \n",
       "3     30.250.74.19       es           78.04  \n",
       "4     24.140.33.94       es           77.82  "
      ]
     },
     "execution_count": 87,
     "metadata": {},
     "output_type": "execute_result"
    }
   ],
   "source": []
  },
  {
   "cell_type": "markdown",
   "id": "a265e8db-b22b-497a-a4ff-52a639f02e6b",
   "metadata": {},
   "source": [
    "** How many rows and columns are there? **"
   ]
  },
  {
   "cell_type": "code",
   "execution_count": 88,
   "id": "04d847d2-3a01-43bb-a786-470e580c4e10",
   "metadata": {},
   "outputs": [
    {
     "name": "stdout",
     "output_type": "stream",
     "text": [
      "<class 'pandas.core.frame.DataFrame'>\n",
      "RangeIndex: 10000 entries, 0 to 9999\n",
      "Data columns (total 14 columns):\n",
      "Address             10000 non-null object\n",
      "Lot                 10000 non-null object\n",
      "AM or PM            10000 non-null object\n",
      "Browser Info        10000 non-null object\n",
      "Company             10000 non-null object\n",
      "Credit Card         10000 non-null int64\n",
      "CC Exp Date         10000 non-null object\n",
      "CC Security Code    10000 non-null int64\n",
      "CC Provider         10000 non-null object\n",
      "Email               10000 non-null object\n",
      "Job                 10000 non-null object\n",
      "IP Address          10000 non-null object\n",
      "Language            10000 non-null object\n",
      "Purchase Price      10000 non-null float64\n",
      "dtypes: float64(1), int64(2), object(11)\n",
      "memory usage: 1.1+ MB\n"
     ]
    }
   ],
   "source": []
  },
  {
   "cell_type": "markdown",
   "id": "e8990c3a-74b4-4f92-88eb-4a10efe079fb",
   "metadata": {},
   "source": [
    "** What is the average Purchase Price? **"
   ]
  },
  {
   "cell_type": "code",
   "execution_count": 16,
   "id": "ae2a6665-dac4-4790-b238-99c7d967fd6b",
   "metadata": {},
   "outputs": [
    {
     "name": "stdout",
     "output_type": "stream",
     "text": [
      "Average purchase price 50.34730200000025\n"
     ]
    }
   ],
   "source": [
    "pruchase_price = ecom[\"Purchase Price\"]\n",
    "print(\"Average purchase price\", np.mean(pruchase_price))"
   ]
  },
  {
   "cell_type": "code",
   "execution_count": null,
   "id": "85ac33e4-27b6-4202-bda5-9668c9fe6701",
   "metadata": {},
   "outputs": [],
   "source": []
  },
  {
   "cell_type": "code",
   "execution_count": null,
   "id": "2548ed2b-12a4-4439-ab22-6d1ac88334be",
   "metadata": {},
   "outputs": [],
   "source": []
  },
  {
   "cell_type": "markdown",
   "id": "8c22d54b-cce5-4ab6-a8b2-4181db4ec883",
   "metadata": {},
   "source": [
    "** What were the highest and lowest purchase prices? **"
   ]
  },
  {
   "cell_type": "code",
   "execution_count": 18,
   "id": "a4b073bc-501f-4814-bc76-4f2191b1066d",
   "metadata": {},
   "outputs": [
    {
     "name": "stdout",
     "output_type": "stream",
     "text": [
      "highest purchase price is 99.99 and lowest purchase price is 0.0\n"
     ]
    }
   ],
   "source": [
    "print(\"highest purchase price is {} and lowest purchase price is {}\".format(pruchase_price.max(),pruchase_price.min()) )"
   ]
  },
  {
   "cell_type": "code",
   "execution_count": null,
   "id": "693dc43e-832e-416b-8d45-74a8c09bd8e5",
   "metadata": {},
   "outputs": [],
   "source": []
  },
  {
   "cell_type": "code",
   "execution_count": 92,
   "id": "a909f859-f11e-4a63-8b4e-92982839c6ab",
   "metadata": {},
   "outputs": [
    {
     "data": {
      "text/plain": [
       "99.989999999999995"
      ]
     },
     "execution_count": 92,
     "metadata": {},
     "output_type": "execute_result"
    }
   ],
   "source": []
  },
  {
   "cell_type": "code",
   "execution_count": 93,
   "id": "34b10e06-1e94-4f8c-863a-402e27473b47",
   "metadata": {},
   "outputs": [
    {
     "data": {
      "text/plain": [
       "0.0"
      ]
     },
     "execution_count": 93,
     "metadata": {},
     "output_type": "execute_result"
    }
   ],
   "source": []
  },
  {
   "cell_type": "markdown",
   "id": "0b3bb46e-69ea-4325-bcd6-92c95b51742a",
   "metadata": {},
   "source": [
    "** How many people have English 'en' as their Language of choice on the website? **"
   ]
  },
  {
   "cell_type": "code",
   "execution_count": 19,
   "id": "80641e32-1c3c-4290-b308-47c3c30e91f2",
   "metadata": {},
   "outputs": [
    {
     "data": {
      "text/plain": [
       "1098"
      ]
     },
     "execution_count": 19,
     "metadata": {},
     "output_type": "execute_result"
    }
   ],
   "source": [
    "ecom[\"Language\"].value_counts()[\"en\"]"
   ]
  },
  {
   "cell_type": "code",
   "execution_count": null,
   "id": "656405a9-85a4-4f16-8375-ac36ee9b3186",
   "metadata": {},
   "outputs": [],
   "source": []
  },
  {
   "cell_type": "code",
   "execution_count": 94,
   "id": "9d4608f8-5d73-484f-b7ce-2b47dddace68",
   "metadata": {},
   "outputs": [
    {
     "data": {
      "text/plain": [
       "Address             1098\n",
       "Lot                 1098\n",
       "AM or PM            1098\n",
       "Browser Info        1098\n",
       "Company             1098\n",
       "Credit Card         1098\n",
       "CC Exp Date         1098\n",
       "CC Security Code    1098\n",
       "CC Provider         1098\n",
       "Email               1098\n",
       "Job                 1098\n",
       "IP Address          1098\n",
       "Language            1098\n",
       "Purchase Price      1098\n",
       "dtype: int64"
      ]
     },
     "execution_count": 94,
     "metadata": {},
     "output_type": "execute_result"
    }
   ],
   "source": []
  },
  {
   "cell_type": "markdown",
   "id": "e8355d22-362f-496f-8582-958f72734fcb",
   "metadata": {},
   "source": [
    "** How many people have the job title of \"Lawyer\" ? **\n"
   ]
  },
  {
   "cell_type": "code",
   "execution_count": 20,
   "id": "638ab9d4-0480-465f-bc0e-30c319e1b44c",
   "metadata": {},
   "outputs": [
    {
     "data": {
      "text/plain": [
       "30"
      ]
     },
     "execution_count": 20,
     "metadata": {},
     "output_type": "execute_result"
    }
   ],
   "source": [
    "ecom[\"Job\"].value_counts()[\"Lawyer\"]"
   ]
  },
  {
   "cell_type": "code",
   "execution_count": 23,
   "id": "32976a00-7f1e-4c62-802b-e38339c66b4a",
   "metadata": {},
   "outputs": [
    {
     "data": {
      "text/plain": [
       "30"
      ]
     },
     "execution_count": 23,
     "metadata": {},
     "output_type": "execute_result"
    }
   ],
   "source": [
    "import re\n",
    "   ...: \n",
    "   ...: sum(~ecom[\"Job\"].apply(lambda x: re.search(\"[lL]awyer\", x)).isnull())"
   ]
  },
  {
   "cell_type": "code",
   "execution_count": 95,
   "id": "2bcb0db5-564b-44a5-84c7-43d3937e3776",
   "metadata": {},
   "outputs": [
    {
     "name": "stdout",
     "output_type": "stream",
     "text": [
      "<class 'pandas.core.frame.DataFrame'>\n",
      "Int64Index: 30 entries, 470 to 9979\n",
      "Data columns (total 14 columns):\n",
      "Address             30 non-null object\n",
      "Lot                 30 non-null object\n",
      "AM or PM            30 non-null object\n",
      "Browser Info        30 non-null object\n",
      "Company             30 non-null object\n",
      "Credit Card         30 non-null int64\n",
      "CC Exp Date         30 non-null object\n",
      "CC Security Code    30 non-null int64\n",
      "CC Provider         30 non-null object\n",
      "Email               30 non-null object\n",
      "Job                 30 non-null object\n",
      "IP Address          30 non-null object\n",
      "Language            30 non-null object\n",
      "Purchase Price      30 non-null float64\n",
      "dtypes: float64(1), int64(2), object(11)\n",
      "memory usage: 3.5+ KB\n"
     ]
    }
   ],
   "source": []
  },
  {
   "cell_type": "markdown",
   "id": "f2b9d1c8-3727-4de5-83e6-1f7038d3a38d",
   "metadata": {},
   "source": [
    "** How many people made the purchase during the AM and how many people made the purchase during PM ? **\n",
    "\n",
    "**(Hint: Check out [value_counts()](http://pandas.pydata.org/pandas-docs/stable/generated/pandas.Series.value_counts.html) ) **"
   ]
  },
  {
   "cell_type": "code",
   "execution_count": 21,
   "id": "9475e852-ce6f-4f4a-8b29-3ec48c42e3e1",
   "metadata": {},
   "outputs": [
    {
     "data": {
      "text/plain": [
       "PM    5068\n",
       "AM    4932\n",
       "Name: AM or PM, dtype: int64"
      ]
     },
     "execution_count": 21,
     "metadata": {},
     "output_type": "execute_result"
    }
   ],
   "source": [
    "ecom[\"AM or PM\"].value_counts()"
   ]
  },
  {
   "cell_type": "code",
   "execution_count": null,
   "id": "08a869dd-ba8f-4d40-aca1-10d17915d193",
   "metadata": {},
   "outputs": [],
   "source": []
  },
  {
   "cell_type": "code",
   "execution_count": 96,
   "id": "af045e58-eeab-4ad2-9016-430777b31d48",
   "metadata": {},
   "outputs": [
    {
     "data": {
      "text/plain": [
       "PM    5068\n",
       "AM    4932\n",
       "Name: AM or PM, dtype: int64"
      ]
     },
     "execution_count": 96,
     "metadata": {},
     "output_type": "execute_result"
    }
   ],
   "source": []
  },
  {
   "cell_type": "markdown",
   "id": "79d9a44b-ecb1-4e78-8915-c0f4b8fff3b6",
   "metadata": {},
   "source": [
    "** What are the 5 most common Job Titles? **"
   ]
  },
  {
   "cell_type": "code",
   "execution_count": 25,
   "id": "77d4da2b-38c0-4d23-a459-96dec29a6c93",
   "metadata": {},
   "outputs": [
    {
     "data": {
      "text/plain": [
       "Interior and spatial designer    31\n",
       "Lawyer                           30\n",
       "Social researcher                28\n",
       "Purchasing manager               27\n",
       "Designer, jewellery              27\n",
       "Name: Job, dtype: int64"
      ]
     },
     "execution_count": 25,
     "metadata": {},
     "output_type": "execute_result"
    }
   ],
   "source": [
    "ecom[\"Job\"].value_counts()[0:5]"
   ]
  },
  {
   "cell_type": "code",
   "execution_count": null,
   "id": "30eda40c-5290-4537-8a03-64608b63c73c",
   "metadata": {},
   "outputs": [],
   "source": []
  },
  {
   "cell_type": "code",
   "execution_count": 97,
   "id": "4c98560d-48aa-4c15-9b33-cf48671cc6d1",
   "metadata": {},
   "outputs": [
    {
     "data": {
      "text/plain": [
       "Interior and spatial designer    31\n",
       "Lawyer                           30\n",
       "Social researcher                28\n",
       "Purchasing manager               27\n",
       "Designer, jewellery              27\n",
       "Name: Job, dtype: int64"
      ]
     },
     "execution_count": 97,
     "metadata": {},
     "output_type": "execute_result"
    }
   ],
   "source": []
  },
  {
   "cell_type": "markdown",
   "id": "2d6be971-ff15-4d79-946d-27f886b21863",
   "metadata": {},
   "source": [
    "** Someone made a purchase that came from Lot: \"90 WT\" , what was the Purchase Price for this transaction? **"
   ]
  },
  {
   "cell_type": "code",
   "execution_count": 27,
   "id": "758792d9-d139-4b8d-b338-96367828cf0b",
   "metadata": {},
   "outputs": [
    {
     "data": {
      "text/plain": [
       "513    75.1\n",
       "Name: Purchase Price, dtype: float64"
      ]
     },
     "execution_count": 27,
     "metadata": {},
     "output_type": "execute_result"
    }
   ],
   "source": [
    "ecom[ecom[\"Lot\"] == \"90 WT\"][\"Purchase Price\"]"
   ]
  },
  {
   "cell_type": "code",
   "execution_count": 28,
   "id": "dda22d44-77c0-4f99-a0cf-96e7815aadcf",
   "metadata": {},
   "outputs": [
    {
     "data": {
      "text/plain": [
       "513    75.1\n",
       "Name: Purchase Price, dtype: float64"
      ]
     },
     "execution_count": 28,
     "metadata": {},
     "output_type": "execute_result"
    }
   ],
   "source": [
    "ecom.loc[ecom[\"Lot\"] == \"90 WT\", \"Purchase Price\"]"
   ]
  },
  {
   "cell_type": "code",
   "execution_count": 99,
   "id": "bcda0c33-1a37-4d66-befb-8d2c93e2e464",
   "metadata": {},
   "outputs": [
    {
     "data": {
      "text/plain": [
       "513    75.1\n",
       "Name: Purchase Price, dtype: float64"
      ]
     },
     "execution_count": 99,
     "metadata": {},
     "output_type": "execute_result"
    }
   ],
   "source": []
  },
  {
   "cell_type": "markdown",
   "id": "4d2536fd-ce5f-4d2d-86d6-6acb21a597dd",
   "metadata": {},
   "source": [
    "** What is the email of the person with the following Credit Card Number: 4926535242672853 **"
   ]
  },
  {
   "cell_type": "code",
   "execution_count": 29,
   "id": "386f5f88-f7a9-4b5a-8eb1-42b34ce0158d",
   "metadata": {},
   "outputs": [
    {
     "data": {
      "text/plain": [
       "1234    bondellen@williams-garza.com\n",
       "Name: Email, dtype: object"
      ]
     },
     "execution_count": 29,
     "metadata": {},
     "output_type": "execute_result"
    }
   ],
   "source": [
    "ecom.loc[ecom[\"Credit Card\"] == 4926535242672853, \"Email\"]"
   ]
  },
  {
   "cell_type": "code",
   "execution_count": null,
   "id": "e318dbc0-f4d0-40b8-9f6b-3f09e5015bb8",
   "metadata": {},
   "outputs": [],
   "source": []
  },
  {
   "cell_type": "code",
   "execution_count": 100,
   "id": "d41d6a39-b9fc-4ccf-84c6-42612531e0c4",
   "metadata": {},
   "outputs": [
    {
     "data": {
      "text/plain": [
       "1234    bondellen@williams-garza.com\n",
       "Name: Email, dtype: object"
      ]
     },
     "execution_count": 100,
     "metadata": {},
     "output_type": "execute_result"
    }
   ],
   "source": []
  },
  {
   "cell_type": "markdown",
   "id": "d99f96ab-ce2d-4d1c-a9b4-cca071644a43",
   "metadata": {},
   "source": [
    "** How many people have American Express as their Credit Card Provider *and* made a purchase above $95 ?**"
   ]
  },
  {
   "cell_type": "code",
   "execution_count": 31,
   "id": "85e4e51d-c0cb-409e-a595-d087dd2c7c87",
   "metadata": {},
   "outputs": [
    {
     "data": {
      "text/plain": [
       "39"
      ]
     },
     "execution_count": 31,
     "metadata": {},
     "output_type": "execute_result"
    }
   ],
   "source": [
    "temp = ecom.loc[ecom[\"CC Provider\"] == \"American Express\", \"Purchase Price\"]\n",
    "len(temp[temp > 95])"
   ]
  },
  {
   "cell_type": "code",
   "execution_count": 32,
   "id": "17613888-21a6-4f9b-a8f2-fee6fc78ca39",
   "metadata": {},
   "outputs": [
    {
     "data": {
      "text/plain": [
       "39"
      ]
     },
     "execution_count": 32,
     "metadata": {},
     "output_type": "execute_result"
    }
   ],
   "source": [
    "sum((~ecom[\"CC Provider\"].apply(lambda x: re.search(\"American Express\", x)).isnull())\n",
    "   ...:     & (ecom[\"Purchase Price\"]>95))"
   ]
  },
  {
   "cell_type": "code",
   "execution_count": 101,
   "id": "cb8662aa-ef5a-4c2b-8321-f67b2116c016",
   "metadata": {},
   "outputs": [
    {
     "data": {
      "text/plain": [
       "Address             39\n",
       "Lot                 39\n",
       "AM or PM            39\n",
       "Browser Info        39\n",
       "Company             39\n",
       "Credit Card         39\n",
       "CC Exp Date         39\n",
       "CC Security Code    39\n",
       "CC Provider         39\n",
       "Email               39\n",
       "Job                 39\n",
       "IP Address          39\n",
       "Language            39\n",
       "Purchase Price      39\n",
       "dtype: int64"
      ]
     },
     "execution_count": 101,
     "metadata": {},
     "output_type": "execute_result"
    }
   ],
   "source": []
  },
  {
   "cell_type": "markdown",
   "id": "82fd7af5-52e7-4550-9191-51e7758bd9d9",
   "metadata": {},
   "source": [
    "** Hard: How many people have a credit card that expires in 2025? **"
   ]
  },
  {
   "cell_type": "code",
   "execution_count": 33,
   "id": "7933474b-7c03-468a-9b2e-a82b55e54db9",
   "metadata": {},
   "outputs": [
    {
     "data": {
      "text/plain": [
       "1033"
      ]
     },
     "execution_count": 33,
     "metadata": {},
     "output_type": "execute_result"
    }
   ],
   "source": [
    "sum((~ecom[\"CC Exp Date\"].apply(lambda x: re.search(\"/25\", x)).isnull()))"
   ]
  },
  {
   "cell_type": "code",
   "execution_count": null,
   "id": "458c0098-41ee-47a1-90f4-7196d8b81f73",
   "metadata": {},
   "outputs": [],
   "source": []
  },
  {
   "cell_type": "markdown",
   "id": "db6281c4-bbbf-445f-8980-6458d5bab983",
   "metadata": {},
   "source": [
    "** Hard: What are the top 5 most popular email providers/hosts (e.g. gmail.com, yahoo.com, etc...) **"
   ]
  },
  {
   "cell_type": "code",
   "execution_count": 34,
   "id": "5be98b54-4146-40ba-bc3a-72b8f9536bef",
   "metadata": {},
   "outputs": [
    {
     "data": {
      "text/plain": [
       "0                    [pdunlap, yahoo.com]\n",
       "1                   [anthony41, reed.com]\n",
       "2       [amymiller, morales-harrison.com]\n",
       "3          [brent16, olson-robinson.info]\n",
       "4          [christopherwright, gmail.com]\n",
       "                      ...                \n",
       "9995            [iscott, wade-garner.com]\n",
       "9996                [mary85, hotmail.com]\n",
       "9997                 [tyler16, gmail.com]\n",
       "9998           [elizabethmoore, reid.net]\n",
       "9999             [rachelford, vaughn.com]\n",
       "Name: Email, Length: 10000, dtype: object"
      ]
     },
     "execution_count": 34,
     "metadata": {},
     "output_type": "execute_result"
    }
   ],
   "source": [
    "ecom[\"Email\"].str.split(\"@\")"
   ]
  },
  {
   "cell_type": "code",
   "execution_count": 41,
   "id": "cc9ca027-4293-446c-be9c-e2a15daec5fb",
   "metadata": {},
   "outputs": [
    {
     "data": {
      "text/plain": [
       "hotmail.com     1638\n",
       "yahoo.com       1616\n",
       "gmail.com       1605\n",
       "smith.com         42\n",
       "williams.com      37\n",
       "Name: Email, dtype: int64"
      ]
     },
     "execution_count": 41,
     "metadata": {},
     "output_type": "execute_result"
    }
   ],
   "source": [
    "ecom[\"Email\"].str.split(\"@\").str[1].value_counts()[:5]"
   ]
  }
 ],
 "metadata": {
  "kernelspec": {
   "display_name": "Python 3 (ipykernel)",
   "language": "python",
   "name": "python3"
  },
  "language_info": {
   "codemirror_mode": {
    "name": "ipython",
    "version": 3
   },
   "file_extension": ".py",
   "mimetype": "text/x-python",
   "name": "python",
   "nbconvert_exporter": "python",
   "pygments_lexer": "ipython3",
   "version": "3.9.12"
  }
 },
 "nbformat": 4,
 "nbformat_minor": 5
}
