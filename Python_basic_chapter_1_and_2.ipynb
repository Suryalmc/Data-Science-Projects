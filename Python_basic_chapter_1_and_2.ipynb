{
 "cells": [
  {
   "cell_type": "markdown",
   "id": "bc8454ea",
   "metadata": {},
   "source": [
    "<h1 id=\"heading\"  align=\"center\"> Pathway to Data Science - Python Basic</h1>\n",
    "\n",
    "<h3 align=\"center\"> Surya Lamichhane</h3>"
   ]
  },
  {
   "cell_type": "markdown",
   "id": "367b4879-58bd-4406-b1bb-4a6a9ab7ec6e",
   "metadata": {},
   "source": [
    "<h2 id=\"Firstcode\">Python basic</h2>"
   ]
  },
  {
   "cell_type": "markdown",
   "id": "802847bc-f85d-4472-b2cd-18c793c9d270",
   "metadata": {
    "tags": []
   },
   "source": [
    "### Notes on Jupytor-notebook \n",
    "<a> href= https://www.datacamp.com/tutorial/markdown-in-jupyter-notebook >Link to Datacamp</a>\n",
    "\n",
    "<a> href= https://www.datacamp.com/tutorial/tutorial-jupyter-notebook >Link to Datacamp</a>\n",
    "\n",
    "__[text link](url https://www.datacamp.com/tutorial/markdown-in-jupyter-notebook)__ "
   ]
  },
  {
   "cell_type": "markdown",
   "id": "f0a498c1-9131-46bf-8597-26889f522f52",
   "metadata": {},
   "source": [
    "<h2>Table of Contents</h2>\n",
    "<div class=\"alert alert-block alert-info\" style=\"margin-top: 20px\">\n",
    "    <ul>\n",
    "        <li>\n",
    "            <a href=\"#hello\">Say \"Hello\" to the world in Python</a>\n",
    "            <ul>\n",
    "                <li><a href=\"version\">Check version of the Python that we are using</a></li>\n",
    "                <li><a href=\"comments\">Comments in Python</a></li>\n",
    "                <li><a href=\"errors\">Errors in Python</a></li>\n",
    "            </ul>\n",
    "        </li>\n",
    "        <li>\n",
    "            <a href=\"#types_objects\">Types of objects in Python</a>\n",
    "            <ul>\n",
    "                <li><a href=\"int\">Integers</a></li>\n",
    "                <li><a href=\"float\">Floats</a></li>\n",
    "                <li><a href=\"convert\">Converting object types</a></li>\n",
    "                <li><a href=\"bool\">Boolean data type</a></li>\n",
    "            </ul>\n",
    "        </li>\n",
    "        <li>\n",
    "            <a href=\"#expressions\">Expressions and Variables</a>\n",
    "            <ul>\n",
    "                <li><a href=\"exp\">Expressions</a></li>\n",
    "                <li><a href=\"var\">Variables</a></li>\n",
    "            </ul>\n",
    "        </li>\n",
    "    </ul>\n",
    "</div>\n",
    "<hr>"
   ]
  },
  {
   "cell_type": "markdown",
   "id": "cdbc268b",
   "metadata": {},
   "source": [
    "<hr/>\n",
    "<div class=\"alert alert-success alertsuccess\" style=\"margin-top: 20px\">\n",
    "    [Tip:] <code>print()</code> is a function. We passed the string <code>'Hello World!'</code> as an argument to instruct Python on what to print.\n",
    "</div>\n",
    "\n",
    "<div class=\"alert alert-success alertsuccess\" style=\"margin-top: 20px\">\n",
    "    [Tip]: To execute the Python code in the code cell, click on the cell to select it and press <kbd>Shift</kbd> + <kbd>Enter</kbd>.\n",
    "The code is executed and new cell is shown.\n",
    "</div>\n",
    "\n",
    "<div class=\"alert alert-success alertsuccess\" style=\"margin-top: 20px\">\n",
    "    [Tip]: To execute the Python code in the code cell whithout moving to the new cell, click on the cell to select it and press <kbd>Ctrl</kbd> + <kbd>Enter</kbd>.\n",
    "</div>\n",
    "<hr/>"
   ]
  },
  {
   "cell_type": "code",
   "execution_count": 1,
   "id": "e999c5ce",
   "metadata": {},
   "outputs": [
    {
     "name": "stdout",
     "output_type": "stream",
     "text": [
      "Hello world!\n"
     ]
    }
   ],
   "source": [
    "print(\"Hello world!\")"
   ]
  },
  {
   "cell_type": "markdown",
   "id": "95eb28f5",
   "metadata": {},
   "source": [
    "<h3 id=\"version\">Check the version of Python that we are using</h3>"
   ]
  },
  {
   "cell_type": "code",
   "execution_count": 2,
   "id": "b28bfa43",
   "metadata": {},
   "outputs": [
    {
     "name": "stdout",
     "output_type": "stream",
     "text": [
      "3.9.12 (main, Apr  4 2022, 05:22:27) [MSC v.1916 64 bit (AMD64)]\n"
     ]
    }
   ],
   "source": [
    "# Check the Python Version\n",
    "import sys\n",
    "print(sys.version)"
   ]
  },
  {
   "cell_type": "markdown",
   "id": "7aab5c5e",
   "metadata": {},
   "source": [
    "<h3 id=\"comments\">Comments in Python</h3>"
   ]
  },
  {
   "cell_type": "markdown",
   "id": "29f517af",
   "metadata": {},
   "source": [
    "<hr/>\n",
    "<div class=\"alert alert-success alertsuccess\" style=\"margin-top: 20px\">\n",
    "    [Tip:] Describing the code block by using the comment is best way of writing the code. It will not help only the reader to understand the codes, but also to the coder when he/she check them after a while.\n",
    "</div>\n",
    "\n",
    "<div class=\"alert alert-success alertsuccess\" style=\"margin-top: 20px\">\n",
    "     [Tip:] We use the number symbol # before comment line (as in R ). When we run our code, Python will ignore everything past the # on a given line.\n",
    "</div>\n",
    "<hr/>  \n",
    "\n",
    "An example is given below:"
   ]
  },
  {
   "cell_type": "code",
   "execution_count": 3,
   "id": "6a914178",
   "metadata": {},
   "outputs": [
    {
     "name": "stdout",
     "output_type": "stream",
     "text": [
      "9\n"
     ]
    }
   ],
   "source": [
    "# Example of comments\n",
    "x = 4\n",
    "y = 5\n",
    "sum_x_y = x + y\n",
    "print(sum_x_y) # Print is a function that prints the sum of x and y."
   ]
  },
  {
   "cell_type": "markdown",
   "id": "ba30a26c",
   "metadata": {},
   "source": [
    "<h3 id=\"errors\">Command Errors in  Python</h3>"
   ]
  },
  {
   "cell_type": "markdown",
   "id": "ee03007a",
   "metadata": {},
   "source": [
    "<hr/>\n",
    "<div class=\"alert alert-success alertsuccess\" style=\"margin-top: 20px\">\n",
    "When we made common errors, Python will show the error message after code executation. So we need to read error messages carefully to find where we made mistake(s) and how we may go about fixing them.\n",
    "</div>\n",
    "<hr/> "
   ]
  },
  {
   "cell_type": "code",
   "execution_count": 4,
   "id": "0ac12096",
   "metadata": {},
   "outputs": [
    {
     "ename": "NameError",
     "evalue": "name 'sum_xy' is not defined",
     "output_type": "error",
     "traceback": [
      "\u001b[1;31m---------------------------------------------------------------------------\u001b[0m",
      "\u001b[1;31mNameError\u001b[0m                                 Traceback (most recent call last)",
      "Input \u001b[1;32mIn [4]\u001b[0m, in \u001b[0;36m<cell line: 3>\u001b[1;34m()\u001b[0m\n\u001b[0;32m      1\u001b[0m \u001b[38;5;66;03m# Print sum as error message\u001b[39;00m\n\u001b[1;32m----> 3\u001b[0m \u001b[38;5;28mprint\u001b[39m(\u001b[43msum_xy\u001b[49m)\n",
      "\u001b[1;31mNameError\u001b[0m: name 'sum_xy' is not defined"
     ]
    }
   ],
   "source": [
    "# Print sum as error message\n",
    "\n",
    "print(sum_xy) # Print is a function that prints the sum of x and y."
   ]
  },
  {
   "cell_type": "markdown",
   "id": "e1c9fd3f",
   "metadata": {},
   "source": [
    "<h2 id=\"types_objects\">Types of objects in Python</h2>"
   ]
  },
  {
   "cell_type": "markdown",
   "id": "6ecc41aa",
   "metadata": {},
   "source": [
    " Python is an object-oriented language which uses different types of objects. Mainly the most common types are:\n",
    "* strings : The words (or text) we use in Python are called character strings (or strings). \n",
    "* integers : The integers are the whole numbers (e.g. ..., -2,-1, 0,1,2, ....)\n",
    "* floats: The floats represent real numbers (e.g. 1.4, -2.0).\n",
    "* Boolean: An object of type <i>Boolean</i> can take on one of two values: <code>True</code> or <code>False</code>:</p>\n",
    "\n",
    "<hr/>\n",
    "<p>\n",
    "We can ask Python to find the the type of an expression by using the built-in <code>type()</code> function. Python uses  <code>int</code>, <code>float</code>, and <code>str</code> to refer integers, floats and character strings respectively.\n",
    "<hr/>\n",
    "<p>"
   ]
  },
  {
   "cell_type": "code",
   "execution_count": null,
   "id": "68681ab5",
   "metadata": {},
   "outputs": [],
   "source": [
    "# Type of \"Hello!\"\n",
    "\n",
    "type(\"Hello!\")"
   ]
  },
  {
   "cell_type": "code",
   "execution_count": null,
   "id": "caf806b3",
   "metadata": {},
   "outputs": [],
   "source": [
    "# Type of 51\n",
    "\n",
    "type(51)"
   ]
  },
  {
   "cell_type": "code",
   "execution_count": null,
   "id": "f4c24c1a",
   "metadata": {},
   "outputs": [],
   "source": [
    "# Type of 5.1\n",
    "\n",
    "type(5.1)"
   ]
  },
  {
   "cell_type": "markdown",
   "id": "81e3fe94",
   "metadata": {},
   "source": [
    "<h3 id=\"convert\">Converting from one object type to a different object type</h3>"
   ]
  },
  {
   "cell_type": "markdown",
   "id": "d970c476",
   "metadata": {},
   "source": [
    "<p>We can change the type of the object in Python; this method is called typecasting.\n",
    "For example, we can convert an <i>integer</i> into a <i>float</i> (e.g. 5 to 5.0).</p>\n",
    "<p>Example is here:</p>"
   ]
  },
  {
   "cell_type": "code",
   "execution_count": null,
   "id": "35e675c8",
   "metadata": {},
   "outputs": [],
   "source": [
    "# Convert 5 to a float\n",
    "\n",
    "float(5)"
   ]
  },
  {
   "cell_type": "code",
   "execution_count": 5,
   "id": "7ef7ec2a",
   "metadata": {},
   "outputs": [
    {
     "data": {
      "text/plain": [
       "5"
      ]
     },
     "execution_count": 5,
     "metadata": {},
     "output_type": "execute_result"
    }
   ],
   "source": [
    "# Convert 5.1 to a float\n",
    "\n",
    "int(5.1)"
   ]
  },
  {
   "cell_type": "code",
   "execution_count": 6,
   "id": "b8d0e44c",
   "metadata": {},
   "outputs": [
    {
     "data": {
      "text/plain": [
       "4"
      ]
     },
     "execution_count": 6,
     "metadata": {},
     "output_type": "execute_result"
    }
   ],
   "source": [
    "# Convert a string into an integer\n",
    "\n",
    "int('4')"
   ]
  },
  {
   "cell_type": "code",
   "execution_count": 7,
   "id": "7dd4a5af",
   "metadata": {},
   "outputs": [
    {
     "data": {
      "text/plain": [
       "4.2"
      ]
     },
     "execution_count": 7,
     "metadata": {},
     "output_type": "execute_result"
    }
   ],
   "source": [
    "# Convert a string into a float\n",
    "# we can also convert strings containing floating point numbers into float objects\n",
    "\n",
    "float('4.2')"
   ]
  },
  {
   "cell_type": "code",
   "execution_count": 8,
   "id": "8390a3dd",
   "metadata": {},
   "outputs": [
    {
     "ename": "ValueError",
     "evalue": "invalid literal for int() with base 10: '4.2'",
     "output_type": "error",
     "traceback": [
      "\u001b[1;31m---------------------------------------------------------------------------\u001b[0m",
      "\u001b[1;31mValueError\u001b[0m                                Traceback (most recent call last)",
      "Input \u001b[1;32mIn [8]\u001b[0m, in \u001b[0;36m<cell line: 3>\u001b[1;34m()\u001b[0m\n\u001b[0;32m      1\u001b[0m \u001b[38;5;66;03m# we cannot  convert strings containing floating point numbers into integers\u001b[39;00m\n\u001b[1;32m----> 3\u001b[0m \u001b[38;5;28;43mint\u001b[39;49m\u001b[43m(\u001b[49m\u001b[38;5;124;43m'\u001b[39;49m\u001b[38;5;124;43m4.2\u001b[39;49m\u001b[38;5;124;43m'\u001b[39;49m\u001b[43m)\u001b[49m\n",
      "\u001b[1;31mValueError\u001b[0m: invalid literal for int() with base 10: '4.2'"
     ]
    }
   ],
   "source": [
    "# we cannot  convert strings containing floating point numbers into integers\n",
    "\n",
    "int('4.2')"
   ]
  },
  {
   "cell_type": "code",
   "execution_count": 9,
   "id": "595548d3",
   "metadata": {},
   "outputs": [
    {
     "data": {
      "text/plain": [
       "'4'"
      ]
     },
     "execution_count": 9,
     "metadata": {},
     "output_type": "execute_result"
    }
   ],
   "source": [
    "# Convert an integer to a string\n",
    "\n",
    "str(4)"
   ]
  },
  {
   "cell_type": "markdown",
   "id": "65504ee1",
   "metadata": {},
   "source": [
    "<h3 id=\"bool\">Boolean data type</h3>"
   ]
  },
  {
   "cell_type": "markdown",
   "id": "cd2d1079",
   "metadata": {},
   "source": [
    "An object of type <i>Boolean</i> can take on one of two  boolean values: <code>True</code> or <code>False</code>:</p>"
   ]
  },
  {
   "cell_type": "code",
   "execution_count": 10,
   "id": "b688a6ca",
   "metadata": {},
   "outputs": [
    {
     "data": {
      "text/plain": [
       "bool"
      ]
     },
     "execution_count": 10,
     "metadata": {},
     "output_type": "execute_result"
    }
   ],
   "source": [
    "# Type of True\n",
    "\n",
    "type(True)"
   ]
  },
  {
   "cell_type": "code",
   "execution_count": 11,
   "id": "0a677379",
   "metadata": {},
   "outputs": [
    {
     "data": {
      "text/plain": [
       "bool"
      ]
     },
     "execution_count": 11,
     "metadata": {},
     "output_type": "execute_result"
    }
   ],
   "source": [
    "# Type of False\n",
    "\n",
    "type(False)"
   ]
  },
  {
   "cell_type": "code",
   "execution_count": 12,
   "id": "dacf5244",
   "metadata": {},
   "outputs": [
    {
     "data": {
      "text/plain": [
       "1"
      ]
     },
     "execution_count": 12,
     "metadata": {},
     "output_type": "execute_result"
    }
   ],
   "source": [
    "# Convert True to int\n",
    "\n",
    "int(True)"
   ]
  },
  {
   "cell_type": "code",
   "execution_count": 13,
   "id": "5d12cead",
   "metadata": {},
   "outputs": [
    {
     "data": {
      "text/plain": [
       "0"
      ]
     },
     "execution_count": 13,
     "metadata": {},
     "output_type": "execute_result"
    }
   ],
   "source": [
    "# Convert False to int\n",
    "\n",
    "int(False)"
   ]
  },
  {
   "cell_type": "code",
   "execution_count": 14,
   "id": "1d573532",
   "metadata": {},
   "outputs": [
    {
     "data": {
      "text/plain": [
       "True"
      ]
     },
     "execution_count": 14,
     "metadata": {},
     "output_type": "execute_result"
    }
   ],
   "source": [
    "# Convert 1 to boolean\n",
    "\n",
    "bool(1)"
   ]
  },
  {
   "cell_type": "code",
   "execution_count": 15,
   "id": "7660ad1a",
   "metadata": {},
   "outputs": [
    {
     "data": {
      "text/plain": [
       "False"
      ]
     },
     "execution_count": 15,
     "metadata": {},
     "output_type": "execute_result"
    }
   ],
   "source": [
    "# Convert 0 to boolean\n",
    "\n",
    "bool(0)"
   ]
  },
  {
   "cell_type": "markdown",
   "id": "78ba344f",
   "metadata": {},
   "source": [
    "- Few examples:"
   ]
  },
  {
   "cell_type": "code",
   "execution_count": 16,
   "id": "3da18d66",
   "metadata": {},
   "outputs": [
    {
     "data": {
      "text/plain": [
       "float"
      ]
     },
     "execution_count": 16,
     "metadata": {},
     "output_type": "execute_result"
    }
   ],
   "source": [
    "# Write your code below. Don't forget to press Shift+Enter to execute the cell\n",
    "type(6/2)"
   ]
  },
  {
   "cell_type": "code",
   "execution_count": 17,
   "id": "0ab572c7",
   "metadata": {},
   "outputs": [
    {
     "data": {
      "text/plain": [
       "int"
      ]
     },
     "execution_count": 17,
     "metadata": {},
     "output_type": "execute_result"
    }
   ],
   "source": [
    "# Write your code below. Don't forget to press Shift+Enter to execute the cell\n",
    "type(6 // 2)"
   ]
  },
  {
   "cell_type": "markdown",
   "id": "cd160b8f",
   "metadata": {},
   "source": [
    "<h2 id=\"expressions\">Expression and Variables</h2>"
   ]
  },
  {
   "cell_type": "markdown",
   "id": "91ed4d74",
   "metadata": {},
   "source": [
    "<p>Python easily handle basic arithmatic operations for the compatible data types (e.g., integers and floats). Similarly, varaibles can be defined to store the value(s) in Python:</p>"
   ]
  },
  {
   "cell_type": "markdown",
   "id": "e7b4c8e1",
   "metadata": {},
   "source": [
    "<h3 id=\"Expression\">Expression</h3>"
   ]
  },
  {
   "cell_type": "code",
   "execution_count": 18,
   "id": "2175cc87",
   "metadata": {},
   "outputs": [
    {
     "data": {
      "text/plain": [
       "50"
      ]
     },
     "execution_count": 18,
     "metadata": {},
     "output_type": "execute_result"
    }
   ],
   "source": [
    "# arithmatic operation sum\n",
    "12 + 23 + 15"
   ]
  },
  {
   "cell_type": "code",
   "execution_count": 19,
   "id": "c800f21a",
   "metadata": {},
   "outputs": [
    {
     "data": {
      "text/plain": [
       "4.0"
      ]
     },
     "execution_count": 19,
     "metadata": {},
     "output_type": "execute_result"
    }
   ],
   "source": [
    "# division \n",
    "12/3"
   ]
  },
  {
   "cell_type": "code",
   "execution_count": 20,
   "id": "ef81a77d",
   "metadata": {},
   "outputs": [
    {
     "data": {
      "text/plain": [
       "4"
      ]
     },
     "execution_count": 20,
     "metadata": {},
     "output_type": "execute_result"
    }
   ],
   "source": [
    "# integer division\n",
    "12 // 3"
   ]
  },
  {
   "cell_type": "code",
   "execution_count": 21,
   "id": "bde43031",
   "metadata": {},
   "outputs": [
    {
     "data": {
      "text/plain": [
       "2"
      ]
     },
     "execution_count": 21,
     "metadata": {},
     "output_type": "execute_result"
    }
   ],
   "source": [
    "# integer division\n",
    "12 // 5"
   ]
  },
  {
   "cell_type": "code",
   "execution_count": 22,
   "id": "89035c9c",
   "metadata": {},
   "outputs": [
    {
     "data": {
      "text/plain": [
       "66.5"
      ]
     },
     "execution_count": 22,
     "metadata": {},
     "output_type": "execute_result"
    }
   ],
   "source": [
    "# Mathematical expression\n",
    "\n",
    "(14 + 2) * 4 + 5/2"
   ]
  },
  {
   "cell_type": "markdown",
   "id": "3a39361e",
   "metadata": {},
   "source": [
    "<h3 id=\"var\">Variables</h3>"
   ]
  },
  {
   "cell_type": "code",
   "execution_count": 23,
   "id": "cc182ca2",
   "metadata": {},
   "outputs": [
    {
     "data": {
      "text/plain": [
       "30"
      ]
     },
     "execution_count": 23,
     "metadata": {},
     "output_type": "execute_result"
    }
   ],
   "source": [
    "# Assign a varaible for an expression\n",
    "\n",
    "x = 4 + 6 + 16 + 4\n",
    "\n",
    "# print x\n",
    "\n",
    "x"
   ]
  },
  {
   "cell_type": "code",
   "execution_count": 24,
   "id": "11c50432",
   "metadata": {},
   "outputs": [
    {
     "data": {
      "text/plain": [
       "8.0"
      ]
     },
     "execution_count": 24,
     "metadata": {},
     "output_type": "execute_result"
    }
   ],
   "source": [
    "# Define a new variable y from a new expression of x\n",
    "\n",
    "y = (x + 2) / 4\n",
    "y"
   ]
  },
  {
   "cell_type": "markdown",
   "id": "9c5a656b",
   "metadata": {},
   "source": [
    "If we assign a new value to an existing variable, the new value will replace the previous value. Replacing by a new value will be useful when we are keep updating the variable; however, we lose the existing values."
   ]
  },
  {
   "cell_type": "code",
   "execution_count": 25,
   "id": "2b063802",
   "metadata": {},
   "outputs": [
    {
     "data": {
      "text/plain": [
       "8.0"
      ]
     },
     "execution_count": 25,
     "metadata": {},
     "output_type": "execute_result"
    }
   ],
   "source": [
    "# overwrite the value of x\n",
    "x = (x + 2) / 4\n",
    "\n",
    "x"
   ]
  },
  {
   "cell_type": "markdown",
   "id": "b5698a34",
   "metadata": {},
   "source": [
    "A good practice to assign a variable is by using it's proper meaning, so a reader can understand the code easily:"
   ]
  },
  {
   "cell_type": "code",
   "execution_count": 26,
   "id": "d9a8aec7",
   "metadata": {},
   "outputs": [
    {
     "data": {
      "text/plain": [
       "30"
      ]
     },
     "execution_count": 26,
     "metadata": {},
     "output_type": "execute_result"
    }
   ],
   "source": [
    "# Name the variables in a meaningful way\n",
    "# perimeter of a traingle with side lengths 12, 13, 5\n",
    "\n",
    "Perimeter_triangle = 12 + 13 + 5 # in inches\n",
    "Perimeter_triangle"
   ]
  },
  {
   "cell_type": "code",
   "execution_count": 27,
   "id": "d363263d",
   "metadata": {},
   "outputs": [
    {
     "data": {
      "text/plain": [
       "2.5"
      ]
     },
     "execution_count": 27,
     "metadata": {},
     "output_type": "execute_result"
    }
   ],
   "source": [
    "# variables in a meaningful way\n",
    "inches_in_ft = 12\n",
    "Perimeter_triangle_ft = Perimeter_triangle / inches_in_ft  # perimeter of a traingle in feet\n",
    "Perimeter_triangle_ft"
   ]
  },
  {
   "cell_type": "markdown",
   "id": "ae11ce7d",
   "metadata": {},
   "source": [
    "<h2>String Operations</h2>"
   ]
  },
  {
   "cell_type": "markdown",
   "id": "cffb6698",
   "metadata": {},
   "source": [
    "<h2>Table of Contents</h2>\n",
    "<div class=\"alert alert-block alert-info\" style=\"margin-top: 20px\">\n",
    "    <ul>\n",
    "        <li>\n",
    "            <a href=\"#strings\">What are Strings?</a>\n",
    "        </li>\n",
    "        <li>\n",
    "            <a href=\"#index\">Indexing</a>\n",
    "            <ul>\n",
    "                <li><a href=\"neg\">Negative Indexing</a></li>\n",
    "                <li><a href=\"slice\">Slicing</a></li>\n",
    "                <li><a href=\"stride\">Stride</a></li>\n",
    "                <li><a href=\"concat\">Concatenate Strings</a></li>\n",
    "            </ul>\n",
    "        </li>\n",
    "        <li>\n",
    "            <a href=\"#escape\">Escape Sequences</a>\n",
    "        </li>\n",
    "        <li>\n",
    "            <a href=\"#operations\">String Operations</a>\n",
    "        </li>\n",
    "</div>\n",
    "\n",
    "<hr>"
   ]
  },
  {
   "cell_type": "markdown",
   "id": "ee8bb5d8",
   "metadata": {},
   "source": [
    "<h2 id=\"strings\">What are Strings?</h2>"
   ]
  },
  {
   "cell_type": "markdown",
   "id": "0a708ae6",
   "metadata": {},
   "source": [
    "The text documents that are used in Python are called strings which need to be quoted either by single quote '..' or double quote \" .. \" ."
   ]
  },
  {
   "cell_type": "code",
   "execution_count": 28,
   "id": "43f89737",
   "metadata": {},
   "outputs": [
    {
     "data": {
      "text/plain": [
       "'Mt. Everest'"
      ]
     },
     "execution_count": 28,
     "metadata": {},
     "output_type": "execute_result"
    }
   ],
   "source": [
    "# strings need to be quoted either by single quote '..' or double quote \" .. \"\n",
    "Tallest_mountain = \"Mt. Everest\"\n",
    "Tallest_mountain"
   ]
  },
  {
   "cell_type": "code",
   "execution_count": 29,
   "id": "c4a0f5ce",
   "metadata": {},
   "outputs": [
    {
     "data": {
      "text/plain": [
       "'Mt. Everest'"
      ]
     },
     "execution_count": 29,
     "metadata": {},
     "output_type": "execute_result"
    }
   ],
   "source": [
    "# Single quote\n",
    "Tallest_mountain = 'Mt. Everest'\n",
    "Tallest_mountain"
   ]
  },
  {
   "cell_type": "code",
   "execution_count": 30,
   "id": "b626fe4f",
   "metadata": {},
   "outputs": [
    {
     "data": {
      "text/plain": [
       "'1 2 3 4 5 6 '"
      ]
     },
     "execution_count": 30,
     "metadata": {},
     "output_type": "execute_result"
    }
   ],
   "source": [
    "# Digits and spaces in string\n",
    "\n",
    "'1 2 3 4 5 6 '"
   ]
  },
  {
   "cell_type": "code",
   "execution_count": 31,
   "id": "9ecd6b73",
   "metadata": {},
   "outputs": [
    {
     "data": {
      "text/plain": [
       "'#@%&_$'"
      ]
     },
     "execution_count": 31,
     "metadata": {},
     "output_type": "execute_result"
    }
   ],
   "source": [
    "# Spacial characters in string\n",
    "'#@%&_$'"
   ]
  },
  {
   "cell_type": "code",
   "execution_count": 32,
   "id": "fd22843e",
   "metadata": {},
   "outputs": [
    {
     "name": "stdout",
     "output_type": "stream",
     "text": [
      "Mt. Everest\n"
     ]
    }
   ],
   "source": [
    "# Print the string\n",
    "\n",
    "print(\"Mt. Everest\")"
   ]
  },
  {
   "cell_type": "markdown",
   "id": "d3ddeca2",
   "metadata": {},
   "source": [
    "<h2 id=\"index\">Indexing</h2>"
   ]
  },
  {
   "cell_type": "markdown",
   "id": "1a3884e2",
   "metadata": {},
   "source": [
    "We can think of the characters of a string as an ordered sequence. Each element in the sequence of letters can be accessed using an index represented by the array of numbers: \n",
    "<hr/>\n",
    "<table>\n",
    "<tr>\n",
    "<td>M</td>\n",
    "<td>t</td>\n",
    "<td>.</td>\n",
    "<td></td>\n",
    "<td>E</td>\n",
    "<td>v</td>\n",
    "<td>e</td>\n",
    "<td>r</td>\n",
    "<td>e</td>\n",
    "<td>s</td>\n",
    "<td>t</td>\n",
    "</tr>\n",
    "<tr>\n",
    "<td>0</td>\n",
    "<td>1</td>\n",
    "<td>2</td>\n",
    "<td>3</td>\n",
    "<td>4</td>\n",
    "<td>5</td>\n",
    "<td>6</td>\n",
    "<td>7</td>\n",
    "<td>8</td>\n",
    "<td>9</td>\n",
    "<td>10</td>\n",
    "</tr> \n",
    "</table>\n",
    "<hr/>"
   ]
  },
  {
   "cell_type": "markdown",
   "id": "d4fc67c4",
   "metadata": {},
   "source": [
    "<hr/>\n",
    "<div class=\"alert alert-success alertsuccess\" style=\"margin-top: 20px\">\n",
    "[Tip]: In Python indexing starts at 0, so the first index is 0.\n",
    "</div>\n",
    "<hr/>"
   ]
  },
  {
   "cell_type": "code",
   "execution_count": 33,
   "id": "4fbc2d47",
   "metadata": {},
   "outputs": [
    {
     "name": "stdout",
     "output_type": "stream",
     "text": [
      "M\n"
     ]
    }
   ],
   "source": [
    "# Print the first element in the string named Tallest_mountain\n",
    "\n",
    "print(Tallest_mountain[0])"
   ]
  },
  {
   "cell_type": "code",
   "execution_count": 34,
   "id": "e0e3d8f7",
   "metadata": {},
   "outputs": [
    {
     "name": "stdout",
     "output_type": "stream",
     "text": [
      "E\n"
     ]
    }
   ],
   "source": [
    "# Print the fourth element in the string named Tallest_mountain\n",
    "\n",
    "print(Tallest_mountain[4])"
   ]
  },
  {
   "cell_type": "markdown",
   "id": "0cb92058",
   "metadata": {},
   "source": [
    "<h3 id=\"neg\">Negative Indexing</h3>"
   ]
  },
  {
   "cell_type": "markdown",
   "id": "adda91dc",
   "metadata": {},
   "source": [
    "We can use negative indexing with strings to extract the element of the strings. The way of assigning negative indexing follows as  last element as -1, second last as -2 and so on.\n",
    "\n",
    "<hr/>\n",
    "<table>\n",
    "<tr>\n",
    "<td>M</td>\n",
    "<td>t</td>\n",
    "<td>.</td>\n",
    "<td></td>\n",
    "<td>E</td>\n",
    "<td>v</td>\n",
    "<td>e</td>\n",
    "<td>r</td>\n",
    "<td>e</td>\n",
    "<td>s</td>\n",
    "<td>t</td>\n",
    "</tr>\n",
    "<tr>\n",
    "<td>-11</td>\n",
    "<td>-10</td>\n",
    "<td>-9</td>\n",
    "<td>-8</td>\n",
    "<td>-7</td>\n",
    "<td>-6</td>\n",
    "<td>-5</td>\n",
    "<td>-4</td>\n",
    "<td>-3</td>\n",
    "<td>-2</td>\n",
    "<td>-1</td>\n",
    "</tr> \n",
    "</table>\n",
    "<hr/>"
   ]
  },
  {
   "cell_type": "code",
   "execution_count": 35,
   "id": "b516eacb",
   "metadata": {},
   "outputs": [
    {
     "name": "stdout",
     "output_type": "stream",
     "text": [
      "t\n"
     ]
    }
   ],
   "source": [
    "# Print the last element in the string named Tallest_mountain\n",
    "\n",
    "print(Tallest_mountain[-1])"
   ]
  },
  {
   "cell_type": "code",
   "execution_count": 36,
   "id": "93e663b1",
   "metadata": {},
   "outputs": [
    {
     "name": "stdout",
     "output_type": "stream",
     "text": [
      "s\n"
     ]
    }
   ],
   "source": [
    "# Print the second last element in the string named Tallest_mountain\n",
    "\n",
    "print(Tallest_mountain[-2])"
   ]
  },
  {
   "cell_type": "markdown",
   "id": "d912d4a7",
   "metadata": {},
   "source": [
    "Python function <code>len</code> can be used to find the length of the variables or  strings."
   ]
  },
  {
   "cell_type": "code",
   "execution_count": 37,
   "id": "72d5a321",
   "metadata": {},
   "outputs": [
    {
     "data": {
      "text/plain": [
       "11"
      ]
     },
     "execution_count": 37,
     "metadata": {},
     "output_type": "execute_result"
    }
   ],
   "source": [
    "# Find the length of string\n",
    "\n",
    "len(Tallest_mountain)"
   ]
  },
  {
   "cell_type": "markdown",
   "id": "ecf91677",
   "metadata": {},
   "source": [
    "<h3 id=\"slice\">Slicing</h3>"
   ]
  },
  {
   "cell_type": "markdown",
   "id": "63f7f73a",
   "metadata": {},
   "source": [
    "We can find the part of the strings using the subsequence of the index sequence. \n",
    "<hr/>\n",
    "<div class=\"alert alert-success alertsuccess\" style=\"margin-top: 20px\">\n",
    "[Tip]: When we take the slice, the part start with the first index of the slicing part from the index sequence, and it \n",
    "    ends with the 1 unit before the last index assigned. \n",
    "</div>\n",
    "<hr/>"
   ]
  },
  {
   "cell_type": "code",
   "execution_count": 38,
   "id": "37490195",
   "metadata": {},
   "outputs": [
    {
     "data": {
      "text/plain": [
       "'Mt.'"
      ]
     },
     "execution_count": 38,
     "metadata": {},
     "output_type": "execute_result"
    }
   ],
   "source": [
    "# Take the slice on variable Tallest_mountain with only index 0 to index 2\n",
    "\n",
    "Tallest_mountain[0:3]"
   ]
  },
  {
   "cell_type": "code",
   "execution_count": 39,
   "id": "b8c6a371",
   "metadata": {},
   "outputs": [
    {
     "data": {
      "text/plain": [
       "'Everest'"
      ]
     },
     "execution_count": 39,
     "metadata": {},
     "output_type": "execute_result"
    }
   ],
   "source": [
    "# Take the slice on variable Tallest_mountain with only index 4 to index 10\n",
    "\n",
    "Tallest_mountain[4:11]"
   ]
  },
  {
   "cell_type": "markdown",
   "id": "44838419",
   "metadata": {},
   "source": [
    "<h3 id=\"stride\">Stride</h3>"
   ]
  },
  {
   "cell_type": "markdown",
   "id": "1598d85c",
   "metadata": {},
   "source": [
    "We can also  input a stride value as follows, with the '3'. Here we are selecting every third variable from the strings:"
   ]
  },
  {
   "cell_type": "code",
   "execution_count": 40,
   "id": "91415d19",
   "metadata": {},
   "outputs": [
    {
     "data": {
      "text/plain": [
       "'M es'"
      ]
     },
     "execution_count": 40,
     "metadata": {},
     "output_type": "execute_result"
    }
   ],
   "source": [
    "# Get every third element. The elments on index 1, 4, 7 ...\n",
    "\n",
    "Tallest_mountain[::3]"
   ]
  },
  {
   "cell_type": "markdown",
   "id": "64b2fbc1",
   "metadata": {},
   "source": [
    "We can also incorporate slicing with the stride. In this case, we select the first three elements and then use the stride:"
   ]
  },
  {
   "cell_type": "code",
   "execution_count": 41,
   "id": "33785167",
   "metadata": {},
   "outputs": [
    {
     "data": {
      "text/plain": [
       "'M.Ee'"
      ]
     },
     "execution_count": 41,
     "metadata": {},
     "output_type": "execute_result"
    }
   ],
   "source": [
    "# Get every second element in the range from index 0 to index 6\n",
    "\n",
    "Tallest_mountain[0:7:2]"
   ]
  },
  {
   "cell_type": "markdown",
   "id": "d007e6ff",
   "metadata": {},
   "source": [
    "<h3 id=\"concat\">Concatenate Strings</h3>"
   ]
  },
  {
   "cell_type": "markdown",
   "id": "2865c29f",
   "metadata": {},
   "source": [
    "We can concatenate or combine strings by using the addition symbols, and the result is a new string that is a combination of both:"
   ]
  },
  {
   "cell_type": "code",
   "execution_count": 42,
   "id": "cd1b1de8",
   "metadata": {},
   "outputs": [
    {
     "data": {
      "text/plain": [
       "'Mt. Everest is the tallest mountain in the world.'"
      ]
     },
     "execution_count": 42,
     "metadata": {},
     "output_type": "execute_result"
    }
   ],
   "source": [
    "# Concatenate two strings\n",
    "\n",
    "Everest_info = Tallest_mountain + \" is the tallest mountain in the world.\"\n",
    "Everest_info"
   ]
  },
  {
   "cell_type": "markdown",
   "id": "6bfac9cd",
   "metadata": {},
   "source": [
    "We can replicate the string by multiplying an integer. "
   ]
  },
  {
   "cell_type": "code",
   "execution_count": 43,
   "id": "945e451c",
   "metadata": {},
   "outputs": [
    {
     "data": {
      "text/plain": [
       "'Mt. EverestMt. EverestMt. Everest'"
      ]
     },
     "execution_count": 43,
     "metadata": {},
     "output_type": "execute_result"
    }
   ],
   "source": [
    "# replicate the string Tallest_mountain 3 times\n",
    "3 * Tallest_mountain"
   ]
  },
  {
   "cell_type": "markdown",
   "id": "4f32b6a3",
   "metadata": {},
   "source": [
    "<h2 id=\"escape\">Escape Sequences</h2>"
   ]
  },
  {
   "cell_type": "markdown",
   "id": "dae71d0e",
   "metadata": {},
   "source": [
    "Back slashes represent the beginning of escape sequences. Escape sequences represent strings that may be difficult to input. For example, back slash \"n\" represents a new line. The output is given by a new line after the back slash \"n\" is encountered:"
   ]
  },
  {
   "cell_type": "code",
   "execution_count": 44,
   "id": "35c66b6e",
   "metadata": {},
   "outputs": [
    {
     "name": "stdout",
     "output_type": "stream",
     "text": [
      "Mt. Everest \n",
      " is the tallest mountain in the world.\n"
     ]
    }
   ],
   "source": [
    "# New line escape sequence\n",
    "\n",
    "print(\"Mt. Everest \\n is the tallest mountain in the world.\" )"
   ]
  },
  {
   "cell_type": "code",
   "execution_count": 45,
   "id": "3042fd53",
   "metadata": {},
   "outputs": [
    {
     "name": "stdout",
     "output_type": "stream",
     "text": [
      "Mt. Everest \t is the tallest mountain in the world.\n"
     ]
    }
   ],
   "source": [
    "# Tab escape sequence\n",
    "\n",
    "print(\"Mt. Everest \\t is the tallest mountain in the world.\" )"
   ]
  },
  {
   "cell_type": "code",
   "execution_count": 46,
   "id": "18a72ede",
   "metadata": {},
   "outputs": [
    {
     "name": "stdout",
     "output_type": "stream",
     "text": [
      "Mt. Everest \\ is the tallest mountain in the world.\n"
     ]
    }
   ],
   "source": [
    "# Include back slash in string\n",
    "\n",
    "print(\"Mt. Everest \\\\ is the tallest mountain in the world.\" )"
   ]
  },
  {
   "cell_type": "code",
   "execution_count": 47,
   "id": "b204f634",
   "metadata": {},
   "outputs": [
    {
     "name": "stdout",
     "output_type": "stream",
     "text": [
      "Mt. Everest \\ is the tallest mountain in the world.\n"
     ]
    }
   ],
   "source": [
    "# r will tell python that string will be display as raw string\n",
    "\n",
    "print(r\"Mt. Everest \\ is the tallest mountain in the world.\" )"
   ]
  },
  {
   "cell_type": "markdown",
   "id": "ef26588b",
   "metadata": {},
   "source": [
    "<h2 id=\"operations\">String Operations</h2>"
   ]
  },
  {
   "cell_type": "markdown",
   "id": "9e16fa50",
   "metadata": {},
   "source": [
    "There are many string operation methods in Python that can be used to manipulate the data. We are going to use some basic string operations on the data.\n",
    "\n",
    "We can try with the method upper; this method converts lower case characters to upper case characters:"
   ]
  },
  {
   "cell_type": "code",
   "execution_count": 48,
   "id": "3b0f45e4",
   "metadata": {},
   "outputs": [
    {
     "name": "stdout",
     "output_type": "stream",
     "text": [
      "before upper: Mt. Everest\n",
      "After upper: MT. EVEREST\n"
     ]
    }
   ],
   "source": [
    "# Convert all the characters in string to upper case\n",
    "Tallest_mountain = \"Mt. Everest\"\n",
    "print(\"before upper:\", Tallest_mountain)\n",
    "B = Tallest_mountain.upper()\n",
    "print(\"After upper:\", B)"
   ]
  },
  {
   "cell_type": "code",
   "execution_count": 49,
   "id": "66c9689c",
   "metadata": {},
   "outputs": [
    {
     "data": {
      "text/plain": [
       "'Mt. K2'"
      ]
     },
     "execution_count": 49,
     "metadata": {},
     "output_type": "execute_result"
    }
   ],
   "source": [
    "# Replace the old substring with the new target substring is the segment has been found in the string\n",
    "\n",
    "A = \"Mt. Everest\"\n",
    "B = A.replace('Everest', 'K2')\n",
    "B"
   ]
  },
  {
   "cell_type": "code",
   "execution_count": 50,
   "id": "b8146bda",
   "metadata": {},
   "outputs": [
    {
     "data": {
      "text/plain": [
       "4"
      ]
     },
     "execution_count": 50,
     "metadata": {},
     "output_type": "execute_result"
    }
   ],
   "source": [
    "# Find the substring in the string. Only the index of the first elment of substring in string will be the output\n",
    "Tallest_mountain.find('Ev')"
   ]
  },
  {
   "cell_type": "code",
   "execution_count": 51,
   "id": "86a05882",
   "metadata": {},
   "outputs": [
    {
     "data": {
      "text/plain": [
       "4"
      ]
     },
     "execution_count": 51,
     "metadata": {},
     "output_type": "execute_result"
    }
   ],
   "source": [
    "# Find the substring in the string.\n",
    "\n",
    "Tallest_mountain.find('Everest')"
   ]
  },
  {
   "cell_type": "markdown",
   "id": "13de1f23",
   "metadata": {},
   "source": [
    "If the sub-string is not in the string then the output is a negative one. For example, the string 'k2' is not a substring:"
   ]
  },
  {
   "cell_type": "code",
   "execution_count": 52,
   "id": "ceee76da",
   "metadata": {},
   "outputs": [
    {
     "data": {
      "text/plain": [
       "-1"
      ]
     },
     "execution_count": 52,
     "metadata": {},
     "output_type": "execute_result"
    }
   ],
   "source": [
    "# Find the substring in the string which is not in there\n",
    "\n",
    "Tallest_mountain.find('k2')"
   ]
  },
  {
   "cell_type": "markdown",
   "id": "0866eeaa",
   "metadata": {},
   "source": [
    "<h1>Python Data structures</h1>"
   ]
  },
  {
   "cell_type": "markdown",
   "id": "0663863e",
   "metadata": {},
   "source": [
    "This section will describe basic data structures: tuples, list, sets and dictionaries that are used in Python programming. "
   ]
  },
  {
   "cell_type": "markdown",
   "id": "585c4f7d",
   "metadata": {},
   "source": [
    "<h2>Tuples in Python</h2>"
   ]
  },
  {
   "cell_type": "markdown",
   "id": "22e1a7c0",
   "metadata": {},
   "source": [
    "<p> This section is about the tuples in the Python Programming Language. Now, we will use the basics tuple operations in Python, including indexing, slicing and sorting.</p> "
   ]
  },
  {
   "cell_type": "markdown",
   "id": "247cd516",
   "metadata": {},
   "source": [
    "<h2>Table of Contents</h2>\n",
    "<div class=\"alert alert-block alert-info\" style=\"margin-top: 20px\">\n",
    "    <ul>\n",
    "        <li>\n",
    "            <a href=\"#tuple\">Tuples</a>\n",
    "            <ul>\n",
    "                <li><a href=\"index\">Indexing</a></li>\n",
    "                <li><a href=\"slice\">Slicing</a></li>\n",
    "                <li><a href=\"sort\">Sorting</a></li>\n",
    "            </ul>\n",
    "        </li>\n",
    "</div>\n",
    "<hr>"
   ]
  },
  {
   "cell_type": "markdown",
   "id": "78909ac6",
   "metadata": {},
   "source": [
    "<h2 id=\"tuple\">Tuples</h2>"
   ]
  },
  {
   "cell_type": "markdown",
   "id": "46dca44e",
   "metadata": {},
   "source": [
    "Different data types: string, integer and float in Python can be collectd in a single set in a form of tuple as follows:"
   ]
  },
  {
   "cell_type": "code",
   "execution_count": 53,
   "id": "b4f3bedd",
   "metadata": {},
   "outputs": [
    {
     "data": {
      "text/plain": [
       "('Everest', 1, 8449.0, 'm')"
      ]
     },
     "execution_count": 53,
     "metadata": {},
     "output_type": "execute_result"
    }
   ],
   "source": [
    "# Create your first tuple\n",
    "\n",
    "tuple1 = (\"Everest\",1, 8449.0, \"m\" )\n",
    "tuple1"
   ]
  },
  {
   "cell_type": "code",
   "execution_count": 54,
   "id": "2cde70ac",
   "metadata": {},
   "outputs": [
    {
     "data": {
      "text/plain": [
       "tuple"
      ]
     },
     "execution_count": 54,
     "metadata": {},
     "output_type": "execute_result"
    }
   ],
   "source": [
    "# Print the type of the tuple you created\n",
    "\n",
    "type(tuple1)"
   ]
  },
  {
   "cell_type": "markdown",
   "id": "2e806cc9",
   "metadata": {},
   "source": [
    "<h3 id=\"index\">Indexing</h3>"
   ]
  },
  {
   "cell_type": "markdown",
   "id": "cfbfa49c",
   "metadata": {},
   "source": [
    "Each element of a tuple can be accessed using it's index."
   ]
  },
  {
   "cell_type": "code",
   "execution_count": 55,
   "id": "d8355b61",
   "metadata": {},
   "outputs": [
    {
     "name": "stdout",
     "output_type": "stream",
     "text": [
      "Everest\n",
      "1\n",
      "8449.0\n",
      "m\n"
     ]
    }
   ],
   "source": [
    "# print entries of tuple1 defined above\n",
    "\n",
    "print(tuple1[0])\n",
    "print(tuple1[1])\n",
    "print(tuple1[2])\n",
    "print(tuple1[3])"
   ]
  },
  {
   "cell_type": "code",
   "execution_count": 56,
   "id": "3d3dcc2c",
   "metadata": {},
   "outputs": [
    {
     "name": "stdout",
     "output_type": "stream",
     "text": [
      "<class 'str'>\n",
      "<class 'int'>\n",
      "<class 'float'>\n",
      "<class 'str'>\n"
     ]
    }
   ],
   "source": [
    "# Print the type of value on each index\n",
    "\n",
    "print(type(tuple1[0]))\n",
    "print(type(tuple1[1]))\n",
    "print(type(tuple1[2]))\n",
    "print(type(tuple1[3]))"
   ]
  },
  {
   "cell_type": "code",
   "execution_count": 57,
   "id": "ebc41362",
   "metadata": {},
   "outputs": [
    {
     "data": {
      "text/plain": [
       "'m'"
      ]
     },
     "execution_count": 57,
     "metadata": {},
     "output_type": "execute_result"
    }
   ],
   "source": [
    "# Use negative index to get the value of the last element\n",
    "\n",
    "tuple1[-1]"
   ]
  },
  {
   "cell_type": "markdown",
   "id": "870aa9cc",
   "metadata": {},
   "source": [
    "<h3 id=\"concate\">Concatenate Tuples</h3>"
   ]
  },
  {
   "cell_type": "code",
   "execution_count": 58,
   "id": "59321f8b",
   "metadata": {},
   "outputs": [
    {
     "data": {
      "text/plain": [
       "('Everest', 8449.0, 'm', 'the tallest mountain', 1)"
      ]
     },
     "execution_count": 58,
     "metadata": {},
     "output_type": "execute_result"
    }
   ],
   "source": [
    "# Concatenate two tuples\n",
    "tuple1 = (\"Everest\", 8449.0, \"m\" )\n",
    "\n",
    "tuple2 = tuple1 + (\"the tallest mountain\", 1)\n",
    "tuple2"
   ]
  },
  {
   "cell_type": "markdown",
   "id": "b18b7271",
   "metadata": {},
   "source": [
    "<h3 id=\"slice\">Slicing</h3>"
   ]
  },
  {
   "cell_type": "markdown",
   "id": "362a06bd",
   "metadata": {},
   "source": [
    "We can slice tuples to obtain new tuples with the corresponding elements: "
   ]
  },
  {
   "cell_type": "code",
   "execution_count": 59,
   "id": "ad4ea61d",
   "metadata": {},
   "outputs": [
    {
     "data": {
      "text/plain": [
       "('Everest', 8449.0, 'm')"
      ]
     },
     "execution_count": 59,
     "metadata": {},
     "output_type": "execute_result"
    }
   ],
   "source": [
    "# Slice from index 0 to index 2\n",
    "\n",
    "tuple2[0:3]"
   ]
  },
  {
   "cell_type": "code",
   "execution_count": 60,
   "id": "9a8d1d33",
   "metadata": {},
   "outputs": [
    {
     "data": {
      "text/plain": [
       "('the tallest mountain', 1)"
      ]
     },
     "execution_count": 60,
     "metadata": {},
     "output_type": "execute_result"
    }
   ],
   "source": [
    "# Slice from index 3 to index 4\n",
    "\n",
    "tuple2[3:5]"
   ]
  },
  {
   "cell_type": "code",
   "execution_count": 61,
   "id": "95d0bb27",
   "metadata": {},
   "outputs": [
    {
     "data": {
      "text/plain": [
       "5"
      ]
     },
     "execution_count": 61,
     "metadata": {},
     "output_type": "execute_result"
    }
   ],
   "source": [
    "# Get the length of tuple\n",
    "\n",
    "len(tuple2)"
   ]
  },
  {
   "cell_type": "markdown",
   "id": "27deb969",
   "metadata": {},
   "source": [
    "<h3 id=\"sort\">Sorting</h3>"
   ]
  },
  {
   "cell_type": "code",
   "execution_count": 62,
   "id": "5083c918",
   "metadata": {},
   "outputs": [
    {
     "data": {
      "text/plain": [
       "[0, 4, 5, 6, 7, 8, 9, 9, 10]"
      ]
     },
     "execution_count": 62,
     "metadata": {},
     "output_type": "execute_result"
    }
   ],
   "source": [
    "# A sample tuple\n",
    "\n",
    "Ratings = (0, 7, 6, 5, 10, 8, 9, 4, 9)\n",
    "\n",
    "# Sort the tuple\n",
    "\n",
    "RatingsSorted = sorted(Ratings)\n",
    "RatingsSorted"
   ]
  },
  {
   "cell_type": "markdown",
   "id": "740bde50",
   "metadata": {},
   "source": [
    "<h3 id=\"nest\">Nested Tuple</h3>"
   ]
  },
  {
   "cell_type": "markdown",
   "id": "f5262b8f",
   "metadata": {},
   "source": [
    "Tuples can be combined with other tuples to get more complex data types."
   ]
  },
  {
   "cell_type": "code",
   "execution_count": 63,
   "id": "77d525e3",
   "metadata": {},
   "outputs": [
    {
     "data": {
      "text/plain": [
       "(('Everest', 'K2'), (8849, 8611), ('rank', (1, 2)))"
      ]
     },
     "execution_count": 63,
     "metadata": {},
     "output_type": "execute_result"
    }
   ],
   "source": [
    "# Create a nest tuple\n",
    "\n",
    "NestedT =((\"Everest\", \"K2\") ,(8849,8611),(\"rank\",(1,2)))\n",
    "NestedT"
   ]
  },
  {
   "cell_type": "code",
   "execution_count": 64,
   "id": "e22fb557",
   "metadata": {},
   "outputs": [
    {
     "name": "stdout",
     "output_type": "stream",
     "text": [
      "Element 0, 0 of Tuple:  Everest\n",
      "Element 1, 1 of Tuple:  8611\n",
      "Element 2, 0 of Tuple:  rank\n",
      "Element 2, 1 of Tuple:  (1, 2)\n"
     ]
    }
   ],
   "source": [
    "# Print element on each index, including nest indexes\n",
    "\n",
    "print(\"Element 0, 0 of Tuple: \",   NestedT[0][0])\n",
    "print(\"Element 1, 1 of Tuple: \",   NestedT[1][1])\n",
    "print(\"Element 2, 0 of Tuple: \",   NestedT[2][0])\n",
    "print(\"Element 2, 1 of Tuple: \",   NestedT[2][1])"
   ]
  },
  {
   "cell_type": "markdown",
   "id": "74752b3e",
   "metadata": {},
   "source": [
    "<h1>Lists in Python</h1>"
   ]
  },
  {
   "cell_type": "markdown",
   "id": "d8f0a94a",
   "metadata": {},
   "source": [
    "This section is about the lists in the Python Programming Language. We will describe the basics list operations in Python, including indexing, list operations and copy/clone list."
   ]
  },
  {
   "cell_type": "markdown",
   "id": "75a95354",
   "metadata": {},
   "source": [
    "<h2>Table of Contents</h2>\n",
    "<div class=\"alert alert-block alert-info\" style=\"margin-top: 20px\">\n",
    "    <ul>\n",
    "        <li>\n",
    "            <a href=\"#list\">Lists</a>\n",
    "            <ul>\n",
    "                <li><a href=\"index\">Indexing</a></li>\n",
    "                <li><a href=\"content\">List Content</a></li>\n",
    "                <li><a href=\"op\">List Operations</a></li>\n",
    "                <li><a href=\"co\">Copy and Clone List</a></li>\n",
    "            </ul>\n",
    "        </li>\n",
    "</div>\n",
    "\n",
    "<hr>"
   ]
  },
  {
   "cell_type": "markdown",
   "id": "f94a44e0",
   "metadata": {},
   "source": [
    "<h2 id=\"list\">Lists</h2>"
   ]
  },
  {
   "cell_type": "markdown",
   "id": "57917a6c",
   "metadata": {},
   "source": [
    "List is also a collection of different data types: strings, integers and floats as in tuple. Those data objects are inclosed by <code> \"[]\" </code>."
   ]
  },
  {
   "cell_type": "markdown",
   "id": "aa651da3",
   "metadata": {},
   "source": [
    "<h3 id=\"index\">Indexing</h3>"
   ]
  },
  {
   "cell_type": "markdown",
   "id": "80b12951",
   "metadata": {},
   "source": [
    "A list is also a sequence of collection of different objects. Each element within a list can be obtained using its <b>index</b>"
   ]
  },
  {
   "cell_type": "code",
   "execution_count": 65,
   "id": "8a6679af",
   "metadata": {},
   "outputs": [
    {
     "data": {
      "text/plain": [
       "['Mt. Everest', 'Height', 8849.0, 'meters']"
      ]
     },
     "execution_count": 65,
     "metadata": {},
     "output_type": "execute_result"
    }
   ],
   "source": [
    "# Create a list\n",
    "\n",
    "L = [\"Mt. Everest\", \"Height\", 8849.0, \"meters\"]\n",
    "L"
   ]
  },
  {
   "cell_type": "code",
   "execution_count": 66,
   "id": "5937a197",
   "metadata": {},
   "outputs": [
    {
     "name": "stdout",
     "output_type": "stream",
     "text": [
      "the same element using negative and positive indexing:\n",
      " Postive: Mt. Everest \n",
      " Negative: Height\n",
      "the same element using negative and positive indexing:\n",
      " Postive: Height \n",
      " Negative: 8849.0\n",
      "the same element using negative and positive indexing:\n",
      " Postive: 8849.0 \n",
      " Negative: meters\n"
     ]
    }
   ],
   "source": [
    "# Print the elements on each index\n",
    "\n",
    "print('the same element using negative and positive indexing:\\n Postive:',L[0],\n",
    "'\\n Negative:' , L[-3]  )\n",
    "print('the same element using negative and positive indexing:\\n Postive:',L[1],\n",
    "'\\n Negative:' , L[-2]  )\n",
    "print('the same element using negative and positive indexing:\\n Postive:',L[2],\n",
    "'\\n Negative:' , L[-1]  )"
   ]
  },
  {
   "cell_type": "markdown",
   "id": "1995cc72",
   "metadata": {},
   "source": [
    "<h3 id=\"content\">List Content</h3>"
   ]
  },
  {
   "cell_type": "markdown",
   "id": "ebfa7343",
   "metadata": {},
   "source": [
    "Lists can contain strings, floats, and integers. We can nest other lists, and we can also nest tuples and other data structures. The same indexing conventions apply for nesting:"
   ]
  },
  {
   "cell_type": "code",
   "execution_count": 67,
   "id": "eb8a9c61",
   "metadata": {},
   "outputs": [],
   "source": [
    "# Sample List\n",
    "\n",
    "L = [[\"Mt. Everest\",\"K2\"], (1, 2), (\"Nepal\", \"Pakistan\"), \"Asia\"]"
   ]
  },
  {
   "cell_type": "code",
   "execution_count": 68,
   "id": "993bd252",
   "metadata": {},
   "outputs": [
    {
     "data": {
      "text/plain": [
       "[('Nepal', 'Pakistan'), 'Asia']"
      ]
     },
     "execution_count": 68,
     "metadata": {},
     "output_type": "execute_result"
    }
   ],
   "source": [
    "# List slicing\n",
    "\n",
    "L[2:4]"
   ]
  },
  {
   "cell_type": "code",
   "execution_count": 69,
   "id": "750cbec6",
   "metadata": {},
   "outputs": [
    {
     "data": {
      "text/plain": [
       "[['Mt. Everest', 'K2'], (1, 2), ('Nepal', 'Pakistan'), 'Asia', 8849, 8611]"
      ]
     },
     "execution_count": 69,
     "metadata": {},
     "output_type": "execute_result"
    }
   ],
   "source": [
    "# Use extend to add elements to list\n",
    "\n",
    "L.extend((8849,8611))\n",
    "L"
   ]
  },
  {
   "cell_type": "code",
   "execution_count": 70,
   "id": "072dda7d",
   "metadata": {},
   "outputs": [
    {
     "data": {
      "text/plain": [
       "[['Mt. Everest', 'K2'],\n",
       " (1, 2),\n",
       " ('Nepal', 'Pakistan'),\n",
       " 'Asia',\n",
       " 8849,\n",
       " 8611,\n",
       " ['First', 'Second']]"
      ]
     },
     "execution_count": 70,
     "metadata": {},
     "output_type": "execute_result"
    }
   ],
   "source": [
    "# Use append to add elements to list\n",
    "\n",
    "L.append(['First','Second'])\n",
    "L"
   ]
  },
  {
   "cell_type": "code",
   "execution_count": 71,
   "id": "e79b0717",
   "metadata": {},
   "outputs": [
    {
     "data": {
      "text/plain": [
       "['hard', 'rock']"
      ]
     },
     "execution_count": 71,
     "metadata": {},
     "output_type": "execute_result"
    }
   ],
   "source": [
    "# Split the string, default is by space\n",
    "\n",
    "'hard rock'.split()"
   ]
  },
  {
   "cell_type": "code",
   "execution_count": 72,
   "id": "5f2c2639",
   "metadata": {},
   "outputs": [
    {
     "data": {
      "text/plain": [
       "['hard', 'rock', 'duck']"
      ]
     },
     "execution_count": 72,
     "metadata": {},
     "output_type": "execute_result"
    }
   ],
   "source": [
    "# Split the string, default is by comma\n",
    "\n",
    "'hard,rock,duck'.split(\",\")"
   ]
  },
  {
   "cell_type": "markdown",
   "id": "a8c10659",
   "metadata": {},
   "source": [
    "<h1>Dictionaries in Python</h1>"
   ]
  },
  {
   "cell_type": "markdown",
   "id": "3e07ae80",
   "metadata": {},
   "source": [
    "This section will be about the dictionaries in the Python Programming Language. We describe the basics dictionary operations in Python."
   ]
  },
  {
   "cell_type": "markdown",
   "id": "16812ff7",
   "metadata": {},
   "source": [
    "<h2>Table of Contents</h2>\n",
    "<div class=\"alert alert-block alert-info\" style=\"margin-top: 20px\">\n",
    "    <ul>\n",
    "        <li>\n",
    "            <a href=\"#dic\">Dictionaries</a>\n",
    "            <ul>\n",
    "                <li><a href=\"key\">Keys</a></li>\n",
    "            </ul>\n",
    "</div>\n",
    "\n",
    "<hr>"
   ]
  },
  {
   "cell_type": "markdown",
   "id": "c9a04277",
   "metadata": {},
   "source": [
    "<h2 id=\"Dic\">Dictionaries</h2>"
   ]
  },
  {
   "cell_type": "markdown",
   "id": "45d2d3e6",
   "metadata": {},
   "source": [
    "A dictionary contains keys and values. It is helpful to compare a dictionary to a list. Instead of the numerical indexes such as a list, dictionaries have keys. These keys are the keys that are used to access values within a dictionary."
   ]
  },
  {
   "cell_type": "code",
   "execution_count": 73,
   "id": "014cdd55",
   "metadata": {},
   "outputs": [
    {
     "data": {
      "text/plain": [
       "{'key1': 1,\n",
       " 'key2': '2',\n",
       " 'key3': [3, 3, 3],\n",
       " 'key4': (4, 4, 4),\n",
       " 'key5': 5,\n",
       " (0, 1): 6}"
      ]
     },
     "execution_count": 73,
     "metadata": {},
     "output_type": "execute_result"
    }
   ],
   "source": [
    "# Create the dictionary\n",
    "\n",
    "Dict = {\"key1\": 1, \"key2\": \"2\", \"key3\": [3, 3, 3], \"key4\": (4, 4, 4), ('key5'): 5, (0, 1): 6}\n",
    "Dict"
   ]
  },
  {
   "cell_type": "code",
   "execution_count": 74,
   "id": "edb4cc6e",
   "metadata": {},
   "outputs": [
    {
     "data": {
      "text/plain": [
       "1"
      ]
     },
     "execution_count": 74,
     "metadata": {},
     "output_type": "execute_result"
    }
   ],
   "source": [
    "# Access to the value by the key\n",
    "\n",
    "Dict[\"key1\"]"
   ]
  },
  {
   "cell_type": "code",
   "execution_count": 75,
   "id": "e89b71f7",
   "metadata": {},
   "outputs": [
    {
     "data": {
      "text/plain": [
       "6"
      ]
     },
     "execution_count": 75,
     "metadata": {},
     "output_type": "execute_result"
    }
   ],
   "source": [
    "# Access to the value by the key\n",
    "\n",
    "Dict[(0, 1)]"
   ]
  },
  {
   "cell_type": "code",
   "execution_count": 76,
   "id": "f5583ee0",
   "metadata": {},
   "outputs": [
    {
     "data": {
      "text/plain": [
       "{'Thriller': '1982',\n",
       " 'Back in Black': '1980',\n",
       " 'The Dark Side of the Moon': '1973',\n",
       " 'The Bodyguard': '1992',\n",
       " 'Bat Out of Hell': '1977',\n",
       " 'Their Greatest Hits (1971-1975)': '1976',\n",
       " 'Saturday Night Fever': '1977',\n",
       " 'Rumours': '1977'}"
      ]
     },
     "execution_count": 76,
     "metadata": {},
     "output_type": "execute_result"
    }
   ],
   "source": [
    "# Create a sample dictionary\n",
    "\n",
    "release_year_dict = {\"Thriller\": \"1982\", \"Back in Black\": \"1980\", \\\n",
    "                    \"The Dark Side of the Moon\": \"1973\", \"The Bodyguard\": \"1992\", \\\n",
    "                    \"Bat Out of Hell\": \"1977\", \"Their Greatest Hits (1971-1975)\": \"1976\", \\\n",
    "                    \"Saturday Night Fever\": \"1977\", \"Rumours\": \"1977\"}\n",
    "release_year_dict"
   ]
  },
  {
   "cell_type": "markdown",
   "id": "1d995134",
   "metadata": {},
   "source": [
    "<h3 id=\"key\">Keys</h3>"
   ]
  },
  {
   "cell_type": "markdown",
   "id": "9b4f7673",
   "metadata": {},
   "source": [
    "We can assess the values based on the keys of the dictionary:"
   ]
  },
  {
   "cell_type": "code",
   "execution_count": 77,
   "id": "2a767225",
   "metadata": {},
   "outputs": [
    {
     "data": {
      "text/plain": [
       "'1982'"
      ]
     },
     "execution_count": 77,
     "metadata": {},
     "output_type": "execute_result"
    }
   ],
   "source": [
    "# Get value by keys\n",
    "\n",
    "release_year_dict['Thriller'] "
   ]
  },
  {
   "cell_type": "code",
   "execution_count": 78,
   "id": "11b2f493",
   "metadata": {},
   "outputs": [
    {
     "data": {
      "text/plain": [
       "'1992'"
      ]
     },
     "execution_count": 78,
     "metadata": {},
     "output_type": "execute_result"
    }
   ],
   "source": [
    "# Get value by key\n",
    "\n",
    "release_year_dict['The Bodyguard'] "
   ]
  },
  {
   "cell_type": "code",
   "execution_count": 79,
   "id": "e3c0647e",
   "metadata": {},
   "outputs": [
    {
     "data": {
      "text/plain": [
       "dict_keys(['Thriller', 'Back in Black', 'The Dark Side of the Moon', 'The Bodyguard', 'Bat Out of Hell', 'Their Greatest Hits (1971-1975)', 'Saturday Night Fever', 'Rumours'])"
      ]
     },
     "execution_count": 79,
     "metadata": {},
     "output_type": "execute_result"
    }
   ],
   "source": [
    "# Get all the keys in dictionary\n",
    "\n",
    "release_year_dict.keys() "
   ]
  },
  {
   "cell_type": "code",
   "execution_count": 80,
   "id": "dd3b246d",
   "metadata": {},
   "outputs": [
    {
     "data": {
      "text/plain": [
       "dict_values(['1982', '1980', '1973', '1992', '1977', '1976', '1977', '1977'])"
      ]
     },
     "execution_count": 80,
     "metadata": {},
     "output_type": "execute_result"
    }
   ],
   "source": [
    "# Get all the values in dictionary\n",
    "\n",
    "release_year_dict.values() "
   ]
  },
  {
   "cell_type": "code",
   "execution_count": 81,
   "id": "32d5bae6",
   "metadata": {},
   "outputs": [
    {
     "data": {
      "text/plain": [
       "{'Thriller': '1982',\n",
       " 'Back in Black': '1980',\n",
       " 'The Dark Side of the Moon': '1973',\n",
       " 'The Bodyguard': '1992',\n",
       " 'Bat Out of Hell': '1977',\n",
       " 'Their Greatest Hits (1971-1975)': '1976',\n",
       " 'Saturday Night Fever': '1977',\n",
       " 'Rumours': '1977',\n",
       " 'Graduation': '2007'}"
      ]
     },
     "execution_count": 81,
     "metadata": {},
     "output_type": "execute_result"
    }
   ],
   "source": [
    "# Append value with key into dictionary\n",
    "\n",
    "release_year_dict['Graduation'] = '2007'\n",
    "release_year_dict"
   ]
  },
  {
   "cell_type": "code",
   "execution_count": 82,
   "id": "09c79aec",
   "metadata": {},
   "outputs": [
    {
     "data": {
      "text/plain": [
       "{'Back in Black': '1980',\n",
       " 'The Dark Side of the Moon': '1973',\n",
       " 'The Bodyguard': '1992',\n",
       " 'Bat Out of Hell': '1977',\n",
       " 'Their Greatest Hits (1971-1975)': '1976',\n",
       " 'Saturday Night Fever': '1977',\n",
       " 'Rumours': '1977'}"
      ]
     },
     "execution_count": 82,
     "metadata": {},
     "output_type": "execute_result"
    }
   ],
   "source": [
    "# Delete entries by key\n",
    "\n",
    "del(release_year_dict['Thriller'])\n",
    "del(release_year_dict['Graduation'])\n",
    "release_year_dict"
   ]
  },
  {
   "cell_type": "code",
   "execution_count": 83,
   "id": "8bc4c4a0",
   "metadata": {},
   "outputs": [
    {
     "data": {
      "text/plain": [
       "True"
      ]
     },
     "execution_count": 83,
     "metadata": {},
     "output_type": "execute_result"
    }
   ],
   "source": [
    "# Verify the key is in the dictionary\n",
    "\n",
    "'The Bodyguard' in release_year_dict"
   ]
  },
  {
   "cell_type": "markdown",
   "id": "b2e24975",
   "metadata": {},
   "source": [
    "<h1>Sets in Python</h1>"
   ]
  },
  {
   "cell_type": "markdown",
   "id": "f7ea490a",
   "metadata": {},
   "source": [
    "Set is a collection of distinct objects. \n",
    "This section will describe about sets and sets operation in the Python Programming Language."
   ]
  },
  {
   "cell_type": "markdown",
   "id": "c18b319c",
   "metadata": {},
   "source": [
    "<h2>Table of Contents</h2>\n",
    "<div class=\"alert alert-block alert-info\" style=\"margin-top: 20px\">\n",
    "    <ul>\n",
    "        <li><a href=\"content\">Set Content</a></li>\n",
    "         <li><a href=\"op\">Set Operations</a></li>\n",
    "         <li><a href=\"logic\">Sets Logic Operations</a></li>\n",
    "         </ul>\n",
    "     </li>\n",
    "</div>\n",
    "\n",
    "<hr>"
   ]
  },
  {
   "cell_type": "code",
   "execution_count": 84,
   "id": "c6877d00",
   "metadata": {},
   "outputs": [
    {
     "data": {
      "text/plain": [
       "{'R&B', 'disco', 'hard rock', 'pop', 'rock', 'soul'}"
      ]
     },
     "execution_count": 84,
     "metadata": {},
     "output_type": "execute_result"
    }
   ],
   "source": [
    "# Create a set\n",
    "\n",
    "set1 = {\"pop\", \"rock\", \"soul\", \"hard rock\", \"rock\", \"R&B\", \"rock\", \"disco\"}\n",
    "set1"
   ]
  },
  {
   "cell_type": "code",
   "execution_count": 85,
   "id": "00975ae9",
   "metadata": {},
   "outputs": [
    {
     "data": {
      "text/plain": [
       "{'00:42:19',\n",
       " 10.0,\n",
       " 1982,\n",
       " '30-Nov-82',\n",
       " 46.0,\n",
       " 65,\n",
       " 'Michael Jackson',\n",
       " None,\n",
       " 'Pop, Rock, R&B',\n",
       " 'Thriller'}"
      ]
     },
     "execution_count": 85,
     "metadata": {},
     "output_type": "execute_result"
    }
   ],
   "source": [
    "# Convert list to set\n",
    "\n",
    "album_list = [ \"Michael Jackson\", \"Thriller\", 1982, \"00:42:19\", \\\n",
    "              \"Pop, Rock, R&B\", 46.0, 65, \"30-Nov-82\", None, 10.0]\n",
    "album_set = set(album_list)             \n",
    "album_set"
   ]
  },
  {
   "cell_type": "code",
   "execution_count": 86,
   "id": "0398e797",
   "metadata": {},
   "outputs": [
    {
     "data": {
      "text/plain": [
       "{'R&B',\n",
       " 'disco',\n",
       " 'folk rock',\n",
       " 'hard rock',\n",
       " 'pop',\n",
       " 'progressive rock',\n",
       " 'rock',\n",
       " 'soft rock',\n",
       " 'soul'}"
      ]
     },
     "execution_count": 86,
     "metadata": {},
     "output_type": "execute_result"
    }
   ],
   "source": [
    "# Convert list to set\n",
    "\n",
    "music_genres = set([\"pop\", \"pop\", \"rock\", \"folk rock\", \"hard rock\", \"soul\", \\\n",
    "                    \"progressive rock\", \"soft rock\", \"R&B\", \"disco\"])\n",
    "music_genres"
   ]
  },
  {
   "cell_type": "markdown",
   "id": "6c5fb489",
   "metadata": {},
   "source": [
    "<h3 id=\"op\">Set Operations</h3> "
   ]
  },
  {
   "cell_type": "code",
   "execution_count": 87,
   "id": "6eaf1eec",
   "metadata": {},
   "outputs": [
    {
     "data": {
      "text/plain": [
       "{'AC/DC', 'Back in Black', 'Thriller'}"
      ]
     },
     "execution_count": 87,
     "metadata": {},
     "output_type": "execute_result"
    }
   ],
   "source": [
    "# Sample set\n",
    "\n",
    "A = set([\"Thriller\", \"Back in Black\", \"AC/DC\"])\n",
    "A"
   ]
  },
  {
   "cell_type": "code",
   "execution_count": 88,
   "id": "2dca86c8",
   "metadata": {},
   "outputs": [
    {
     "data": {
      "text/plain": [
       "{'ABCD', 'AC/DC', 'Back in Black', 'Thriller'}"
      ]
     },
     "execution_count": 88,
     "metadata": {},
     "output_type": "execute_result"
    }
   ],
   "source": [
    "A.add(\"ABCD\")\n",
    "A"
   ]
  },
  {
   "cell_type": "code",
   "execution_count": 89,
   "id": "4fad30c3",
   "metadata": {},
   "outputs": [
    {
     "data": {
      "text/plain": [
       "{'AC/DC', 'Back in Black', 'Thriller'}"
      ]
     },
     "execution_count": 89,
     "metadata": {},
     "output_type": "execute_result"
    }
   ],
   "source": [
    "# Remove the element from set\n",
    "\n",
    "A.remove(\"ABCD\")\n",
    "A"
   ]
  },
  {
   "cell_type": "code",
   "execution_count": 90,
   "id": "28c03c21",
   "metadata": {},
   "outputs": [
    {
     "data": {
      "text/plain": [
       "True"
      ]
     },
     "execution_count": 90,
     "metadata": {},
     "output_type": "execute_result"
    }
   ],
   "source": [
    "# Verify if the element is in the set\n",
    "\n",
    "\"AC/DC\" in A"
   ]
  },
  {
   "cell_type": "markdown",
   "id": "e82c7e12",
   "metadata": {},
   "source": [
    "<h3 id=\"logic\">Sets Logic Operations</h3>"
   ]
  },
  {
   "cell_type": "code",
   "execution_count": 91,
   "id": "d9833ddd",
   "metadata": {},
   "outputs": [],
   "source": [
    "# Sample Sets\n",
    "\n",
    "album_set1 = set([\"Thriller\", 'AC/DC', 'Back in Black'])\n",
    "album_set2 = set([ \"AC/DC\", \"Back in Black\", \"The Dark Side of the Moon\"])"
   ]
  },
  {
   "cell_type": "code",
   "execution_count": 92,
   "id": "26a44303",
   "metadata": {},
   "outputs": [
    {
     "data": {
      "text/plain": [
       "({'AC/DC', 'Back in Black', 'Thriller'},\n",
       " {'AC/DC', 'Back in Black', 'The Dark Side of the Moon'})"
      ]
     },
     "execution_count": 92,
     "metadata": {},
     "output_type": "execute_result"
    }
   ],
   "source": [
    "# Print two sets\n",
    "\n",
    "album_set1, album_set2"
   ]
  },
  {
   "cell_type": "code",
   "execution_count": 93,
   "id": "ea8c62d2",
   "metadata": {},
   "outputs": [
    {
     "data": {
      "text/plain": [
       "{'AC/DC', 'Back in Black'}"
      ]
     },
     "execution_count": 93,
     "metadata": {},
     "output_type": "execute_result"
    }
   ],
   "source": [
    "# Find the intersections\n",
    "\n",
    "intersection = album_set1 & album_set2\n",
    "intersection"
   ]
  },
  {
   "cell_type": "code",
   "execution_count": 94,
   "id": "d19fa06d",
   "metadata": {},
   "outputs": [
    {
     "data": {
      "text/plain": [
       "{'Thriller'}"
      ]
     },
     "execution_count": 94,
     "metadata": {},
     "output_type": "execute_result"
    }
   ],
   "source": [
    "# Find the difference in set1 but not set2\n",
    "\n",
    "album_set1.difference(album_set2)  "
   ]
  },
  {
   "cell_type": "code",
   "execution_count": 95,
   "id": "627288b8",
   "metadata": {},
   "outputs": [
    {
     "data": {
      "text/plain": [
       "{'The Dark Side of the Moon'}"
      ]
     },
     "execution_count": 95,
     "metadata": {},
     "output_type": "execute_result"
    }
   ],
   "source": [
    "album_set2.difference(album_set1) "
   ]
  },
  {
   "cell_type": "code",
   "execution_count": 96,
   "id": "ba7ac204",
   "metadata": {},
   "outputs": [
    {
     "data": {
      "text/plain": [
       "{'AC/DC', 'Back in Black'}"
      ]
     },
     "execution_count": 96,
     "metadata": {},
     "output_type": "execute_result"
    }
   ],
   "source": [
    "# Use intersection method to find the intersection of album_list1 and album_list2\n",
    "\n",
    "album_set1.intersection(album_set2)  "
   ]
  },
  {
   "cell_type": "code",
   "execution_count": 97,
   "id": "33655251",
   "metadata": {},
   "outputs": [
    {
     "data": {
      "text/plain": [
       "{'Thriller'}"
      ]
     },
     "execution_count": 97,
     "metadata": {},
     "output_type": "execute_result"
    }
   ],
   "source": [
    "# Find the difference\n",
    "\n",
    "difference = album_set1 - album_set2\n",
    "difference"
   ]
  },
  {
   "cell_type": "code",
   "execution_count": 143,
   "id": "72780afd",
   "metadata": {},
   "outputs": [
    {
     "data": {
      "text/plain": [
       "{'AC/DC', 'Back in Black', 'The Dark Side of the Moon', 'Thriller'}"
      ]
     },
     "execution_count": 143,
     "metadata": {},
     "output_type": "execute_result"
    }
   ],
   "source": [
    "# Find the union\n",
    "\n",
    "album_set1.union(album_set2)  "
   ]
  },
  {
   "cell_type": "code",
   "execution_count": 144,
   "id": "05defbf8",
   "metadata": {},
   "outputs": [
    {
     "data": {
      "text/plain": [
       "False"
      ]
     },
     "execution_count": 144,
     "metadata": {},
     "output_type": "execute_result"
    }
   ],
   "source": [
    "# Check if superset\n",
    "\n",
    "set(album_set1).issuperset(album_set2)   "
   ]
  },
  {
   "cell_type": "code",
   "execution_count": 149,
   "id": "f414c9c2",
   "metadata": {},
   "outputs": [
    {
     "data": {
      "text/plain": [
       "True"
      ]
     },
     "execution_count": 149,
     "metadata": {},
     "output_type": "execute_result"
    }
   ],
   "source": [
    "# Check if superset\n",
    "\n",
    "set(album_set1).issuperset(difference) "
   ]
  },
  {
   "cell_type": "code",
   "execution_count": 145,
   "id": "979b1337",
   "metadata": {},
   "outputs": [
    {
     "data": {
      "text/plain": [
       "True"
      ]
     },
     "execution_count": 145,
     "metadata": {},
     "output_type": "execute_result"
    }
   ],
   "source": [
    "# Check if subset\n",
    "\n",
    "set({\"Back in Black\", \"AC/DC\"}).issubset(album_set1) "
   ]
  },
  {
   "cell_type": "code",
   "execution_count": 150,
   "id": "46b1d3d5",
   "metadata": {},
   "outputs": [
    {
     "data": {
      "text/plain": [
       "{'electronic music', 'house', 'rap'}"
      ]
     },
     "execution_count": 150,
     "metadata": {},
     "output_type": "execute_result"
    }
   ],
   "source": [
    "# Write your code below and press Shift+Enter to execute\n",
    "list_to_set = set(['rap','house','electronic music', 'rap'])\n",
    "list_to_set"
   ]
  },
  {
   "cell_type": "code",
   "execution_count": 151,
   "id": "ae3d1e82",
   "metadata": {},
   "outputs": [
    {
     "name": "stdout",
     "output_type": "stream",
     "text": [
      "the sum of A is: 6\n",
      "the sum of B is: 3\n"
     ]
    }
   ],
   "source": [
    "# Write your code below and press Shift+Enter to execute\n",
    "A = [1, 2, 2, 1] \n",
    "B = set([1, 2, 2, 1])\n",
    "sum(A) == sum(B)\n",
    "print(\"the sum of A is:\", sum(A))\n",
    "print(\"the sum of B is:\", sum(B))"
   ]
  },
  {
   "cell_type": "markdown",
   "id": "618e9579",
   "metadata": {},
   "source": [
    "<h1>Conditions in Python</h1>"
   ]
  },
  {
   "cell_type": "markdown",
   "id": "8fe536ad",
   "metadata": {},
   "source": [
    "Conditional statements are very useful to define specific constraints or rules in programming languages. Such conditional statements can be used in comparision and branching. We mainly use condition oprators if, else if, else to check whether the specified conditions satisfy.   "
   ]
  },
  {
   "cell_type": "markdown",
   "id": "854b0892",
   "metadata": {},
   "source": [
    "Based on the condition statements we can define comparison operators to compare some values or varaibles. The comparison operators produce the Boolean values: <code>True</code> or  <code>False</code>. The most common comparison ( or logical ) operators are :\n",
    "<ul>\n",
    "    <li>equal: <b>==</b></li>\n",
    "    <li>not equal: <b>!=</b></li>\n",
    "    <li>greater than: <b>></b></li>\n",
    "    <li>less than: <b>&lt;</b></li>\n",
    "    <li>greater than or equal to: <b>>=</b></li>\n",
    "    <li>less than or equal to: <b>&lt;=</b></li>\n",
    "</ul>"
   ]
  },
  {
   "cell_type": "code",
   "execution_count": 3,
   "id": "bfe435bd",
   "metadata": {},
   "outputs": [
    {
     "data": {
      "text/plain": [
       "False"
      ]
     },
     "execution_count": 3,
     "metadata": {},
     "output_type": "execute_result"
    }
   ],
   "source": [
    "# Condition equal\n",
    "\n",
    "x = 7\n",
    "y = 6\n",
    "x == y"
   ]
  },
  {
   "cell_type": "code",
   "execution_count": 5,
   "id": "df36fdb3",
   "metadata": {},
   "outputs": [
    {
     "data": {
      "text/plain": [
       "True"
      ]
     },
     "execution_count": 5,
     "metadata": {},
     "output_type": "execute_result"
    }
   ],
   "source": [
    "# Condition greater\n",
    "\n",
    "x = 7\n",
    "y = 6\n",
    "x > y"
   ]
  },
  {
   "cell_type": "code",
   "execution_count": 6,
   "id": "2999937c",
   "metadata": {},
   "outputs": [
    {
     "data": {
      "text/plain": [
       "True"
      ]
     },
     "execution_count": 6,
     "metadata": {},
     "output_type": "execute_result"
    }
   ],
   "source": [
    "# Inequality Sign\n",
    "\n",
    "x = 7\n",
    "x != 6"
   ]
  },
  {
   "cell_type": "code",
   "execution_count": 9,
   "id": "0ae983c9",
   "metadata": {},
   "outputs": [
    {
     "data": {
      "text/plain": [
       "False"
      ]
     },
     "execution_count": 9,
     "metadata": {},
     "output_type": "execute_result"
    }
   ],
   "source": [
    "# Use Equality sign to compare the strings\n",
    "\n",
    "\"Mt. K2\" == \"Mt. Everest\""
   ]
  },
  {
   "cell_type": "code",
   "execution_count": 10,
   "id": "a7884bee",
   "metadata": {},
   "outputs": [
    {
     "data": {
      "text/plain": [
       "True"
      ]
     },
     "execution_count": 10,
     "metadata": {},
     "output_type": "execute_result"
    }
   ],
   "source": [
    "# Use Equality sign to compare the strings\n",
    "\n",
    "\"Mt. K2\" != \"Mt. Everest\""
   ]
  },
  {
   "cell_type": "code",
   "execution_count": 14,
   "id": "6efe1ad8",
   "metadata": {},
   "outputs": [
    {
     "name": "stdout",
     "output_type": "stream",
     "text": [
      "x is odd\n"
     ]
    }
   ],
   "source": [
    "# If statement example\n",
    "\n",
    "x = 5\n",
    "\n",
    "#expression that can be true or false\n",
    "if x%2 == 0:\n",
    "    \n",
    "    #within an indent, we have the expression that is run if the condition is true\n",
    "    print(\"x is even\" )\n",
    "else:\n",
    "     #within an indent, we have the expression that is run if the condition is False\n",
    "    print(\"x is odd\")"
   ]
  },
  {
   "cell_type": "code",
   "execution_count": 80,
   "id": "4fec725e",
   "metadata": {},
   "outputs": [
    {
     "name": "stdout",
     "output_type": "stream",
     "text": [
      "ready to go school\n"
     ]
    }
   ],
   "source": [
    "# Elif statment example\n",
    "kids_age = 4\n",
    "if kids_age < 1:\n",
    "    print(\"Infant\")\n",
    "elif kids_age <4:\n",
    "    print(\"Toddler\")\n",
    "else:\n",
    "    print(\"ready to go school\")"
   ]
  },
  {
   "cell_type": "code",
   "execution_count": 93,
   "id": "ad91f857",
   "metadata": {},
   "outputs": [
    {
     "name": "stdout",
     "output_type": "stream",
     "text": [
      "combo order\n"
     ]
    }
   ],
   "source": [
    "Food_order = [\"Food\", \"drink\"]\n",
    "\n",
    "#Food_order = \"chips\"\n",
    "\n",
    "if \"Food\" in Food_order and \"drink\" in Food_order:\n",
    "    print(\"combo order\")\n",
    "elif \"Food\" in Food_order:\n",
    "    print(\"Food order only\")\n",
    "elif \"drink\" in Food_order:\n",
    "    print(\"drink order only\")\n",
    "else:\n",
    "    print(\"something else\")  "
   ]
  },
  {
   "cell_type": "code",
   "execution_count": 153,
   "id": "c016af42",
   "metadata": {},
   "outputs": [
    {
     "name": "stdout",
     "output_type": "stream",
     "text": [
      "sum is odd\n"
     ]
    }
   ],
   "source": [
    "# check sum is even or odd\n",
    "x, y = 4, 7\n",
    "if x%2 == 0 and y%2 == 0: #both are odds\n",
    "    print(\"sum is even\")\n",
    "elif x%2 != 0 and y%2 != 0: #both are odds\n",
    "    print(\"sum is even\")\n",
    "else:\n",
    "    print(\"sum is odd\")"
   ]
  },
  {
   "cell_type": "markdown",
   "id": "c98fab35",
   "metadata": {},
   "source": [
    "<h2>Loops in Python</h2>"
   ]
  },
  {
   "cell_type": "markdown",
   "id": "42f60ccb",
   "metadata": {},
   "source": [
    "Loops are highly useful for iterating over a any kind of sequence objects such as list, tuple,  dictionary, set, or string."
   ]
  },
  {
   "cell_type": "markdown",
   "id": "9c1ab00a",
   "metadata": {},
   "source": [
    "<h2>Table of Contents</h2>\n",
    "\n",
    "<div class=\"alert alert-block alert-info\" style=\"margin-top: 20px\">\n",
    "    <ul>\n",
    "        <li>\n",
    "            <a href=\"#loop\">Loops</a>\n",
    "            <ul>\n",
    "                <li><a href=\"range\">Range</a></li>\n",
    "                <li><a href=\"for\"> <code>for</code> loop</a></li>\n",
    "                <li><a href=\"while\"><code>while</code> loop</a></li>\n",
    "            </ul>\n",
    "        </li>\n",
    "</div>\n",
    "\n",
    "<hr>"
   ]
  },
  {
   "cell_type": "markdown",
   "id": "b7970d8a",
   "metadata": {},
   "source": [
    "2+3"
   ]
  },
  {
   "cell_type": "code",
   "execution_count": 2,
   "id": "47be9aa4-8fb2-4907-a8c9-416a526cb691",
   "metadata": {},
   "outputs": [],
   "source": [
    "# for dropdown menu\n",
    "%config IPCompleter.greedy = True"
   ]
  },
  {
   "cell_type": "code",
   "execution_count": 3,
   "id": "93223515",
   "metadata": {},
   "outputs": [
    {
     "data": {
      "text/plain": [
       "3"
      ]
     },
     "execution_count": 3,
     "metadata": {},
     "output_type": "execute_result"
    }
   ],
   "source": [
    "#to get menu put . after the object and then press tab, you will see the drop down menu\n",
    "a = 5\n",
    "a.bit_length()"
   ]
  },
  {
   "cell_type": "code",
   "execution_count": 7,
   "id": "66e1ce1a",
   "metadata": {},
   "outputs": [],
   "source": [
    "#find Docstring of the functions\n",
    "# finding the docsting will help us to understnd the argments of the functions\n",
    "?print"
   ]
  },
  {
   "cell_type": "code",
   "execution_count": 6,
   "id": "baaeb56d",
   "metadata": {},
   "outputs": [],
   "source": [
    "?type"
   ]
  },
  {
   "cell_type": "code",
   "execution_count": 11,
   "id": "d4851ff2",
   "metadata": {},
   "outputs": [
    {
     "data": {
      "text/plain": [
       "<function print>"
      ]
     },
     "execution_count": 11,
     "metadata": {},
     "output_type": "execute_result"
    }
   ],
   "source": [
    "#we can try function->shift->tab\n",
    "print"
   ]
  },
  {
   "cell_type": "code",
   "execution_count": 16,
   "id": "c66998f0",
   "metadata": {},
   "outputs": [],
   "source": [
    "#built in functions in python\n",
    "#dir(__builtins__)"
   ]
  },
  {
   "cell_type": "markdown",
   "id": "67e65cd1",
   "metadata": {},
   "source": [
    "- jupyter lab allow to copy cells from one notebook to another but not by the jupyter notebook\n",
    "- help short cut key are in note book\n",
    "- find and replace are in note book but not in lab"
   ]
  },
  {
   "cell_type": "markdown",
   "id": "ccf93866",
   "metadata": {},
   "source": [
    "- Find and replace: Go to edit at the top (next to file) and drop down to see find and replace"
   ]
  },
  {
   "cell_type": "markdown",
   "id": "14118817",
   "metadata": {},
   "source": [
    "- enter m to change the cell to markdown cell\n",
    "- enter y to get back to code cell\n",
    "- enter esc a to insert a cell above and esc b to enter a cell below\n",
    "- d d twice to delete the cell"
   ]
  },
  {
   "cell_type": "markdown",
   "id": "2e8bb3b1",
   "metadata": {},
   "source": [
    "- f strings works as the same job as fromat function does"
   ]
  },
  {
   "cell_type": "code",
   "execution_count": 25,
   "id": "6f50694b",
   "metadata": {},
   "outputs": [
    {
     "name": "stdout",
     "output_type": "stream",
     "text": [
      "My name is surya and my work experience is 5 years\n"
     ]
    }
   ],
   "source": [
    "work_exp = 5\n",
    "name = \"Sam\"\n",
    "print(\"My name is {} and my work experience is {} years\".format(name, work_exp))"
   ]
  },
  {
   "cell_type": "code",
   "execution_count": 26,
   "id": "125f76c8",
   "metadata": {},
   "outputs": [
    {
     "name": "stdout",
     "output_type": "stream",
     "text": [
      "My name is surya and my work experience is 5 years\n"
     ]
    }
   ],
   "source": [
    "print(f\"My name is {name} and my work experience is {work_exp} years\")"
   ]
  },
  {
   "cell_type": "markdown",
   "id": "bb6b8c21",
   "metadata": {},
   "source": [
    "- Link\n",
    "https://www.geeksforgeeks.org/formatted-string-literals-f-strings-python/"
   ]
  },
  {
   "cell_type": "markdown",
   "id": "52eb3dcf",
   "metadata": {},
   "source": [
    "## List \n",
    "\n",
    "- that can take hetrogeneous data structures (various data types are allowed)"
   ]
  },
  {
   "cell_type": "markdown",
   "id": "2149de84",
   "metadata": {},
   "source": [
    "- to find the info of an object or function press object -> shift -> tab "
   ]
  },
  {
   "cell_type": "code",
   "execution_count": null,
   "id": "e21400f7",
   "metadata": {},
   "outputs": [],
   "source": []
  }
 ],
 "metadata": {
  "kernelspec": {
   "display_name": "Python 3 (ipykernel)",
   "language": "python",
   "name": "python3"
  },
  "language_info": {
   "codemirror_mode": {
    "name": "ipython",
    "version": 3
   },
   "file_extension": ".py",
   "mimetype": "text/x-python",
   "name": "python",
   "nbconvert_exporter": "python",
   "pygments_lexer": "ipython3",
   "version": "3.9.12"
  }
 },
 "nbformat": 4,
 "nbformat_minor": 5
}
